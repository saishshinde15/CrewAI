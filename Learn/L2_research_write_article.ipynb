{
 "cells": [
  {
   "cell_type": "markdown",
   "metadata": {},
   "source": [
    "You can download the `requirements.txt` for this course from the workspace of this lab. `File --> Open...`"
   ]
  },
  {
   "cell_type": "markdown",
   "metadata": {},
   "source": [
    "# L2: Create Agents to Research and Write an Article\n",
    "\n",
    "In this lesson, you will be introduced to the foundational concepts of multi-agent systems and get an overview of the crewAI framework."
   ]
  },
  {
   "cell_type": "markdown",
   "metadata": {},
   "source": [
    "The libraries are already installed in the classroom. If you're running this notebook on your own machine, you can install the following:\n",
    "```Python\n",
    "!pip install crewai==0.28.8 crewai_tools==0.1.6 langchain_community==0.0.29\n",
    "```"
   ]
  },
  {
   "cell_type": "code",
   "execution_count": null,
   "metadata": {
    "height": 64
   },
   "outputs": [],
   "source": [
    "# Warning control\n",
    "import warnings\n",
    "warnings.filterwarnings('ignore')"
   ]
  },
  {
   "cell_type": "markdown",
   "metadata": {},
   "source": [
    "- Import from the crewAI libray."
   ]
  },
  {
   "cell_type": "code",
   "execution_count": 1,
   "metadata": {
    "height": 30
   },
   "outputs": [],
   "source": [
    "from crewai import Agent, Task, Crew"
   ]
  },
  {
   "cell_type": "markdown",
   "metadata": {},
   "source": [
    "- As a LLM for your agents, you'll be using OpenAI's `gpt-3.5-turbo`.\n",
    "\n",
    "**Optional Note:** crewAI also allow other popular models to be used as a LLM for your Agents. You can see some of the examples at the [bottom of the notebook](#1)."
   ]
  },
  {
   "cell_type": "code",
   "execution_count": 2,
   "metadata": {
    "height": 98
   },
   "outputs": [],
   "source": [
    "import os\n",
    "from utils import get_openai_api_key\n",
    "\n",
    "openai_api_key = get_openai_api_key()\n",
    "os.environ[\"OPENAI_MODEL_NAME\"] = 'gpt-3.5-turbo'"
   ]
  },
  {
   "cell_type": "markdown",
   "metadata": {},
   "source": [
    "## Creating Agents\n",
    "\n",
    "- Define your Agents, and provide them a `role`, `goal` and `backstory`.\n",
    "- It has been seen that LLMs perform better when they are role playing."
   ]
  },
  {
   "cell_type": "markdown",
   "metadata": {},
   "source": [
    "### Agent: Planner\n",
    "\n",
    "**Note**: The benefit of using _multiple strings_ :\n",
    "```Python\n",
    "varname = \"line 1 of text\"\n",
    "          \"line 2 of text\"\n",
    "```\n",
    "\n",
    "versus the _triple quote docstring_:\n",
    "```Python\n",
    "varname = \"\"\"line 1 of text\n",
    "             line 2 of text\n",
    "          \"\"\"\n",
    "```\n",
    "is that it can avoid adding those whitespaces and newline characters, making it better formatted to be passed to the LLM."
   ]
  },
  {
   "cell_type": "code",
   "execution_count": 3,
   "metadata": {
    "height": 234
   },
   "outputs": [],
   "source": [
    "planner = Agent(\n",
    "    role=\"Content Planner\",\n",
    "    goal=\"Plan engaging and factually accurate content on {topic}\",\n",
    "    backstory=\"You're working on planning a blog article \"\n",
    "              \"about the topic: {topic}.\"\n",
    "              \"You collect information that helps the \"\n",
    "              \"audience learn something \"\n",
    "              \"and make informed decisions. \"\n",
    "              \"Your work is the basis for \"\n",
    "              \"the Content Writer to write an article on this topic.\",\n",
    "    allow_delegation=False,\n",
    "\tverbose=True\n",
    ")"
   ]
  },
  {
   "cell_type": "markdown",
   "metadata": {},
   "source": [
    "### Agent: Writer"
   ]
  },
  {
   "cell_type": "code",
   "execution_count": 4,
   "metadata": {
    "height": 370
   },
   "outputs": [],
   "source": [
    "writer = Agent(\n",
    "    role=\"Content Writer\",\n",
    "    goal=\"Write insightful and factually accurate \"\n",
    "         \"opinion piece about the topic: {topic}\",\n",
    "    backstory=\"You're working on a writing \"\n",
    "              \"a new opinion piece about the topic: {topic}. \"\n",
    "              \"You base your writing on the work of \"\n",
    "              \"the Content Planner, who provides an outline \"\n",
    "              \"and relevant context about the topic. \"\n",
    "              \"You follow the main objectives and \"\n",
    "              \"direction of the outline, \"\n",
    "              \"as provide by the Content Planner. \"\n",
    "              \"You also provide objective and impartial insights \"\n",
    "              \"and back them up with information \"\n",
    "              \"provide by the Content Planner. \"\n",
    "              \"You acknowledge in your opinion piece \"\n",
    "              \"when your statements are opinions \"\n",
    "              \"as opposed to objective statements.\",\n",
    "    allow_delegation=False,\n",
    "    verbose=True\n",
    ")"
   ]
  },
  {
   "cell_type": "markdown",
   "metadata": {},
   "source": [
    "### Agent: Editor"
   ]
  },
  {
   "cell_type": "code",
   "execution_count": 5,
   "metadata": {
    "height": 268
   },
   "outputs": [],
   "source": [
    "editor = Agent(\n",
    "    role=\"Editor\",\n",
    "    goal=\"Edit a given blog post to align with \"\n",
    "         \"the writing style of the organization. \",\n",
    "    backstory=\"You are an editor who receives a blog post \"\n",
    "              \"from the Content Writer. \"\n",
    "              \"Your goal is to review the blog post \"\n",
    "              \"to ensure that it follows journalistic best practices,\"\n",
    "              \"provides balanced viewpoints \"\n",
    "              \"when providing opinions or assertions, \"\n",
    "              \"and also avoids major controversial topics \"\n",
    "              \"or opinions when possible.\",\n",
    "    allow_delegation=False,\n",
    "    verbose=True\n",
    ")"
   ]
  },
  {
   "cell_type": "markdown",
   "metadata": {},
   "source": [
    "## Creating Tasks\n",
    "\n",
    "- Define your Tasks, and provide them a `description`, `expected_output` and `agent`."
   ]
  },
  {
   "cell_type": "markdown",
   "metadata": {},
   "source": [
    "### Task: Plan"
   ]
  },
  {
   "cell_type": "code",
   "execution_count": 6,
   "metadata": {
    "height": 268
   },
   "outputs": [],
   "source": [
    "plan = Task(\n",
    "    description=(\n",
    "        \"1. Prioritize the latest trends, key players, \"\n",
    "            \"and noteworthy news on {topic}.\\n\"\n",
    "        \"2. Identify the target audience, considering \"\n",
    "            \"their interests and pain points.\\n\"\n",
    "        \"3. Develop a detailed content outline including \"\n",
    "            \"an introduction, key points, and a call to action.\\n\"\n",
    "        \"4. Include SEO keywords and relevant data or sources.\"\n",
    "    ),\n",
    "    expected_output=\"A comprehensive content plan document \"\n",
    "        \"with an outline, audience analysis, \"\n",
    "        \"SEO keywords, and resources.\",\n",
    "    agent=planner,\n",
    ")"
   ]
  },
  {
   "cell_type": "markdown",
   "metadata": {},
   "source": [
    "### Task: Write"
   ]
  },
  {
   "cell_type": "code",
   "execution_count": 7,
   "metadata": {
    "height": 319
   },
   "outputs": [],
   "source": [
    "write = Task(\n",
    "    description=(\n",
    "        \"1. Use the content plan to craft a compelling \"\n",
    "            \"blog post on {topic}.\\n\"\n",
    "        \"2. Incorporate SEO keywords naturally.\\n\"\n",
    "\t\t\"3. Sections/Subtitles are properly named \"\n",
    "            \"in an engaging manner.\\n\"\n",
    "        \"4. Ensure the post is structured with an \"\n",
    "            \"engaging introduction, insightful body, \"\n",
    "            \"and a summarizing conclusion.\\n\"\n",
    "        \"5. Proofread for grammatical errors and \"\n",
    "            \"alignment with the brand's voice.\\n\"\n",
    "    ),\n",
    "    expected_output=\"A well-written blog post \"\n",
    "        \"in markdown format, ready for publication, \"\n",
    "        \"each section should have 2 or 3 paragraphs.\",\n",
    "    agent=writer,\n",
    ")"
   ]
  },
  {
   "cell_type": "markdown",
   "metadata": {},
   "source": [
    "### Task: Edit"
   ]
  },
  {
   "cell_type": "code",
   "execution_count": 8,
   "metadata": {
    "height": 166
   },
   "outputs": [],
   "source": [
    "edit = Task(\n",
    "    description=(\"Proofread the given blog post for \"\n",
    "                 \"grammatical errors and \"\n",
    "                 \"alignment with the brand's voice.\"),\n",
    "    expected_output=\"A well-written blog post in markdown format, \"\n",
    "                    \"ready for publication, \"\n",
    "                    \"each section should have 2 or 3 paragraphs.\",\n",
    "    agent=editor\n",
    ")"
   ]
  },
  {
   "cell_type": "markdown",
   "metadata": {},
   "source": [
    "## Creating the Crew\n",
    "\n",
    "- Create your crew of Agents\n",
    "- Pass the tasks to be performed by those agents.\n",
    "    - **Note**: *For this simple example*, the tasks will be performed sequentially (i.e they are dependent on each other), so the _order_ of the task in the list _matters_.\n",
    "- `verbose=2` allows you to see all the logs of the execution. "
   ]
  },
  {
   "cell_type": "code",
   "execution_count": 11,
   "metadata": {
    "height": 98
   },
   "outputs": [
    {
     "name": "stderr",
     "output_type": "stream",
     "text": [
      "2024-11-27 07:02:50,931 - 140515715181440 - __init__.py-__init__:518 - WARNING: Overriding of current TracerProvider is not allowed\n"
     ]
    }
   ],
   "source": [
    "crew = Crew(\n",
    "    agents=[planner, writer, editor],\n",
    "    tasks=[plan, write, edit], # tasks operates sequentially i.e first it will plan then write and then edit\n",
    "    verbose=2\n",
    ")"
   ]
  },
  {
   "cell_type": "markdown",
   "metadata": {},
   "source": [
    "## Running the Crew"
   ]
  },
  {
   "cell_type": "markdown",
   "metadata": {},
   "source": [
    "**Note**: LLMs can provide different outputs for they same input, so what you get might be different than what you see in the video."
   ]
  },
  {
   "cell_type": "code",
   "execution_count": 12,
   "metadata": {
    "height": 30
   },
   "outputs": [
    {
     "name": "stdout",
     "output_type": "stream",
     "text": [
      "\u001b[1m\u001b[95m [DEBUG]: == Working Agent: Content Planner\u001b[00m\n",
      "\u001b[1m\u001b[95m [INFO]: == Starting Task: 1. Prioritize the latest trends, key players, and noteworthy news on Artificial Intelligence.\n",
      "2. Identify the target audience, considering their interests and pain points.\n",
      "3. Develop a detailed content outline including an introduction, key points, and a call to action.\n",
      "4. Include SEO keywords and relevant data or sources.\u001b[00m\n",
      "\n",
      "\n",
      "\u001b[1m> Entering new CrewAgentExecutor chain...\u001b[0m\n",
      "\u001b[32;1m\u001b[1;3mI now can give a great answer\n",
      "\n",
      "Final Answer:\n",
      "\n",
      "**Content Plan: Artificial Intelligence**\n",
      "\n",
      "**Introduction:**\n",
      "Artificial Intelligence (AI) has become a game-changer in various industries, revolutionizing the way businesses operate and improving efficiency. In this blog article, we will explore the latest trends, key players, and noteworthy news in the field of AI.\n",
      "\n",
      "**Key Points:**\n",
      "\n",
      "1. **Latest Trends in Artificial Intelligence:**\n",
      "   - Machine learning algorithms continue to advance, allowing AI systems to learn and improve over time.\n",
      "   - The integration of AI in healthcare is on the rise, with applications in diagnostics, personalized medicine, and patient care.\n",
      "   - Natural Language Processing (NLP) technologies are being used to enhance customer service and improve communication between humans and machines.\n",
      "   - AI-powered chatbots are becoming increasingly popular for providing instant customer support and streamlining business processes.\n",
      "\n",
      "2. **Key Players in the AI Industry:**\n",
      "   - Google's DeepMind is a frontrunner in AI research, with breakthroughs in deep learning and reinforcement learning.\n",
      "   - IBM Watson has made significant contributions to AI in healthcare, finance, and other industries.\n",
      "   - Amazon Web Services (AWS) offers a wide range of AI services, including image recognition, speech recognition, and text analysis.\n",
      "   - Microsoft Azure's Cognitive Services provide developers with tools to build AI applications easily and efficiently.\n",
      "\n",
      "3. **Noteworthy News in Artificial Intelligence:**\n",
      "   - OpenAI's GPT-3 model has garnered attention for its ability to generate human-like text and engage in natural language conversations.\n",
      "   - Tesla's self-driving technology continues to push the boundaries of AI in the automotive industry, with plans for fully autonomous vehicles in the near future.\n",
      "   - Facebook's AI research team is working on projects related to computer vision, natural language understanding, and robotics.\n",
      "\n",
      "**Target Audience:**\n",
      "Our target audience includes professionals in the tech industry, business owners looking to implement AI solutions, and individuals interested in the latest advancements in artificial intelligence. They are seeking to stay informed about AI trends, key players, and news to make informed decisions in their respective fields.\n",
      "\n",
      "**Call to Action:**\n",
      "For more insights on Artificial Intelligence and to stay updated on the latest developments, subscribe to our newsletter for regular updates and exclusive content.\n",
      "\n",
      "**SEO Keywords:**\n",
      "Artificial Intelligence, AI trends, key players in AI, latest news in AI, machine learning algorithms, NLP technologies, chatbots, DeepMind, IBM Watson, AWS AI services, Microsoft Azure Cognitive Services, GPT-3, self-driving technology, AI research.\n",
      "\n",
      "**Resources:**\n",
      "- \"The AI Revolution: The Road to Superintelligence\" by Tim Urban\n",
      "- \"Artificial Intelligence: A Modern Approach\" by Stuart Russell and Peter Norvig\n",
      "- Forbes AI section: https://www.forbes.com/ai\n",
      "- TechCrunch AI news: https://techcrunch.com/ai\n",
      "\n",
      "By following this comprehensive content outline, we aim to provide valuable insights and information on Artificial Intelligence for our target audience.\u001b[0m\n",
      "\n",
      "\u001b[1m> Finished chain.\u001b[0m\n",
      "\u001b[1m\u001b[92m [DEBUG]: == [Content Planner] Task output: **Content Plan: Artificial Intelligence**\n",
      "\n",
      "**Introduction:**\n",
      "Artificial Intelligence (AI) has become a game-changer in various industries, revolutionizing the way businesses operate and improving efficiency. In this blog article, we will explore the latest trends, key players, and noteworthy news in the field of AI.\n",
      "\n",
      "**Key Points:**\n",
      "\n",
      "1. **Latest Trends in Artificial Intelligence:**\n",
      "   - Machine learning algorithms continue to advance, allowing AI systems to learn and improve over time.\n",
      "   - The integration of AI in healthcare is on the rise, with applications in diagnostics, personalized medicine, and patient care.\n",
      "   - Natural Language Processing (NLP) technologies are being used to enhance customer service and improve communication between humans and machines.\n",
      "   - AI-powered chatbots are becoming increasingly popular for providing instant customer support and streamlining business processes.\n",
      "\n",
      "2. **Key Players in the AI Industry:**\n",
      "   - Google's DeepMind is a frontrunner in AI research, with breakthroughs in deep learning and reinforcement learning.\n",
      "   - IBM Watson has made significant contributions to AI in healthcare, finance, and other industries.\n",
      "   - Amazon Web Services (AWS) offers a wide range of AI services, including image recognition, speech recognition, and text analysis.\n",
      "   - Microsoft Azure's Cognitive Services provide developers with tools to build AI applications easily and efficiently.\n",
      "\n",
      "3. **Noteworthy News in Artificial Intelligence:**\n",
      "   - OpenAI's GPT-3 model has garnered attention for its ability to generate human-like text and engage in natural language conversations.\n",
      "   - Tesla's self-driving technology continues to push the boundaries of AI in the automotive industry, with plans for fully autonomous vehicles in the near future.\n",
      "   - Facebook's AI research team is working on projects related to computer vision, natural language understanding, and robotics.\n",
      "\n",
      "**Target Audience:**\n",
      "Our target audience includes professionals in the tech industry, business owners looking to implement AI solutions, and individuals interested in the latest advancements in artificial intelligence. They are seeking to stay informed about AI trends, key players, and news to make informed decisions in their respective fields.\n",
      "\n",
      "**Call to Action:**\n",
      "For more insights on Artificial Intelligence and to stay updated on the latest developments, subscribe to our newsletter for regular updates and exclusive content.\n",
      "\n",
      "**SEO Keywords:**\n",
      "Artificial Intelligence, AI trends, key players in AI, latest news in AI, machine learning algorithms, NLP technologies, chatbots, DeepMind, IBM Watson, AWS AI services, Microsoft Azure Cognitive Services, GPT-3, self-driving technology, AI research.\n",
      "\n",
      "**Resources:**\n",
      "- \"The AI Revolution: The Road to Superintelligence\" by Tim Urban\n",
      "- \"Artificial Intelligence: A Modern Approach\" by Stuart Russell and Peter Norvig\n",
      "- Forbes AI section: https://www.forbes.com/ai\n",
      "- TechCrunch AI news: https://techcrunch.com/ai\n",
      "\n",
      "By following this comprehensive content outline, we aim to provide valuable insights and information on Artificial Intelligence for our target audience.\n",
      "\n",
      "\u001b[00m\n",
      "\u001b[1m\u001b[95m [DEBUG]: == Working Agent: Content Writer\u001b[00m\n",
      "\u001b[1m\u001b[95m [INFO]: == Starting Task: 1. Use the content plan to craft a compelling blog post on Artificial Intelligence.\n",
      "2. Incorporate SEO keywords naturally.\n",
      "3. Sections/Subtitles are properly named in an engaging manner.\n",
      "4. Ensure the post is structured with an engaging introduction, insightful body, and a summarizing conclusion.\n",
      "5. Proofread for grammatical errors and alignment with the brand's voice.\n",
      "\u001b[00m\n",
      "\n",
      "\n",
      "\u001b[1m> Entering new CrewAgentExecutor chain...\u001b[0m\n",
      "\u001b[32;1m\u001b[1;3mI understand the importance of creating a well-crafted blog post on Artificial Intelligence based on the content plan provided. I will ensure to incorporate the SEO keywords naturally, structure the post with engaging sections, proofread for grammatical errors, and align with the brand's voice.\n",
      "\n",
      "Final Answer:\n",
      "\n",
      "# The Evolution of Artificial Intelligence\n",
      "\n",
      "**Introduction:**\n",
      "Artificial Intelligence (AI) is no longer a futuristic concept but a present-day reality that is reshaping industries and transforming the way we live and work. In this blog post, we will delve into the latest trends, key players, and noteworthy news in the dynamic field of AI.\n",
      "\n",
      "## Latest Trends in Artificial Intelligence:\n",
      "\n",
      "The field of AI is constantly evolving, with machine learning algorithms leading the way in enabling AI systems to learn and adapt based on data. This advancement has opened up new possibilities in various sectors, particularly in healthcare. AI is increasingly being used for diagnostics, personalized medicine, and improving patient care. Moreover, Natural Language Processing (NLP) technologies are enhancing customer service experiences by facilitating better communication between humans and machines. AI-powered chatbots are gaining popularity for their ability to provide instant customer support and streamline business processes.\n",
      "\n",
      "## Key Players in the AI Industry:\n",
      "\n",
      "Several key players are driving innovation in the AI space. Google's DeepMind stands out for its groundbreaking work in deep learning and reinforcement learning, pushing the boundaries of AI research. IBM Watson has made significant contributions to AI applications in healthcare, finance, and beyond. Amazon Web Services (AWS) offers a comprehensive suite of AI services, including image recognition, speech recognition, and text analysis. Microsoft Azure's Cognitive Services provide developers with user-friendly tools to build AI applications efficiently and effectively.\n",
      "\n",
      "## Noteworthy News in Artificial Intelligence:\n",
      "\n",
      "Recent developments in AI have captured the attention of the tech community and beyond. OpenAI's GPT-3 model has garnered praise for its ability to generate human-like text and engage in natural language conversations. Tesla's advancements in self-driving technology are revolutionizing the automotive industry, with plans for fully autonomous vehicles on the horizon. Facebook's AI research team is actively working on projects related to computer vision, natural language understanding, and robotics, pushing the boundaries of what AI can achieve.\n",
      "\n",
      "**Target Audience:**\n",
      "Our blog caters to professionals in the tech industry, business owners seeking to implement AI solutions, and individuals interested in staying abreast of the latest AI advancements. By providing valuable insights and updates on AI trends, key players, and news, we aim to empower our audience to make informed decisions in their respective fields.\n",
      "\n",
      "**Call to Action:**\n",
      "To stay informed about the latest developments in Artificial Intelligence and access exclusive content, subscribe to our newsletter for regular updates.\n",
      "\n",
      "By offering a comprehensive overview of the AI landscape, we strive to provide valuable insights and information for our target audience.\n",
      "\n",
      "Remember to subscribe to our newsletter for more updates on Artificial Intelligence!\u001b[0m\n",
      "\n",
      "\u001b[1m> Finished chain.\u001b[0m\n",
      "\u001b[1m\u001b[92m [DEBUG]: == [Content Writer] Task output: # The Evolution of Artificial Intelligence\n",
      "\n",
      "**Introduction:**\n",
      "Artificial Intelligence (AI) is no longer a futuristic concept but a present-day reality that is reshaping industries and transforming the way we live and work. In this blog post, we will delve into the latest trends, key players, and noteworthy news in the dynamic field of AI.\n",
      "\n",
      "## Latest Trends in Artificial Intelligence:\n",
      "\n",
      "The field of AI is constantly evolving, with machine learning algorithms leading the way in enabling AI systems to learn and adapt based on data. This advancement has opened up new possibilities in various sectors, particularly in healthcare. AI is increasingly being used for diagnostics, personalized medicine, and improving patient care. Moreover, Natural Language Processing (NLP) technologies are enhancing customer service experiences by facilitating better communication between humans and machines. AI-powered chatbots are gaining popularity for their ability to provide instant customer support and streamline business processes.\n",
      "\n",
      "## Key Players in the AI Industry:\n",
      "\n",
      "Several key players are driving innovation in the AI space. Google's DeepMind stands out for its groundbreaking work in deep learning and reinforcement learning, pushing the boundaries of AI research. IBM Watson has made significant contributions to AI applications in healthcare, finance, and beyond. Amazon Web Services (AWS) offers a comprehensive suite of AI services, including image recognition, speech recognition, and text analysis. Microsoft Azure's Cognitive Services provide developers with user-friendly tools to build AI applications efficiently and effectively.\n",
      "\n",
      "## Noteworthy News in Artificial Intelligence:\n",
      "\n",
      "Recent developments in AI have captured the attention of the tech community and beyond. OpenAI's GPT-3 model has garnered praise for its ability to generate human-like text and engage in natural language conversations. Tesla's advancements in self-driving technology are revolutionizing the automotive industry, with plans for fully autonomous vehicles on the horizon. Facebook's AI research team is actively working on projects related to computer vision, natural language understanding, and robotics, pushing the boundaries of what AI can achieve.\n",
      "\n",
      "**Target Audience:**\n",
      "Our blog caters to professionals in the tech industry, business owners seeking to implement AI solutions, and individuals interested in staying abreast of the latest AI advancements. By providing valuable insights and updates on AI trends, key players, and news, we aim to empower our audience to make informed decisions in their respective fields.\n",
      "\n",
      "**Call to Action:**\n",
      "To stay informed about the latest developments in Artificial Intelligence and access exclusive content, subscribe to our newsletter for regular updates.\n",
      "\n",
      "By offering a comprehensive overview of the AI landscape, we strive to provide valuable insights and information for our target audience.\n",
      "\n",
      "Remember to subscribe to our newsletter for more updates on Artificial Intelligence!\n",
      "\n",
      "\u001b[00m\n",
      "\u001b[1m\u001b[95m [DEBUG]: == Working Agent: Editor\u001b[00m\n",
      "\u001b[1m\u001b[95m [INFO]: == Starting Task: Proofread the given blog post for grammatical errors and alignment with the brand's voice.\u001b[00m\n",
      "\n",
      "\n",
      "\u001b[1m> Entering new CrewAgentExecutor chain...\u001b[0m\n"
     ]
    },
    {
     "name": "stdout",
     "output_type": "stream",
     "text": [
      "\u001b[32;1m\u001b[1;3mI now can give a great answer\n",
      "\n",
      "Final Answer:\n",
      "# The Evolution of Artificial Intelligence\n",
      "\n",
      "**Introduction:**\n",
      "Artificial Intelligence (AI) has rapidly transitioned from a distant vision of the future to a present-day reality that is reshaping industries and revolutionizing the way we live and work. In this blog post, we will explore the latest trends, prominent players, and significant news within the ever-evolving realm of AI.\n",
      "\n",
      "## Latest Trends in Artificial Intelligence:\n",
      "\n",
      "The field of AI continues to progress at a rapid pace, with machine learning algorithms leading the charge in empowering AI systems to learn and evolve based on data inputs. This progression has unlocked a myriad of possibilities across various sectors, particularly in the healthcare industry. AI is now being utilized for tasks such as diagnostics, personalized medicine, and enhancing patient care. Additionally, Natural Language Processing (NLP) technologies are enhancing customer service experiences by facilitating seamless communication between humans and machines. AI-driven chatbots have gained traction for their ability to provide immediate customer support and optimize business operations.\n",
      "\n",
      "## Key Players in the AI Industry:\n",
      "\n",
      "Numerous key players are at the forefront of driving innovation within the AI landscape. Google's DeepMind has garnered attention for its pioneering work in deep learning and reinforcement learning, pushing the boundaries of AI research. IBM Watson has played a pivotal role in advancing AI applications across industries such as healthcare and finance. Amazon Web Services (AWS) offers a comprehensive suite of AI services, encompassing capabilities like image recognition, speech recognition, and text analysis. Microsoft Azure's Cognitive Services equip developers with intuitive tools to efficiently build AI applications.\n",
      "\n",
      "## Noteworthy News in Artificial Intelligence:\n",
      "\n",
      "Recent breakthroughs in AI have captivated the tech community and beyond. OpenAI's GPT-3 model has received acclaim for its capacity to generate human-like text and engage in natural language conversations. Tesla's strides in self-driving technology are reshaping the automotive sector, with plans for fully autonomous vehicles on the horizon. Facebook's AI research team is actively engaged in projects related to computer vision, natural language comprehension, and robotics, pushing the boundaries of AI capabilities.\n",
      "\n",
      "**Target Audience:**\n",
      "Our blog is tailored to professionals in the tech industry, business owners looking to implement AI solutions, and individuals keen on staying updated on the latest AI advancements. By delivering valuable insights and updates on AI trends, key industry players, and notable developments, we aim to empower our audience to make well-informed decisions within their respective domains.\n",
      "\n",
      "**Call to Action:**\n",
      "Stay abreast of the latest Artificial Intelligence developments and access exclusive content by subscribing to our newsletter for regular updates.\n",
      "\n",
      "We are committed to providing a comprehensive overview of the AI landscape, offering valuable insights and information to our target audience.\n",
      "\n",
      "Don't forget to subscribe to our newsletter for the latest updates on Artificial Intelligence!\u001b[0m\n",
      "\n",
      "\u001b[1m> Finished chain.\u001b[0m\n",
      "\u001b[1m\u001b[92m [DEBUG]: == [Editor] Task output: # The Evolution of Artificial Intelligence\n",
      "\n",
      "**Introduction:**\n",
      "Artificial Intelligence (AI) has rapidly transitioned from a distant vision of the future to a present-day reality that is reshaping industries and revolutionizing the way we live and work. In this blog post, we will explore the latest trends, prominent players, and significant news within the ever-evolving realm of AI.\n",
      "\n",
      "## Latest Trends in Artificial Intelligence:\n",
      "\n",
      "The field of AI continues to progress at a rapid pace, with machine learning algorithms leading the charge in empowering AI systems to learn and evolve based on data inputs. This progression has unlocked a myriad of possibilities across various sectors, particularly in the healthcare industry. AI is now being utilized for tasks such as diagnostics, personalized medicine, and enhancing patient care. Additionally, Natural Language Processing (NLP) technologies are enhancing customer service experiences by facilitating seamless communication between humans and machines. AI-driven chatbots have gained traction for their ability to provide immediate customer support and optimize business operations.\n",
      "\n",
      "## Key Players in the AI Industry:\n",
      "\n",
      "Numerous key players are at the forefront of driving innovation within the AI landscape. Google's DeepMind has garnered attention for its pioneering work in deep learning and reinforcement learning, pushing the boundaries of AI research. IBM Watson has played a pivotal role in advancing AI applications across industries such as healthcare and finance. Amazon Web Services (AWS) offers a comprehensive suite of AI services, encompassing capabilities like image recognition, speech recognition, and text analysis. Microsoft Azure's Cognitive Services equip developers with intuitive tools to efficiently build AI applications.\n",
      "\n",
      "## Noteworthy News in Artificial Intelligence:\n",
      "\n",
      "Recent breakthroughs in AI have captivated the tech community and beyond. OpenAI's GPT-3 model has received acclaim for its capacity to generate human-like text and engage in natural language conversations. Tesla's strides in self-driving technology are reshaping the automotive sector, with plans for fully autonomous vehicles on the horizon. Facebook's AI research team is actively engaged in projects related to computer vision, natural language comprehension, and robotics, pushing the boundaries of AI capabilities.\n",
      "\n",
      "**Target Audience:**\n",
      "Our blog is tailored to professionals in the tech industry, business owners looking to implement AI solutions, and individuals keen on staying updated on the latest AI advancements. By delivering valuable insights and updates on AI trends, key industry players, and notable developments, we aim to empower our audience to make well-informed decisions within their respective domains.\n",
      "\n",
      "**Call to Action:**\n",
      "Stay abreast of the latest Artificial Intelligence developments and access exclusive content by subscribing to our newsletter for regular updates.\n",
      "\n",
      "We are committed to providing a comprehensive overview of the AI landscape, offering valuable insights and information to our target audience.\n",
      "\n",
      "Don't forget to subscribe to our newsletter for the latest updates on Artificial Intelligence!\n",
      "\n",
      "\u001b[00m\n"
     ]
    }
   ],
   "source": [
    "result = crew.kickoff(inputs={\"topic\": \"Artificial Intelligence\"})"
   ]
  },
  {
   "cell_type": "markdown",
   "metadata": {},
   "source": [
    "- Display the results of your execution as markdown in the notebook."
   ]
  },
  {
   "cell_type": "code",
   "execution_count": 13,
   "metadata": {
    "height": 47
   },
   "outputs": [
    {
     "data": {
      "text/markdown": [
       "# The Evolution of Artificial Intelligence\n",
       "\n",
       "**Introduction:**\n",
       "Artificial Intelligence (AI) has rapidly transitioned from a distant vision of the future to a present-day reality that is reshaping industries and revolutionizing the way we live and work. In this blog post, we will explore the latest trends, prominent players, and significant news within the ever-evolving realm of AI.\n",
       "\n",
       "## Latest Trends in Artificial Intelligence:\n",
       "\n",
       "The field of AI continues to progress at a rapid pace, with machine learning algorithms leading the charge in empowering AI systems to learn and evolve based on data inputs. This progression has unlocked a myriad of possibilities across various sectors, particularly in the healthcare industry. AI is now being utilized for tasks such as diagnostics, personalized medicine, and enhancing patient care. Additionally, Natural Language Processing (NLP) technologies are enhancing customer service experiences by facilitating seamless communication between humans and machines. AI-driven chatbots have gained traction for their ability to provide immediate customer support and optimize business operations.\n",
       "\n",
       "## Key Players in the AI Industry:\n",
       "\n",
       "Numerous key players are at the forefront of driving innovation within the AI landscape. Google's DeepMind has garnered attention for its pioneering work in deep learning and reinforcement learning, pushing the boundaries of AI research. IBM Watson has played a pivotal role in advancing AI applications across industries such as healthcare and finance. Amazon Web Services (AWS) offers a comprehensive suite of AI services, encompassing capabilities like image recognition, speech recognition, and text analysis. Microsoft Azure's Cognitive Services equip developers with intuitive tools to efficiently build AI applications.\n",
       "\n",
       "## Noteworthy News in Artificial Intelligence:\n",
       "\n",
       "Recent breakthroughs in AI have captivated the tech community and beyond. OpenAI's GPT-3 model has received acclaim for its capacity to generate human-like text and engage in natural language conversations. Tesla's strides in self-driving technology are reshaping the automotive sector, with plans for fully autonomous vehicles on the horizon. Facebook's AI research team is actively engaged in projects related to computer vision, natural language comprehension, and robotics, pushing the boundaries of AI capabilities.\n",
       "\n",
       "**Target Audience:**\n",
       "Our blog is tailored to professionals in the tech industry, business owners looking to implement AI solutions, and individuals keen on staying updated on the latest AI advancements. By delivering valuable insights and updates on AI trends, key industry players, and notable developments, we aim to empower our audience to make well-informed decisions within their respective domains.\n",
       "\n",
       "**Call to Action:**\n",
       "Stay abreast of the latest Artificial Intelligence developments and access exclusive content by subscribing to our newsletter for regular updates.\n",
       "\n",
       "We are committed to providing a comprehensive overview of the AI landscape, offering valuable insights and information to our target audience.\n",
       "\n",
       "Don't forget to subscribe to our newsletter for the latest updates on Artificial Intelligence!"
      ],
      "text/plain": [
       "<IPython.core.display.Markdown object>"
      ]
     },
     "execution_count": 13,
     "metadata": {},
     "output_type": "execute_result"
    }
   ],
   "source": [
    "from IPython.display import Markdown\n",
    "Markdown(result)"
   ]
  },
  {
   "cell_type": "markdown",
   "metadata": {},
   "source": [
    "## Try it Yourself\n",
    "\n",
    "- Pass in a topic of your choice and see what the agents come up with!"
   ]
  },
  {
   "cell_type": "code",
   "execution_count": 14,
   "metadata": {
    "height": 47
   },
   "outputs": [
    {
     "name": "stdout",
     "output_type": "stream",
     "text": [
      "\u001b[1m\u001b[95m [DEBUG]: == Working Agent: Content Planner\u001b[00m\n",
      "\u001b[1m\u001b[95m [INFO]: == Starting Task: 1. Prioritize the latest trends, key players, and noteworthy news on Liverpool F.C.\n",
      "2. Identify the target audience, considering their interests and pain points.\n",
      "3. Develop a detailed content outline including an introduction, key points, and a call to action.\n",
      "4. Include SEO keywords and relevant data or sources.\u001b[00m\n",
      "\n",
      "\n",
      "\u001b[1m> Entering new CrewAgentExecutor chain...\u001b[0m\n",
      "\u001b[32;1m\u001b[1;3mI now can give a great answer\n",
      "\n",
      "Final Answer: \n",
      "\n",
      "Content Plan Document:\n",
      "\n",
      "Title: Unveiling the Secrets of Liverpool F.C.: Latest Trends, Key Players, and Noteworthy News\n",
      "\n",
      "Introduction:\n",
      "- Brief overview of Liverpool F.C.'s history and achievements\n",
      "- Setting the stage for discussing the latest trends, key players, and news\n",
      "\n",
      "Key Points:\n",
      "1. Latest Trends:\n",
      "- Highlight the team's current performance in the Premier League and Champions League\n",
      "- Discuss any recent transfers, injuries, or managerial changes\n",
      "- Analyze fan engagement on social media platforms\n",
      "\n",
      "2. Key Players:\n",
      "- Profile key players such as Mohamed Salah, Virgil van Dijk, and Sadio Mane\n",
      "- Discuss their contributions to the team and impact on the field\n",
      "- Include statistics and highlights of their recent performances\n",
      "\n",
      "3. Noteworthy News:\n",
      "- Cover any significant events or milestones in the club's recent history\n",
      "- Discuss any controversies or off-the-field news involving Liverpool F.C.\n",
      "- Include quotes from players, managers, or fans to provide a personal touch\n",
      "\n",
      "Audience Analysis:\n",
      "- Target Audience: Football fans, specifically those interested in the Premier League and Liverpool F.C.\n",
      "- Interests: Latest updates on matches, player performances, and team news\n",
      "- Pain Points: Limited access to in-depth analysis and behind-the-scenes information\n",
      "\n",
      "SEO Keywords:\n",
      "- Liverpool F.C., Premier League, football, key players, latest news, trends, analysis, updates\n",
      "\n",
      "Resources:\n",
      "1. Official Liverpool F.C. website\n",
      "2. Premier League official website\n",
      "3. Transfermarkt for player statistics\n",
      "4. Social media platforms for fan engagement data\n",
      "\n",
      "Call to Action:\n",
      "- Encourage readers to follow Liverpool F.C. on social media for real-time updates\n",
      "- Invite them to share their thoughts and predictions for the upcoming matches\n",
      "- Provide links to purchase official merchandise or tickets for matches\n",
      "\n",
      "By following this comprehensive content plan, the blog article on Liverpool F.C. will engage the target audience with informative and engaging content while also optimizing for SEO and providing valuable resources for further exploration.\u001b[0m\n",
      "\n",
      "\u001b[1m> Finished chain.\u001b[0m\n",
      "\u001b[1m\u001b[92m [DEBUG]: == [Content Planner] Task output: Content Plan Document:\n",
      "\n",
      "Title: Unveiling the Secrets of Liverpool F.C.: Latest Trends, Key Players, and Noteworthy News\n",
      "\n",
      "Introduction:\n",
      "- Brief overview of Liverpool F.C.'s history and achievements\n",
      "- Setting the stage for discussing the latest trends, key players, and news\n",
      "\n",
      "Key Points:\n",
      "1. Latest Trends:\n",
      "- Highlight the team's current performance in the Premier League and Champions League\n",
      "- Discuss any recent transfers, injuries, or managerial changes\n",
      "- Analyze fan engagement on social media platforms\n",
      "\n",
      "2. Key Players:\n",
      "- Profile key players such as Mohamed Salah, Virgil van Dijk, and Sadio Mane\n",
      "- Discuss their contributions to the team and impact on the field\n",
      "- Include statistics and highlights of their recent performances\n",
      "\n",
      "3. Noteworthy News:\n",
      "- Cover any significant events or milestones in the club's recent history\n",
      "- Discuss any controversies or off-the-field news involving Liverpool F.C.\n",
      "- Include quotes from players, managers, or fans to provide a personal touch\n",
      "\n",
      "Audience Analysis:\n",
      "- Target Audience: Football fans, specifically those interested in the Premier League and Liverpool F.C.\n",
      "- Interests: Latest updates on matches, player performances, and team news\n",
      "- Pain Points: Limited access to in-depth analysis and behind-the-scenes information\n",
      "\n",
      "SEO Keywords:\n",
      "- Liverpool F.C., Premier League, football, key players, latest news, trends, analysis, updates\n",
      "\n",
      "Resources:\n",
      "1. Official Liverpool F.C. website\n",
      "2. Premier League official website\n",
      "3. Transfermarkt for player statistics\n",
      "4. Social media platforms for fan engagement data\n",
      "\n",
      "Call to Action:\n",
      "- Encourage readers to follow Liverpool F.C. on social media for real-time updates\n",
      "- Invite them to share their thoughts and predictions for the upcoming matches\n",
      "- Provide links to purchase official merchandise or tickets for matches\n",
      "\n",
      "By following this comprehensive content plan, the blog article on Liverpool F.C. will engage the target audience with informative and engaging content while also optimizing for SEO and providing valuable resources for further exploration.\n",
      "\n",
      "\u001b[00m\n",
      "\u001b[1m\u001b[95m [DEBUG]: == Working Agent: Content Writer\u001b[00m\n",
      "\u001b[1m\u001b[95m [INFO]: == Starting Task: 1. Use the content plan to craft a compelling blog post on Liverpool F.C.\n",
      "2. Incorporate SEO keywords naturally.\n",
      "3. Sections/Subtitles are properly named in an engaging manner.\n",
      "4. Ensure the post is structured with an engaging introduction, insightful body, and a summarizing conclusion.\n",
      "5. Proofread for grammatical errors and alignment with the brand's voice.\n",
      "\u001b[00m\n",
      "\n",
      "\n",
      "\u001b[1m> Entering new CrewAgentExecutor chain...\u001b[0m\n",
      "\u001b[32;1m\u001b[1;3mI now feel confident in crafting a well-written and informative blog post about Liverpool F.C. that will engage football fans and provide valuable insights into the latest trends, key players, and noteworthy news surrounding the club.\n",
      "\n",
      "Final Answer:\n",
      "# Unveiling the Secrets of Liverpool F.C.: Latest Trends, Key Players, and Noteworthy News\n",
      "\n",
      "## Introduction\n",
      "Liverpool F.C. holds a storied history in the world of football, with a long list of achievements that have solidified their place as one of the top clubs in the sport. As we delve into the latest trends, key players, and noteworthy news surrounding the club, we will uncover the secrets that make Liverpool F.C. a powerhouse in the Premier League and beyond.\n",
      "\n",
      "## Latest Trends\n",
      "In the current season, Liverpool F.C. has been showcasing impressive performances in both the Premier League and the Champions League. With a strong defensive line led by key players like Virgil van Dijk and an attacking force spearheaded by Mohamed Salah and Sadio Mane, the team has been a force to be reckoned with on the field. Recent transfers, injuries, and managerial changes have also added intrigue to the team's dynamics, keeping fans on the edge of their seats. The club's social media platforms have been abuzz with fan engagement, with supporters from around the world showing their unwavering support for the Reds.\n",
      "\n",
      "## Key Players\n",
      "Mohamed Salah, Virgil van Dijk, and Sadio Mane stand out as key players in Liverpool F.C.'s lineup, each bringing their unique skills and contributions to the team. Salah's lightning-fast pace and goal-scoring prowess, van Dijk's commanding presence in defense, and Mane's versatility and creativity on the field have been instrumental in the club's success. Statistics and highlights of their recent performances speak volumes about their impact on the team, showcasing why they are considered among the best in the world.\n",
      "\n",
      "## Noteworthy News\n",
      "From significant events and milestones in the club's recent history to controversies and off-the-field news, Liverpool F.C. has seen it all. Quotes from players, managers, and fans provide a personal touch to the club's story, offering insights into the emotions and passion that surround Liverpool F.C. both on and off the pitch. The club's rich history is filled with triumphs and challenges, making it a compelling narrative for football fans and enthusiasts alike.\n",
      "\n",
      "By exploring the latest trends, key players, and noteworthy news surrounding Liverpool F.C., we gain a deeper understanding of what makes the club so special. From their on-field performances to the emotions that drive their fans, Liverpool F.C. continues to captivate audiences around the world with their brand of football. As we look ahead to the future, the secrets of Liverpool F.C. are sure to unfold in ways that will keep us all on the edge of our seats.\u001b[0m\n",
      "\n",
      "\u001b[1m> Finished chain.\u001b[0m\n",
      "\u001b[1m\u001b[92m [DEBUG]: == [Content Writer] Task output: # Unveiling the Secrets of Liverpool F.C.: Latest Trends, Key Players, and Noteworthy News\n",
      "\n",
      "## Introduction\n",
      "Liverpool F.C. holds a storied history in the world of football, with a long list of achievements that have solidified their place as one of the top clubs in the sport. As we delve into the latest trends, key players, and noteworthy news surrounding the club, we will uncover the secrets that make Liverpool F.C. a powerhouse in the Premier League and beyond.\n",
      "\n",
      "## Latest Trends\n",
      "In the current season, Liverpool F.C. has been showcasing impressive performances in both the Premier League and the Champions League. With a strong defensive line led by key players like Virgil van Dijk and an attacking force spearheaded by Mohamed Salah and Sadio Mane, the team has been a force to be reckoned with on the field. Recent transfers, injuries, and managerial changes have also added intrigue to the team's dynamics, keeping fans on the edge of their seats. The club's social media platforms have been abuzz with fan engagement, with supporters from around the world showing their unwavering support for the Reds.\n",
      "\n",
      "## Key Players\n",
      "Mohamed Salah, Virgil van Dijk, and Sadio Mane stand out as key players in Liverpool F.C.'s lineup, each bringing their unique skills and contributions to the team. Salah's lightning-fast pace and goal-scoring prowess, van Dijk's commanding presence in defense, and Mane's versatility and creativity on the field have been instrumental in the club's success. Statistics and highlights of their recent performances speak volumes about their impact on the team, showcasing why they are considered among the best in the world.\n",
      "\n",
      "## Noteworthy News\n",
      "From significant events and milestones in the club's recent history to controversies and off-the-field news, Liverpool F.C. has seen it all. Quotes from players, managers, and fans provide a personal touch to the club's story, offering insights into the emotions and passion that surround Liverpool F.C. both on and off the pitch. The club's rich history is filled with triumphs and challenges, making it a compelling narrative for football fans and enthusiasts alike.\n",
      "\n",
      "By exploring the latest trends, key players, and noteworthy news surrounding Liverpool F.C., we gain a deeper understanding of what makes the club so special. From their on-field performances to the emotions that drive their fans, Liverpool F.C. continues to captivate audiences around the world with their brand of football. As we look ahead to the future, the secrets of Liverpool F.C. are sure to unfold in ways that will keep us all on the edge of our seats.\n",
      "\n",
      "\u001b[00m\n",
      "\u001b[1m\u001b[95m [DEBUG]: == Working Agent: Editor\u001b[00m\n",
      "\u001b[1m\u001b[95m [INFO]: == Starting Task: Proofread the given blog post for grammatical errors and alignment with the brand's voice.\u001b[00m\n",
      "\n",
      "\n",
      "\u001b[1m> Entering new CrewAgentExecutor chain...\u001b[0m\n"
     ]
    },
    {
     "name": "stdout",
     "output_type": "stream",
     "text": [
      "\u001b[32;1m\u001b[1;3mI now can give a great answer\n",
      "\n",
      "Final Answer:\n",
      "\n",
      "# Unveiling the Secrets of Liverpool F.C.: Latest Trends, Key Players, and Noteworthy News\n",
      "\n",
      "## Introduction\n",
      "Liverpool F.C. boasts a rich history in the realm of football, with an extensive list of accomplishments that have cemented their position as one of the top clubs in the sport. In this exploration of the latest trends, key players, and noteworthy news surrounding the club, we aim to uncover the secrets that have propelled Liverpool F.C. to become a powerhouse in the Premier League and beyond.\n",
      "\n",
      "## Latest Trends\n",
      "Throughout the current season, Liverpool F.C. has been displaying remarkable performances in both the Premier League and the Champions League. With a formidable defensive lineup spearheaded by standout players such as Virgil van Dijk and a potent attacking force led by Mohamed Salah and Sadio Mane, the team has proven to be a formidable presence on the field. Recent transfers, injuries, and changes in management have added an element of suspense to the team's dynamics, ensuring that fans are kept on the edge of their seats. The club's social media platforms have been buzzing with fan engagement, showcasing the unwavering support of supporters from all corners of the globe.\n",
      "\n",
      "## Key Players\n",
      "Mohamed Salah, Virgil van Dijk, and Sadio Mane emerge as pivotal figures in Liverpool F.C.'s roster, each bringing their distinct skills and contributions to the team. Salah's lightning-fast speed and goal-scoring abilities, van Dijk's authoritative presence in defense, and Mane's versatility and ingenuity on the field have been fundamental to the club's success. The statistics and highlights of their recent performances serve as a testament to their influence on the team, illustrating why they are regarded as some of the best in the world.\n",
      "\n",
      "## Noteworthy News\n",
      "From significant milestones and events in the club's recent history to controversies and off-the-field developments, Liverpool F.C. has experienced it all. Quotes from players, managers, and fans add a personal touch to the club's narrative, offering insights into the emotions and fervor that envelop Liverpool F.C. both on and off the pitch. The club's illustrious history is brimming with triumphs and adversities, creating a captivating storyline for football aficionados and enthusiasts alike.\n",
      "\n",
      "By delving into the latest trends, key players, and noteworthy news surrounding Liverpool F.C., we are able to gain a deeper comprehension of what sets the club apart. From their performances on the field to the passion that drives their fans, Liverpool F.C. continues to enthrall audiences worldwide with their distinctive brand of football. As we look towards the future, the enigmatic secrets of Liverpool F.C. are poised to unravel in ways that will undoubtedly keep us all eagerly anticipating what lies ahead.\u001b[0m\n",
      "\n",
      "\u001b[1m> Finished chain.\u001b[0m\n",
      "\u001b[1m\u001b[92m [DEBUG]: == [Editor] Task output: # Unveiling the Secrets of Liverpool F.C.: Latest Trends, Key Players, and Noteworthy News\n",
      "\n",
      "## Introduction\n",
      "Liverpool F.C. boasts a rich history in the realm of football, with an extensive list of accomplishments that have cemented their position as one of the top clubs in the sport. In this exploration of the latest trends, key players, and noteworthy news surrounding the club, we aim to uncover the secrets that have propelled Liverpool F.C. to become a powerhouse in the Premier League and beyond.\n",
      "\n",
      "## Latest Trends\n",
      "Throughout the current season, Liverpool F.C. has been displaying remarkable performances in both the Premier League and the Champions League. With a formidable defensive lineup spearheaded by standout players such as Virgil van Dijk and a potent attacking force led by Mohamed Salah and Sadio Mane, the team has proven to be a formidable presence on the field. Recent transfers, injuries, and changes in management have added an element of suspense to the team's dynamics, ensuring that fans are kept on the edge of their seats. The club's social media platforms have been buzzing with fan engagement, showcasing the unwavering support of supporters from all corners of the globe.\n",
      "\n",
      "## Key Players\n",
      "Mohamed Salah, Virgil van Dijk, and Sadio Mane emerge as pivotal figures in Liverpool F.C.'s roster, each bringing their distinct skills and contributions to the team. Salah's lightning-fast speed and goal-scoring abilities, van Dijk's authoritative presence in defense, and Mane's versatility and ingenuity on the field have been fundamental to the club's success. The statistics and highlights of their recent performances serve as a testament to their influence on the team, illustrating why they are regarded as some of the best in the world.\n",
      "\n",
      "## Noteworthy News\n",
      "From significant milestones and events in the club's recent history to controversies and off-the-field developments, Liverpool F.C. has experienced it all. Quotes from players, managers, and fans add a personal touch to the club's narrative, offering insights into the emotions and fervor that envelop Liverpool F.C. both on and off the pitch. The club's illustrious history is brimming with triumphs and adversities, creating a captivating storyline for football aficionados and enthusiasts alike.\n",
      "\n",
      "By delving into the latest trends, key players, and noteworthy news surrounding Liverpool F.C., we are able to gain a deeper comprehension of what sets the club apart. From their performances on the field to the passion that drives their fans, Liverpool F.C. continues to enthrall audiences worldwide with their distinctive brand of football. As we look towards the future, the enigmatic secrets of Liverpool F.C. are poised to unravel in ways that will undoubtedly keep us all eagerly anticipating what lies ahead.\n",
      "\n",
      "\u001b[00m\n"
     ]
    }
   ],
   "source": [
    "topic = \"YOUR TOPIC HERE\"\n",
    "result = crew.kickoff(inputs={\"topic\": \"Liverpool F.C\"})"
   ]
  },
  {
   "cell_type": "code",
   "execution_count": 15,
   "metadata": {
    "height": 30
   },
   "outputs": [
    {
     "data": {
      "text/markdown": [
       "# Unveiling the Secrets of Liverpool F.C.: Latest Trends, Key Players, and Noteworthy News\n",
       "\n",
       "## Introduction\n",
       "Liverpool F.C. boasts a rich history in the realm of football, with an extensive list of accomplishments that have cemented their position as one of the top clubs in the sport. In this exploration of the latest trends, key players, and noteworthy news surrounding the club, we aim to uncover the secrets that have propelled Liverpool F.C. to become a powerhouse in the Premier League and beyond.\n",
       "\n",
       "## Latest Trends\n",
       "Throughout the current season, Liverpool F.C. has been displaying remarkable performances in both the Premier League and the Champions League. With a formidable defensive lineup spearheaded by standout players such as Virgil van Dijk and a potent attacking force led by Mohamed Salah and Sadio Mane, the team has proven to be a formidable presence on the field. Recent transfers, injuries, and changes in management have added an element of suspense to the team's dynamics, ensuring that fans are kept on the edge of their seats. The club's social media platforms have been buzzing with fan engagement, showcasing the unwavering support of supporters from all corners of the globe.\n",
       "\n",
       "## Key Players\n",
       "Mohamed Salah, Virgil van Dijk, and Sadio Mane emerge as pivotal figures in Liverpool F.C.'s roster, each bringing their distinct skills and contributions to the team. Salah's lightning-fast speed and goal-scoring abilities, van Dijk's authoritative presence in defense, and Mane's versatility and ingenuity on the field have been fundamental to the club's success. The statistics and highlights of their recent performances serve as a testament to their influence on the team, illustrating why they are regarded as some of the best in the world.\n",
       "\n",
       "## Noteworthy News\n",
       "From significant milestones and events in the club's recent history to controversies and off-the-field developments, Liverpool F.C. has experienced it all. Quotes from players, managers, and fans add a personal touch to the club's narrative, offering insights into the emotions and fervor that envelop Liverpool F.C. both on and off the pitch. The club's illustrious history is brimming with triumphs and adversities, creating a captivating storyline for football aficionados and enthusiasts alike.\n",
       "\n",
       "By delving into the latest trends, key players, and noteworthy news surrounding Liverpool F.C., we are able to gain a deeper comprehension of what sets the club apart. From their performances on the field to the passion that drives their fans, Liverpool F.C. continues to enthrall audiences worldwide with their distinctive brand of football. As we look towards the future, the enigmatic secrets of Liverpool F.C. are poised to unravel in ways that will undoubtedly keep us all eagerly anticipating what lies ahead."
      ],
      "text/plain": [
       "<IPython.core.display.Markdown object>"
      ]
     },
     "execution_count": 15,
     "metadata": {},
     "output_type": "execute_result"
    }
   ],
   "source": [
    "Markdown(result)"
   ]
  },
  {
   "cell_type": "markdown",
   "metadata": {},
   "source": [
    "<a name='1'></a>\n",
    " ## Other Popular Models as LLM for your Agents"
   ]
  },
  {
   "cell_type": "markdown",
   "metadata": {},
   "source": [
    "#### Hugging Face (HuggingFaceHub endpoint)\n",
    "\n",
    "```Python\n",
    "from langchain_community.llms import HuggingFaceHub\n",
    "\n",
    "llm = HuggingFaceHub(\n",
    "    repo_id=\"HuggingFaceH4/zephyr-7b-beta\",\n",
    "    huggingfacehub_api_token=\"<HF_TOKEN_HERE>\",\n",
    "    task=\"text-generation\",\n",
    ")\n",
    "\n",
    "### you will pass \"llm\" to your agent function\n",
    "```"
   ]
  },
  {
   "cell_type": "markdown",
   "metadata": {},
   "source": [
    "#### Mistral API\n",
    "\n",
    "```Python\n",
    "OPENAI_API_KEY=your-mistral-api-key\n",
    "OPENAI_API_BASE=https://api.mistral.ai/v1\n",
    "OPENAI_MODEL_NAME=\"mistral-small\"\n",
    "```"
   ]
  },
  {
   "cell_type": "markdown",
   "metadata": {},
   "source": [
    "#### Cohere\n",
    "\n",
    "```Python\n",
    "from langchain_community.chat_models import ChatCohere\n",
    "# Initialize language model\n",
    "os.environ[\"COHERE_API_KEY\"] = \"your-cohere-api-key\"\n",
    "llm = ChatCohere()\n",
    "\n",
    "### you will pass \"llm\" to your agent function\n",
    "```"
   ]
  },
  {
   "cell_type": "markdown",
   "metadata": {},
   "source": [
    "### For using Llama locally with Ollama and more, checkout the crewAI documentation on [Connecting to any LLM](https://docs.crewai.com/how-to/LLM-Connections/)."
   ]
  },
  {
   "cell_type": "code",
   "execution_count": null,
   "metadata": {
    "height": 30
   },
   "outputs": [],
   "source": []
  },
  {
   "cell_type": "code",
   "execution_count": null,
   "metadata": {
    "height": 30
   },
   "outputs": [],
   "source": []
  },
  {
   "cell_type": "code",
   "execution_count": null,
   "metadata": {
    "height": 30
   },
   "outputs": [],
   "source": []
  }
 ],
 "metadata": {
  "colab": {
   "gpuType": "T4",
   "provenance": []
  },
  "kernelspec": {
   "display_name": "Python 3 (ipykernel)",
   "language": "python",
   "name": "python3"
  },
  "language_info": {
   "codemirror_mode": {
    "name": "ipython",
    "version": 3
   },
   "file_extension": ".py",
   "mimetype": "text/x-python",
   "name": "python",
   "nbconvert_exporter": "python",
   "pygments_lexer": "ipython3",
   "version": "3.11.9"
  }
 },
 "nbformat": 4,
 "nbformat_minor": 4
}
