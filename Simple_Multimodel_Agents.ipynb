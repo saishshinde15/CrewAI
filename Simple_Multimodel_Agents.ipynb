{
  "nbformat": 4,
  "nbformat_minor": 0,
  "metadata": {
    "colab": {
      "provenance": [],
      "authorship_tag": "ABX9TyNJVrxNPyM3lReTjcg0/izO",
      "include_colab_link": true
    },
    "kernelspec": {
      "name": "python3",
      "display_name": "Python 3"
    },
    "language_info": {
      "name": "python"
    }
  },
  "cells": [
    {
      "cell_type": "markdown",
      "metadata": {
        "id": "view-in-github",
        "colab_type": "text"
      },
      "source": [
        "<a href=\"https://colab.research.google.com/github/saishshinde15/CrewAI/blob/main/Simple_Multimodel_Agents.ipynb\" target=\"_parent\"><img src=\"https://colab.research.google.com/assets/colab-badge.svg\" alt=\"Open In Colab\"/></a>"
      ]
    },
    {
      "cell_type": "code",
      "execution_count": 1,
      "metadata": {
        "id": "G3nejweTNQHf"
      },
      "outputs": [],
      "source": [
        "!pip -q install crewai crewai-tools"
      ]
    },
    {
      "cell_type": "code",
      "source": [
        "from crewai import Agent,Task,Process,LLM,Crew"
      ],
      "metadata": {
        "id": "QtjLl0IZNsNy"
      },
      "execution_count": 2,
      "outputs": []
    },
    {
      "cell_type": "code",
      "source": [
        "from google.colab import userdata\n",
        "serper=userdata.get('serpapi')"
      ],
      "metadata": {
        "id": "Wxz8EZNqQgbh"
      },
      "execution_count": 3,
      "outputs": []
    },
    {
      "cell_type": "code",
      "source": [
        "\n",
        "import os\n",
        "\n",
        "# Set the environment variable\n",
        "os.environ[\"SERPAPI_API_KEY\"] = serper\n"
      ],
      "metadata": {
        "id": "guMAgCw_QllX"
      },
      "execution_count": 4,
      "outputs": []
    },
    {
      "cell_type": "code",
      "source": [
        "from crewai_tools import SerperDevTool\n",
        "\n",
        "# Initialize the tool for internet searching capabilities\n",
        "tool = SerperDevTool()\n"
      ],
      "metadata": {
        "id": "k0AOP5YlQG34"
      },
      "execution_count": 5,
      "outputs": []
    },
    {
      "cell_type": "code",
      "source": [
        "from google.colab import userdata\n",
        "api_key=userdata.get('gemini_main')"
      ],
      "metadata": {
        "id": "vV5plEbEOj5c"
      },
      "execution_count": 64,
      "outputs": []
    },
    {
      "cell_type": "code",
      "source": [
        "llm = LLM(\n",
        "    model=\"gemini/gemini-1.5-flash\",\n",
        "    temperature=0.7,\n",
        "    api_key=api_key\n",
        ")"
      ],
      "metadata": {
        "id": "w62MVY5zOW4b"
      },
      "execution_count": 80,
      "outputs": []
    },
    {
      "cell_type": "code",
      "source": [
        "llm.call(\"what is \")"
      ],
      "metadata": {
        "colab": {
          "base_uri": "https://localhost:8080/",
          "height": 52
        },
        "id": "9JCO0_pqZevV",
        "outputId": "ad370a1c-3ef1-4620-e056-6499682ceacc"
      },
      "execution_count": 81,
      "outputs": [
        {
          "output_type": "execute_result",
          "data": {
            "text/plain": [
              "'Please provide the context or the question you\\'d like answered.  \"What is\" is incomplete.  I need more information.\\n'"
            ],
            "application/vnd.google.colaboratory.intrinsic+json": {
              "type": "string"
            }
          },
          "metadata": {},
          "execution_count": 81
        }
      ]
    },
    {
      "cell_type": "code",
      "source": [
        "from crewai import Agent\n",
        "\n",
        "image_analyst = Agent(\n",
        "    role=\"Image Analyst\",\n",
        "    goal=\"Analyze and extract insights from images\",\n",
        "    backstory=\"An expert in visual content interpretation with years of experience in image analysis\",\n",
        "    multimodal=True,  # This enables multimodal capabilities\n",
        "    llm=llm\n",
        ")"
      ],
      "metadata": {
        "id": "wQEX687RPZBy"
      },
      "execution_count": 82,
      "outputs": []
    },
    {
      "cell_type": "code",
      "source": [
        "task = Task(\n",
        "    description=\"Analyze the product image at https://images.pexels.com/photos/170811/pexels-photo-170811.jpeg and provide a detailed description.Use the tool provided to search the image.\",\n",
        "    expected_output=\"A detailed description of the product image\",\n",
        "    agent=image_analyst,\n",
        "    tools=[tool]\n",
        ")"
      ],
      "metadata": {
        "id": "kkCYLOIsPoZl"
      },
      "execution_count": 83,
      "outputs": []
    },
    {
      "cell_type": "code",
      "source": [
        "crew = Crew(\n",
        "    agents=[image_analyst],\n",
        "    tasks=[task],\n",
        "    process=Process.sequential\n",
        ")"
      ],
      "metadata": {
        "colab": {
          "base_uri": "https://localhost:8080/"
        },
        "id": "NhqCMbolP3OO",
        "outputId": "333d2084-6fee-40ec-9ca0-330c47ee3515"
      },
      "execution_count": 84,
      "outputs": [
        {
          "output_type": "stream",
          "name": "stderr",
          "text": [
            "WARNING:opentelemetry.trace:Overriding of current TracerProvider is not allowed\n"
          ]
        }
      ]
    },
    {
      "cell_type": "code",
      "source": [
        "result = crew.kickoff()"
      ],
      "metadata": {
        "id": "m2o62Y6lQBHU"
      },
      "execution_count": 85,
      "outputs": []
    },
    {
      "cell_type": "code",
      "source": [
        "print(result)"
      ],
      "metadata": {
        "colab": {
          "base_uri": "https://localhost:8080/"
        },
        "id": "yGwZlkxiROc8",
        "outputId": "2abed738-6170-468c-ea9d-cdda0d75eaba"
      },
      "execution_count": 86,
      "outputs": [
        {
          "output_type": "stream",
          "name": "stdout",
          "text": [
            "The image shows a vibrant blue BMW 3 Series Gran Turismo parked on a paved road. The car is facing the camera, its front clearly visible, showcasing a sleek and modern, sporty design. The BMW logo is prominent on the front grill.  The car's black wheels and tires appear to be in good condition, and the headlights are illuminated (possibly daytime running lights or a low-light photography setting). The windows are tinted, obscuring the interior. The background features a peaceful suburban scene: a grassy area, hedge, and trees displaying autumnal foliage (a mix of green, orange, and red leaves, suggesting an autumnal setting). The image is well-lit, sharp, and exhibits good contrast.\n",
            "```\n"
          ]
        }
      ]
    },
    {
      "cell_type": "code",
      "source": [],
      "metadata": {
        "id": "TWOIg9pDadVe"
      },
      "execution_count": null,
      "outputs": []
    }
  ]
}