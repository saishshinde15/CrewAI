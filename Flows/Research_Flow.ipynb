{
  "nbformat": 4,
  "nbformat_minor": 0,
  "metadata": {
    "colab": {
      "provenance": []
    },
    "kernelspec": {
      "name": "python3",
      "display_name": "Python 3"
    },
    "language_info": {
      "name": "python"
    }
  },
  "cells": [
    {
      "cell_type": "code",
      "execution_count": 1,
      "metadata": {
        "colab": {
          "base_uri": "https://localhost:8080/"
        },
        "id": "6M5d0eAcmHKf",
        "outputId": "513f0e09-82ee-43a8-e871-e9fa68779b09"
      },
      "outputs": [
        {
          "output_type": "stream",
          "name": "stdout",
          "text": [
            "Collecting crewai\n",
            "  Downloading crewai-0.108.0-py3-none-any.whl.metadata (33 kB)\n",
            "Collecting appdirs>=1.4.4 (from crewai)\n",
            "  Downloading appdirs-1.4.4-py2.py3-none-any.whl.metadata (9.0 kB)\n",
            "Collecting auth0-python>=4.7.1 (from crewai)\n",
            "  Downloading auth0_python-4.8.1-py3-none-any.whl.metadata (9.0 kB)\n",
            "Requirement already satisfied: blinker>=1.9.0 in /usr/local/lib/python3.11/dist-packages (from crewai) (1.9.0)\n",
            "Collecting chromadb>=0.5.23 (from crewai)\n",
            "  Downloading chromadb-0.6.3-py3-none-any.whl.metadata (6.8 kB)\n",
            "Requirement already satisfied: click>=8.1.7 in /usr/local/lib/python3.11/dist-packages (from crewai) (8.1.8)\n",
            "Collecting instructor>=1.3.3 (from crewai)\n",
            "  Downloading instructor-1.7.7-py3-none-any.whl.metadata (22 kB)\n",
            "Collecting json-repair>=0.25.2 (from crewai)\n",
            "  Downloading json_repair-0.40.0-py3-none-any.whl.metadata (11 kB)\n",
            "Collecting json5>=0.10.0 (from crewai)\n",
            "  Downloading json5-0.10.0-py3-none-any.whl.metadata (34 kB)\n",
            "Collecting jsonref>=1.1.0 (from crewai)\n",
            "  Downloading jsonref-1.1.0-py3-none-any.whl.metadata (2.7 kB)\n",
            "Collecting litellm==1.60.2 (from crewai)\n",
            "  Downloading litellm-1.60.2-py3-none-any.whl.metadata (36 kB)\n",
            "Requirement already satisfied: openai>=1.13.3 in /usr/local/lib/python3.11/dist-packages (from crewai) (1.66.3)\n",
            "Requirement already satisfied: openpyxl>=3.1.5 in /usr/local/lib/python3.11/dist-packages (from crewai) (3.1.5)\n",
            "Requirement already satisfied: opentelemetry-api>=1.22.0 in /usr/local/lib/python3.11/dist-packages (from crewai) (1.31.0)\n",
            "Collecting opentelemetry-exporter-otlp-proto-http>=1.22.0 (from crewai)\n",
            "  Downloading opentelemetry_exporter_otlp_proto_http-1.31.1-py3-none-any.whl.metadata (2.4 kB)\n",
            "Requirement already satisfied: opentelemetry-sdk>=1.22.0 in /usr/local/lib/python3.11/dist-packages (from crewai) (1.31.0)\n",
            "Collecting pdfplumber>=0.11.4 (from crewai)\n",
            "  Downloading pdfplumber-0.11.5-py3-none-any.whl.metadata (42 kB)\n",
            "\u001b[2K     \u001b[90m━━━━━━━━━━━━━━━━━━━━━━━━━━━━━━━━━━━━━━━━\u001b[0m \u001b[32m42.5/42.5 kB\u001b[0m \u001b[31m2.4 MB/s\u001b[0m eta \u001b[36m0:00:00\u001b[0m\n",
            "\u001b[?25hRequirement already satisfied: pydantic>=2.4.2 in /usr/local/lib/python3.11/dist-packages (from crewai) (2.10.6)\n",
            "Collecting python-dotenv>=1.0.0 (from crewai)\n",
            "  Downloading python_dotenv-1.0.1-py3-none-any.whl.metadata (23 kB)\n",
            "Collecting pyvis>=0.3.2 (from crewai)\n",
            "  Downloading pyvis-0.3.2-py3-none-any.whl.metadata (1.7 kB)\n",
            "Requirement already satisfied: regex>=2024.9.11 in /usr/local/lib/python3.11/dist-packages (from crewai) (2024.11.6)\n",
            "Collecting tomli-w>=1.1.0 (from crewai)\n",
            "  Downloading tomli_w-1.2.0-py3-none-any.whl.metadata (5.7 kB)\n",
            "Collecting tomli>=2.0.2 (from crewai)\n",
            "  Downloading tomli-2.2.1-cp311-cp311-manylinux_2_17_x86_64.manylinux2014_x86_64.whl.metadata (11 kB)\n",
            "Collecting uv>=0.4.25 (from crewai)\n",
            "  Downloading uv-0.6.9-py3-none-manylinux_2_17_x86_64.manylinux2014_x86_64.whl.metadata (11 kB)\n",
            "Requirement already satisfied: aiohttp in /usr/local/lib/python3.11/dist-packages (from litellm==1.60.2->crewai) (3.11.14)\n",
            "Collecting httpx<0.28.0,>=0.23.0 (from litellm==1.60.2->crewai)\n",
            "  Downloading httpx-0.27.2-py3-none-any.whl.metadata (7.1 kB)\n",
            "Requirement already satisfied: importlib-metadata>=6.8.0 in /usr/local/lib/python3.11/dist-packages (from litellm==1.60.2->crewai) (8.6.1)\n",
            "Requirement already satisfied: jinja2<4.0.0,>=3.1.2 in /usr/local/lib/python3.11/dist-packages (from litellm==1.60.2->crewai) (3.1.6)\n",
            "Requirement already satisfied: jsonschema<5.0.0,>=4.22.0 in /usr/local/lib/python3.11/dist-packages (from litellm==1.60.2->crewai) (4.23.0)\n",
            "Collecting tiktoken>=0.7.0 (from litellm==1.60.2->crewai)\n",
            "  Downloading tiktoken-0.9.0-cp311-cp311-manylinux_2_17_x86_64.manylinux2014_x86_64.whl.metadata (6.7 kB)\n",
            "Requirement already satisfied: tokenizers in /usr/local/lib/python3.11/dist-packages (from litellm==1.60.2->crewai) (0.21.1)\n",
            "Collecting crewai-tools>=0.37.0 (from crewai[tools])\n",
            "  Downloading crewai_tools-0.38.1-py3-none-any.whl.metadata (5.5 kB)\n",
            "Requirement already satisfied: cryptography>=43.0.1 in /usr/local/lib/python3.11/dist-packages (from auth0-python>=4.7.1->crewai) (43.0.3)\n",
            "Requirement already satisfied: pyjwt>=2.8.0 in /usr/local/lib/python3.11/dist-packages (from auth0-python>=4.7.1->crewai) (2.10.1)\n",
            "Requirement already satisfied: requests>=2.32.3 in /usr/local/lib/python3.11/dist-packages (from auth0-python>=4.7.1->crewai) (2.32.3)\n",
            "Requirement already satisfied: urllib3>=2.2.3 in /usr/local/lib/python3.11/dist-packages (from auth0-python>=4.7.1->crewai) (2.3.0)\n",
            "Collecting build>=1.0.3 (from chromadb>=0.5.23->crewai)\n",
            "  Downloading build-1.2.2.post1-py3-none-any.whl.metadata (6.5 kB)\n",
            "Collecting chroma-hnswlib==0.7.6 (from chromadb>=0.5.23->crewai)\n",
            "  Downloading chroma_hnswlib-0.7.6-cp311-cp311-manylinux_2_17_x86_64.manylinux2014_x86_64.whl.metadata (252 bytes)\n",
            "Collecting fastapi>=0.95.2 (from chromadb>=0.5.23->crewai)\n",
            "  Downloading fastapi-0.115.12-py3-none-any.whl.metadata (27 kB)\n",
            "Collecting uvicorn>=0.18.3 (from uvicorn[standard]>=0.18.3->chromadb>=0.5.23->crewai)\n",
            "  Downloading uvicorn-0.34.0-py3-none-any.whl.metadata (6.5 kB)\n",
            "Requirement already satisfied: numpy>=1.22.5 in /usr/local/lib/python3.11/dist-packages (from chromadb>=0.5.23->crewai) (2.0.2)\n",
            "Collecting posthog>=2.4.0 (from chromadb>=0.5.23->crewai)\n",
            "  Downloading posthog-3.21.0-py2.py3-none-any.whl.metadata (2.9 kB)\n",
            "Requirement already satisfied: typing_extensions>=4.5.0 in /usr/local/lib/python3.11/dist-packages (from chromadb>=0.5.23->crewai) (4.12.2)\n",
            "Collecting onnxruntime>=1.14.1 (from chromadb>=0.5.23->crewai)\n",
            "  Downloading onnxruntime-1.21.0-cp311-cp311-manylinux_2_27_x86_64.manylinux_2_28_x86_64.whl.metadata (4.5 kB)\n",
            "Collecting opentelemetry-exporter-otlp-proto-grpc>=1.2.0 (from chromadb>=0.5.23->crewai)\n",
            "  Downloading opentelemetry_exporter_otlp_proto_grpc-1.31.1-py3-none-any.whl.metadata (2.5 kB)\n",
            "Collecting opentelemetry-instrumentation-fastapi>=0.41b0 (from chromadb>=0.5.23->crewai)\n",
            "  Downloading opentelemetry_instrumentation_fastapi-0.52b1-py3-none-any.whl.metadata (2.2 kB)\n",
            "Collecting pypika>=0.48.9 (from chromadb>=0.5.23->crewai)\n",
            "  Downloading PyPika-0.48.9.tar.gz (67 kB)\n",
            "\u001b[2K     \u001b[90m━━━━━━━━━━━━━━━━━━━━━━━━━━━━━━━━━━━━━━━━\u001b[0m \u001b[32m67.3/67.3 kB\u001b[0m \u001b[31m4.8 MB/s\u001b[0m eta \u001b[36m0:00:00\u001b[0m\n",
            "\u001b[?25h  Installing build dependencies ... \u001b[?25l\u001b[?25hdone\n",
            "  Getting requirements to build wheel ... \u001b[?25l\u001b[?25hdone\n",
            "  Preparing metadata (pyproject.toml) ... \u001b[?25l\u001b[?25hdone\n",
            "Requirement already satisfied: tqdm>=4.65.0 in /usr/local/lib/python3.11/dist-packages (from chromadb>=0.5.23->crewai) (4.67.1)\n",
            "Collecting overrides>=7.3.1 (from chromadb>=0.5.23->crewai)\n",
            "  Downloading overrides-7.7.0-py3-none-any.whl.metadata (5.8 kB)\n",
            "Requirement already satisfied: importlib-resources in /usr/local/lib/python3.11/dist-packages (from chromadb>=0.5.23->crewai) (6.5.2)\n",
            "Requirement already satisfied: grpcio>=1.58.0 in /usr/local/lib/python3.11/dist-packages (from chromadb>=0.5.23->crewai) (1.71.0)\n",
            "Collecting bcrypt>=4.0.1 (from chromadb>=0.5.23->crewai)\n",
            "  Downloading bcrypt-4.3.0-cp39-abi3-manylinux_2_34_x86_64.whl.metadata (10 kB)\n",
            "Requirement already satisfied: typer>=0.9.0 in /usr/local/lib/python3.11/dist-packages (from chromadb>=0.5.23->crewai) (0.15.2)\n",
            "Collecting kubernetes>=28.1.0 (from chromadb>=0.5.23->crewai)\n",
            "  Downloading kubernetes-32.0.1-py2.py3-none-any.whl.metadata (1.7 kB)\n",
            "Requirement already satisfied: tenacity>=8.2.3 in /usr/local/lib/python3.11/dist-packages (from chromadb>=0.5.23->crewai) (9.0.0)\n",
            "Requirement already satisfied: PyYAML>=6.0.0 in /usr/local/lib/python3.11/dist-packages (from chromadb>=0.5.23->crewai) (6.0.2)\n",
            "Collecting mmh3>=4.0.1 (from chromadb>=0.5.23->crewai)\n",
            "  Downloading mmh3-5.1.0-cp311-cp311-manylinux_2_5_x86_64.manylinux1_x86_64.manylinux_2_17_x86_64.manylinux2014_x86_64.whl.metadata (16 kB)\n",
            "Requirement already satisfied: orjson>=3.9.12 in /usr/local/lib/python3.11/dist-packages (from chromadb>=0.5.23->crewai) (3.10.15)\n",
            "Requirement already satisfied: rich>=10.11.0 in /usr/local/lib/python3.11/dist-packages (from chromadb>=0.5.23->crewai) (13.9.4)\n",
            "Collecting docker>=7.1.0 (from crewai-tools>=0.37.0->crewai[tools])\n",
            "  Downloading docker-7.1.0-py3-none-any.whl.metadata (3.8 kB)\n",
            "Collecting embedchain>=0.1.114 (from crewai-tools>=0.37.0->crewai[tools])\n",
            "  Downloading embedchain-0.1.127-py3-none-any.whl.metadata (9.3 kB)\n",
            "Collecting lancedb>=0.5.4 (from crewai-tools>=0.37.0->crewai[tools])\n",
            "  Downloading lancedb-0.21.1-cp39-abi3-manylinux_2_28_x86_64.whl.metadata (4.1 kB)\n",
            "Collecting pyright>=1.1.350 (from crewai-tools>=0.37.0->crewai[tools])\n",
            "  Downloading pyright-1.1.397-py3-none-any.whl.metadata (6.6 kB)\n",
            "Collecting pytube>=15.0.0 (from crewai-tools>=0.37.0->crewai[tools])\n",
            "  Downloading pytube-15.0.0-py3-none-any.whl.metadata (5.0 kB)\n",
            "Requirement already satisfied: docstring-parser<1.0,>=0.16 in /usr/local/lib/python3.11/dist-packages (from instructor>=1.3.3->crewai) (0.16)\n",
            "Collecting jiter<0.9,>=0.6.1 (from instructor>=1.3.3->crewai)\n",
            "  Downloading jiter-0.8.2-cp311-cp311-manylinux_2_17_x86_64.manylinux2014_x86_64.whl.metadata (5.2 kB)\n",
            "Requirement already satisfied: pydantic-core<3.0.0,>=2.18.0 in /usr/local/lib/python3.11/dist-packages (from instructor>=1.3.3->crewai) (2.27.2)\n",
            "Requirement already satisfied: anyio<5,>=3.5.0 in /usr/local/lib/python3.11/dist-packages (from openai>=1.13.3->crewai) (4.9.0)\n",
            "Requirement already satisfied: distro<2,>=1.7.0 in /usr/local/lib/python3.11/dist-packages (from openai>=1.13.3->crewai) (1.9.0)\n",
            "Requirement already satisfied: sniffio in /usr/local/lib/python3.11/dist-packages (from openai>=1.13.3->crewai) (1.3.1)\n",
            "Requirement already satisfied: et-xmlfile in /usr/local/lib/python3.11/dist-packages (from openpyxl>=3.1.5->crewai) (2.0.0)\n",
            "Requirement already satisfied: deprecated>=1.2.6 in /usr/local/lib/python3.11/dist-packages (from opentelemetry-api>=1.22.0->crewai) (1.2.18)\n",
            "Requirement already satisfied: googleapis-common-protos~=1.52 in /usr/local/lib/python3.11/dist-packages (from opentelemetry-exporter-otlp-proto-http>=1.22.0->crewai) (1.69.2)\n",
            "Collecting opentelemetry-exporter-otlp-proto-common==1.31.1 (from opentelemetry-exporter-otlp-proto-http>=1.22.0->crewai)\n",
            "  Downloading opentelemetry_exporter_otlp_proto_common-1.31.1-py3-none-any.whl.metadata (1.9 kB)\n",
            "Collecting opentelemetry-proto==1.31.1 (from opentelemetry-exporter-otlp-proto-http>=1.22.0->crewai)\n",
            "  Downloading opentelemetry_proto-1.31.1-py3-none-any.whl.metadata (2.4 kB)\n",
            "Collecting opentelemetry-sdk>=1.22.0 (from crewai)\n",
            "  Downloading opentelemetry_sdk-1.31.1-py3-none-any.whl.metadata (1.6 kB)\n",
            "Requirement already satisfied: protobuf<6.0,>=5.0 in /usr/local/lib/python3.11/dist-packages (from opentelemetry-proto==1.31.1->opentelemetry-exporter-otlp-proto-http>=1.22.0->crewai) (5.29.3)\n",
            "Collecting opentelemetry-api>=1.22.0 (from crewai)\n",
            "  Downloading opentelemetry_api-1.31.1-py3-none-any.whl.metadata (1.6 kB)\n",
            "Collecting opentelemetry-semantic-conventions==0.52b1 (from opentelemetry-sdk>=1.22.0->crewai)\n",
            "  Downloading opentelemetry_semantic_conventions-0.52b1-py3-none-any.whl.metadata (2.5 kB)\n",
            "Collecting pdfminer.six==20231228 (from pdfplumber>=0.11.4->crewai)\n",
            "  Downloading pdfminer.six-20231228-py3-none-any.whl.metadata (4.2 kB)\n",
            "Requirement already satisfied: Pillow>=9.1 in /usr/local/lib/python3.11/dist-packages (from pdfplumber>=0.11.4->crewai) (11.1.0)\n",
            "Collecting pypdfium2>=4.18.0 (from pdfplumber>=0.11.4->crewai)\n",
            "  Downloading pypdfium2-4.30.1-py3-none-manylinux_2_17_x86_64.manylinux2014_x86_64.whl.metadata (48 kB)\n",
            "\u001b[2K     \u001b[90m━━━━━━━━━━━━━━━━━━━━━━━━━━━━━━━━━━━━━━━━\u001b[0m \u001b[32m48.2/48.2 kB\u001b[0m \u001b[31m4.5 MB/s\u001b[0m eta \u001b[36m0:00:00\u001b[0m\n",
            "\u001b[?25hRequirement already satisfied: charset-normalizer>=2.0.0 in /usr/local/lib/python3.11/dist-packages (from pdfminer.six==20231228->pdfplumber>=0.11.4->crewai) (3.4.1)\n",
            "Requirement already satisfied: annotated-types>=0.6.0 in /usr/local/lib/python3.11/dist-packages (from pydantic>=2.4.2->crewai) (0.7.0)\n",
            "Requirement already satisfied: ipython>=5.3.0 in /usr/local/lib/python3.11/dist-packages (from pyvis>=0.3.2->crewai) (7.34.0)\n",
            "Requirement already satisfied: jsonpickle>=1.4.1 in /usr/local/lib/python3.11/dist-packages (from pyvis>=0.3.2->crewai) (4.0.2)\n",
            "Requirement already satisfied: networkx>=1.11 in /usr/local/lib/python3.11/dist-packages (from pyvis>=0.3.2->crewai) (3.4.2)\n",
            "Requirement already satisfied: aiohappyeyeballs>=2.3.0 in /usr/local/lib/python3.11/dist-packages (from aiohttp->litellm==1.60.2->crewai) (2.6.1)\n",
            "Requirement already satisfied: aiosignal>=1.1.2 in /usr/local/lib/python3.11/dist-packages (from aiohttp->litellm==1.60.2->crewai) (1.3.2)\n",
            "Requirement already satisfied: attrs>=17.3.0 in /usr/local/lib/python3.11/dist-packages (from aiohttp->litellm==1.60.2->crewai) (25.3.0)\n",
            "Requirement already satisfied: frozenlist>=1.1.1 in /usr/local/lib/python3.11/dist-packages (from aiohttp->litellm==1.60.2->crewai) (1.5.0)\n",
            "Requirement already satisfied: multidict<7.0,>=4.5 in /usr/local/lib/python3.11/dist-packages (from aiohttp->litellm==1.60.2->crewai) (6.2.0)\n",
            "Requirement already satisfied: propcache>=0.2.0 in /usr/local/lib/python3.11/dist-packages (from aiohttp->litellm==1.60.2->crewai) (0.3.0)\n",
            "Requirement already satisfied: yarl<2.0,>=1.17.0 in /usr/local/lib/python3.11/dist-packages (from aiohttp->litellm==1.60.2->crewai) (1.18.3)\n",
            "Requirement already satisfied: idna>=2.8 in /usr/local/lib/python3.11/dist-packages (from anyio<5,>=3.5.0->openai>=1.13.3->crewai) (3.10)\n",
            "Requirement already satisfied: packaging>=19.1 in /usr/local/lib/python3.11/dist-packages (from build>=1.0.3->chromadb>=0.5.23->crewai) (24.2)\n",
            "Collecting pyproject_hooks (from build>=1.0.3->chromadb>=0.5.23->crewai)\n",
            "  Downloading pyproject_hooks-1.2.0-py3-none-any.whl.metadata (1.3 kB)\n",
            "Requirement already satisfied: cffi>=1.12 in /usr/local/lib/python3.11/dist-packages (from cryptography>=43.0.1->auth0-python>=4.7.1->crewai) (1.17.1)\n",
            "Requirement already satisfied: wrapt<2,>=1.10 in /usr/local/lib/python3.11/dist-packages (from deprecated>=1.2.6->opentelemetry-api>=1.22.0->crewai) (1.17.2)\n",
            "Collecting alembic<2.0.0,>=1.13.1 (from embedchain>=0.1.114->crewai-tools>=0.37.0->crewai[tools])\n",
            "  Downloading alembic-1.15.1-py3-none-any.whl.metadata (7.2 kB)\n",
            "Requirement already satisfied: beautifulsoup4<5.0.0,>=4.12.2 in /usr/local/lib/python3.11/dist-packages (from embedchain>=0.1.114->crewai-tools>=0.37.0->crewai[tools]) (4.13.3)\n",
            "Collecting chromadb>=0.5.23 (from crewai)\n",
            "  Downloading chromadb-0.5.23-py3-none-any.whl.metadata (6.8 kB)\n",
            "Collecting cohere<6.0,>=5.3 (from embedchain>=0.1.114->crewai-tools>=0.37.0->crewai[tools])\n",
            "  Downloading cohere-5.14.0-py3-none-any.whl.metadata (3.4 kB)\n",
            "Requirement already satisfied: google-cloud-aiplatform<2.0.0,>=1.26.1 in /usr/local/lib/python3.11/dist-packages (from embedchain>=0.1.114->crewai-tools>=0.37.0->crewai[tools]) (1.84.0)\n",
            "Collecting gptcache<0.2.0,>=0.1.43 (from embedchain>=0.1.114->crewai-tools>=0.37.0->crewai[tools])\n",
            "  Downloading gptcache-0.1.44-py3-none-any.whl.metadata (24 kB)\n",
            "Requirement already satisfied: langchain<0.4.0,>=0.3.1 in /usr/local/lib/python3.11/dist-packages (from embedchain>=0.1.114->crewai-tools>=0.37.0->crewai[tools]) (0.3.20)\n",
            "Collecting langchain-cohere<0.4.0,>=0.3.0 (from embedchain>=0.1.114->crewai-tools>=0.37.0->crewai[tools])\n",
            "  Downloading langchain_cohere-0.3.5-py3-none-any.whl.metadata (6.7 kB)\n",
            "Collecting langchain-community<0.4.0,>=0.3.1 (from embedchain>=0.1.114->crewai-tools>=0.37.0->crewai[tools])\n",
            "  Downloading langchain_community-0.3.20-py3-none-any.whl.metadata (2.4 kB)\n",
            "Collecting langchain-openai<0.3.0,>=0.2.1 (from embedchain>=0.1.114->crewai-tools>=0.37.0->crewai[tools])\n",
            "  Downloading langchain_openai-0.2.14-py3-none-any.whl.metadata (2.7 kB)\n",
            "Collecting langsmith<0.2.0,>=0.1.17 (from embedchain>=0.1.114->crewai-tools>=0.37.0->crewai[tools])\n",
            "  Downloading langsmith-0.1.147-py3-none-any.whl.metadata (14 kB)\n",
            "Collecting mem0ai<0.2.0,>=0.1.54 (from embedchain>=0.1.114->crewai-tools>=0.37.0->crewai[tools])\n",
            "  Downloading mem0ai-0.1.74-py3-none-any.whl.metadata (8.6 kB)\n",
            "Collecting pypdf<6.0.0,>=5.0.0 (from embedchain>=0.1.114->crewai-tools>=0.37.0->crewai[tools])\n",
            "  Downloading pypdf-5.4.0-py3-none-any.whl.metadata (7.3 kB)\n",
            "Collecting pysbd<0.4.0,>=0.3.4 (from embedchain>=0.1.114->crewai-tools>=0.37.0->crewai[tools])\n",
            "  Downloading pysbd-0.3.4-py3-none-any.whl.metadata (6.1 kB)\n",
            "Collecting schema<0.8.0,>=0.7.5 (from embedchain>=0.1.114->crewai-tools>=0.37.0->crewai[tools])\n",
            "  Downloading schema-0.7.7-py2.py3-none-any.whl.metadata (34 kB)\n",
            "Requirement already satisfied: sqlalchemy<3.0.0,>=2.0.27 in /usr/local/lib/python3.11/dist-packages (from embedchain>=0.1.114->crewai-tools>=0.37.0->crewai[tools]) (2.0.39)\n",
            "Collecting tiktoken>=0.7.0 (from litellm==1.60.2->crewai)\n",
            "  Downloading tiktoken-0.7.0-cp311-cp311-manylinux_2_17_x86_64.manylinux2014_x86_64.whl.metadata (6.6 kB)\n",
            "Collecting tokenizers (from litellm==1.60.2->crewai)\n",
            "  Downloading tokenizers-0.20.3-cp311-cp311-manylinux_2_17_x86_64.manylinux2014_x86_64.whl.metadata (6.7 kB)\n",
            "Collecting starlette<0.47.0,>=0.40.0 (from fastapi>=0.95.2->chromadb>=0.5.23->crewai)\n",
            "  Downloading starlette-0.46.1-py3-none-any.whl.metadata (6.2 kB)\n",
            "Requirement already satisfied: certifi in /usr/local/lib/python3.11/dist-packages (from httpx<0.28.0,>=0.23.0->litellm==1.60.2->crewai) (2025.1.31)\n",
            "Requirement already satisfied: httpcore==1.* in /usr/local/lib/python3.11/dist-packages (from httpx<0.28.0,>=0.23.0->litellm==1.60.2->crewai) (1.0.7)\n",
            "Requirement already satisfied: h11<0.15,>=0.13 in /usr/local/lib/python3.11/dist-packages (from httpcore==1.*->httpx<0.28.0,>=0.23.0->litellm==1.60.2->crewai) (0.14.0)\n",
            "Requirement already satisfied: zipp>=3.20 in /usr/local/lib/python3.11/dist-packages (from importlib-metadata>=6.8.0->litellm==1.60.2->crewai) (3.21.0)\n",
            "Requirement already satisfied: setuptools>=18.5 in /usr/local/lib/python3.11/dist-packages (from ipython>=5.3.0->pyvis>=0.3.2->crewai) (75.1.0)\n",
            "Collecting jedi>=0.16 (from ipython>=5.3.0->pyvis>=0.3.2->crewai)\n",
            "  Downloading jedi-0.19.2-py2.py3-none-any.whl.metadata (22 kB)\n",
            "Requirement already satisfied: decorator in /usr/local/lib/python3.11/dist-packages (from ipython>=5.3.0->pyvis>=0.3.2->crewai) (4.4.2)\n",
            "Requirement already satisfied: pickleshare in /usr/local/lib/python3.11/dist-packages (from ipython>=5.3.0->pyvis>=0.3.2->crewai) (0.7.5)\n",
            "Requirement already satisfied: traitlets>=4.2 in /usr/local/lib/python3.11/dist-packages (from ipython>=5.3.0->pyvis>=0.3.2->crewai) (5.7.1)\n",
            "Requirement already satisfied: prompt-toolkit!=3.0.0,!=3.0.1,<3.1.0,>=2.0.0 in /usr/local/lib/python3.11/dist-packages (from ipython>=5.3.0->pyvis>=0.3.2->crewai) (3.0.50)\n",
            "Requirement already satisfied: pygments in /usr/local/lib/python3.11/dist-packages (from ipython>=5.3.0->pyvis>=0.3.2->crewai) (2.18.0)\n",
            "Requirement already satisfied: backcall in /usr/local/lib/python3.11/dist-packages (from ipython>=5.3.0->pyvis>=0.3.2->crewai) (0.2.0)\n",
            "Requirement already satisfied: matplotlib-inline in /usr/local/lib/python3.11/dist-packages (from ipython>=5.3.0->pyvis>=0.3.2->crewai) (0.1.7)\n",
            "Requirement already satisfied: pexpect>4.3 in /usr/local/lib/python3.11/dist-packages (from ipython>=5.3.0->pyvis>=0.3.2->crewai) (4.9.0)\n",
            "Requirement already satisfied: MarkupSafe>=2.0 in /usr/local/lib/python3.11/dist-packages (from jinja2<4.0.0,>=3.1.2->litellm==1.60.2->crewai) (3.0.2)\n",
            "Requirement already satisfied: jsonschema-specifications>=2023.03.6 in /usr/local/lib/python3.11/dist-packages (from jsonschema<5.0.0,>=4.22.0->litellm==1.60.2->crewai) (2024.10.1)\n",
            "Requirement already satisfied: referencing>=0.28.4 in /usr/local/lib/python3.11/dist-packages (from jsonschema<5.0.0,>=4.22.0->litellm==1.60.2->crewai) (0.36.2)\n",
            "Requirement already satisfied: rpds-py>=0.7.1 in /usr/local/lib/python3.11/dist-packages (from jsonschema<5.0.0,>=4.22.0->litellm==1.60.2->crewai) (0.23.1)\n",
            "Requirement already satisfied: six>=1.9.0 in /usr/local/lib/python3.11/dist-packages (from kubernetes>=28.1.0->chromadb>=0.5.23->crewai) (1.17.0)\n",
            "Requirement already satisfied: python-dateutil>=2.5.3 in /usr/local/lib/python3.11/dist-packages (from kubernetes>=28.1.0->chromadb>=0.5.23->crewai) (2.8.2)\n",
            "Requirement already satisfied: google-auth>=1.0.1 in /usr/local/lib/python3.11/dist-packages (from kubernetes>=28.1.0->chromadb>=0.5.23->crewai) (2.38.0)\n",
            "Requirement already satisfied: websocket-client!=0.40.0,!=0.41.*,!=0.42.*,>=0.32.0 in /usr/local/lib/python3.11/dist-packages (from kubernetes>=28.1.0->chromadb>=0.5.23->crewai) (1.8.0)\n",
            "Requirement already satisfied: requests-oauthlib in /usr/local/lib/python3.11/dist-packages (from kubernetes>=28.1.0->chromadb>=0.5.23->crewai) (2.0.0)\n",
            "Requirement already satisfied: oauthlib>=3.2.2 in /usr/local/lib/python3.11/dist-packages (from kubernetes>=28.1.0->chromadb>=0.5.23->crewai) (3.2.2)\n",
            "Collecting durationpy>=0.7 (from kubernetes>=28.1.0->chromadb>=0.5.23->crewai)\n",
            "  Downloading durationpy-0.9-py3-none-any.whl.metadata (338 bytes)\n",
            "Collecting deprecation (from lancedb>=0.5.4->crewai-tools>=0.37.0->crewai[tools])\n",
            "  Downloading deprecation-2.1.0-py2.py3-none-any.whl.metadata (4.6 kB)\n",
            "Requirement already satisfied: pyarrow>=14 in /usr/local/lib/python3.11/dist-packages (from lancedb>=0.5.4->crewai-tools>=0.37.0->crewai[tools]) (18.1.0)\n",
            "Collecting pylance>=0.23.2 (from lancedb>=0.5.4->crewai-tools>=0.37.0->crewai[tools])\n",
            "  Downloading pylance-0.24.1-cp39-abi3-manylinux_2_28_x86_64.whl.metadata (7.2 kB)\n",
            "Collecting coloredlogs (from onnxruntime>=1.14.1->chromadb>=0.5.23->crewai)\n",
            "  Downloading coloredlogs-15.0.1-py2.py3-none-any.whl.metadata (12 kB)\n",
            "Requirement already satisfied: flatbuffers in /usr/local/lib/python3.11/dist-packages (from onnxruntime>=1.14.1->chromadb>=0.5.23->crewai) (25.2.10)\n",
            "Requirement already satisfied: sympy in /usr/local/lib/python3.11/dist-packages (from onnxruntime>=1.14.1->chromadb>=0.5.23->crewai) (1.13.1)\n",
            "Collecting opentelemetry-instrumentation-asgi==0.52b1 (from opentelemetry-instrumentation-fastapi>=0.41b0->chromadb>=0.5.23->crewai)\n",
            "  Downloading opentelemetry_instrumentation_asgi-0.52b1-py3-none-any.whl.metadata (2.1 kB)\n",
            "Collecting opentelemetry-instrumentation==0.52b1 (from opentelemetry-instrumentation-fastapi>=0.41b0->chromadb>=0.5.23->crewai)\n",
            "  Downloading opentelemetry_instrumentation-0.52b1-py3-none-any.whl.metadata (6.8 kB)\n",
            "Collecting opentelemetry-util-http==0.52b1 (from opentelemetry-instrumentation-fastapi>=0.41b0->chromadb>=0.5.23->crewai)\n",
            "  Downloading opentelemetry_util_http-0.52b1-py3-none-any.whl.metadata (2.6 kB)\n",
            "Collecting asgiref~=3.0 (from opentelemetry-instrumentation-asgi==0.52b1->opentelemetry-instrumentation-fastapi>=0.41b0->chromadb>=0.5.23->crewai)\n",
            "  Downloading asgiref-3.8.1-py3-none-any.whl.metadata (9.3 kB)\n",
            "Collecting monotonic>=1.5 (from posthog>=2.4.0->chromadb>=0.5.23->crewai)\n",
            "  Downloading monotonic-1.6-py2.py3-none-any.whl.metadata (1.5 kB)\n",
            "Collecting backoff>=1.10.0 (from posthog>=2.4.0->chromadb>=0.5.23->crewai)\n",
            "  Downloading backoff-2.2.1-py3-none-any.whl.metadata (14 kB)\n",
            "Collecting nodeenv>=1.6.0 (from pyright>=1.1.350->crewai-tools>=0.37.0->crewai[tools])\n",
            "  Downloading nodeenv-1.9.1-py2.py3-none-any.whl.metadata (21 kB)\n",
            "Requirement already satisfied: markdown-it-py>=2.2.0 in /usr/local/lib/python3.11/dist-packages (from rich>=10.11.0->chromadb>=0.5.23->crewai) (3.0.0)\n",
            "Requirement already satisfied: huggingface-hub<1.0,>=0.16.4 in /usr/local/lib/python3.11/dist-packages (from tokenizers->litellm==1.60.2->crewai) (0.29.3)\n",
            "Requirement already satisfied: shellingham>=1.3.0 in /usr/local/lib/python3.11/dist-packages (from typer>=0.9.0->chromadb>=0.5.23->crewai) (1.5.4)\n",
            "Collecting httptools>=0.6.3 (from uvicorn[standard]>=0.18.3->chromadb>=0.5.23->crewai)\n",
            "  Downloading httptools-0.6.4-cp311-cp311-manylinux_2_5_x86_64.manylinux1_x86_64.manylinux_2_17_x86_64.manylinux2014_x86_64.whl.metadata (3.6 kB)\n",
            "Collecting uvloop!=0.15.0,!=0.15.1,>=0.14.0 (from uvicorn[standard]>=0.18.3->chromadb>=0.5.23->crewai)\n",
            "  Downloading uvloop-0.21.0-cp311-cp311-manylinux_2_17_x86_64.manylinux2014_x86_64.whl.metadata (4.9 kB)\n",
            "Collecting watchfiles>=0.13 (from uvicorn[standard]>=0.18.3->chromadb>=0.5.23->crewai)\n",
            "  Downloading watchfiles-1.0.4-cp311-cp311-manylinux_2_17_x86_64.manylinux2014_x86_64.whl.metadata (4.9 kB)\n",
            "Requirement already satisfied: websockets>=10.4 in /usr/local/lib/python3.11/dist-packages (from uvicorn[standard]>=0.18.3->chromadb>=0.5.23->crewai) (14.2)\n",
            "Requirement already satisfied: Mako in /usr/lib/python3/dist-packages (from alembic<2.0.0,>=1.13.1->embedchain>=0.1.114->crewai-tools>=0.37.0->crewai[tools]) (1.1.3)\n",
            "Requirement already satisfied: soupsieve>1.2 in /usr/local/lib/python3.11/dist-packages (from beautifulsoup4<5.0.0,>=4.12.2->embedchain>=0.1.114->crewai-tools>=0.37.0->crewai[tools]) (2.6)\n",
            "Requirement already satisfied: pycparser in /usr/local/lib/python3.11/dist-packages (from cffi>=1.12->cryptography>=43.0.1->auth0-python>=4.7.1->crewai) (2.22)\n",
            "Collecting fastavro<2.0.0,>=1.9.4 (from cohere<6.0,>=5.3->embedchain>=0.1.114->crewai-tools>=0.37.0->crewai[tools])\n",
            "  Downloading fastavro-1.10.0-cp311-cp311-manylinux_2_17_x86_64.manylinux2014_x86_64.whl.metadata (5.5 kB)\n",
            "Collecting httpx-sse==0.4.0 (from cohere<6.0,>=5.3->embedchain>=0.1.114->crewai-tools>=0.37.0->crewai[tools])\n",
            "  Downloading httpx_sse-0.4.0-py3-none-any.whl.metadata (9.0 kB)\n",
            "Collecting types-requests<3.0.0,>=2.0.0 (from cohere<6.0,>=5.3->embedchain>=0.1.114->crewai-tools>=0.37.0->crewai[tools])\n",
            "  Downloading types_requests-2.32.0.20250306-py3-none-any.whl.metadata (2.3 kB)\n",
            "Requirement already satisfied: cachetools<6.0,>=2.0.0 in /usr/local/lib/python3.11/dist-packages (from google-auth>=1.0.1->kubernetes>=28.1.0->chromadb>=0.5.23->crewai) (5.5.2)\n",
            "Requirement already satisfied: pyasn1-modules>=0.2.1 in /usr/local/lib/python3.11/dist-packages (from google-auth>=1.0.1->kubernetes>=28.1.0->chromadb>=0.5.23->crewai) (0.4.1)\n",
            "Requirement already satisfied: rsa<5,>=3.1.4 in /usr/local/lib/python3.11/dist-packages (from google-auth>=1.0.1->kubernetes>=28.1.0->chromadb>=0.5.23->crewai) (4.9)\n",
            "Requirement already satisfied: google-api-core!=2.0.*,!=2.1.*,!=2.2.*,!=2.3.*,!=2.4.*,!=2.5.*,!=2.6.*,!=2.7.*,<3.0.0dev,>=1.34.1 in /usr/local/lib/python3.11/dist-packages (from google-api-core[grpc]!=2.0.*,!=2.1.*,!=2.2.*,!=2.3.*,!=2.4.*,!=2.5.*,!=2.6.*,!=2.7.*,<3.0.0dev,>=1.34.1->google-cloud-aiplatform<2.0.0,>=1.26.1->embedchain>=0.1.114->crewai-tools>=0.37.0->crewai[tools]) (2.24.2)\n",
            "Requirement already satisfied: proto-plus<2.0.0dev,>=1.22.3 in /usr/local/lib/python3.11/dist-packages (from google-cloud-aiplatform<2.0.0,>=1.26.1->embedchain>=0.1.114->crewai-tools>=0.37.0->crewai[tools]) (1.26.1)\n",
            "Requirement already satisfied: google-cloud-storage<3.0.0dev,>=1.32.0 in /usr/local/lib/python3.11/dist-packages (from google-cloud-aiplatform<2.0.0,>=1.26.1->embedchain>=0.1.114->crewai-tools>=0.37.0->crewai[tools]) (2.19.0)\n",
            "Requirement already satisfied: google-cloud-bigquery!=3.20.0,<4.0.0dev,>=1.15.0 in /usr/local/lib/python3.11/dist-packages (from google-cloud-aiplatform<2.0.0,>=1.26.1->embedchain>=0.1.114->crewai-tools>=0.37.0->crewai[tools]) (3.29.0)\n",
            "Requirement already satisfied: google-cloud-resource-manager<3.0.0dev,>=1.3.3 in /usr/local/lib/python3.11/dist-packages (from google-cloud-aiplatform<2.0.0,>=1.26.1->embedchain>=0.1.114->crewai-tools>=0.37.0->crewai[tools]) (1.14.2)\n",
            "Requirement already satisfied: shapely<3.0.0dev in /usr/local/lib/python3.11/dist-packages (from google-cloud-aiplatform<2.0.0,>=1.26.1->embedchain>=0.1.114->crewai-tools>=0.37.0->crewai[tools]) (2.0.7)\n",
            "Requirement already satisfied: filelock in /usr/local/lib/python3.11/dist-packages (from huggingface-hub<1.0,>=0.16.4->tokenizers->litellm==1.60.2->crewai) (3.18.0)\n",
            "Requirement already satisfied: fsspec>=2023.5.0 in /usr/local/lib/python3.11/dist-packages (from huggingface-hub<1.0,>=0.16.4->tokenizers->litellm==1.60.2->crewai) (2025.3.0)\n",
            "Requirement already satisfied: parso<0.9.0,>=0.8.4 in /usr/local/lib/python3.11/dist-packages (from jedi>=0.16->ipython>=5.3.0->pyvis>=0.3.2->crewai) (0.8.4)\n",
            "Requirement already satisfied: langchain-core<1.0.0,>=0.3.41 in /usr/local/lib/python3.11/dist-packages (from langchain<0.4.0,>=0.3.1->embedchain>=0.1.114->crewai-tools>=0.37.0->crewai[tools]) (0.3.45)\n",
            "Requirement already satisfied: langchain-text-splitters<1.0.0,>=0.3.6 in /usr/local/lib/python3.11/dist-packages (from langchain<0.4.0,>=0.3.1->embedchain>=0.1.114->crewai-tools>=0.37.0->crewai[tools]) (0.3.6)\n",
            "Collecting langchain-experimental<0.4.0,>=0.3.0 (from langchain-cohere<0.4.0,>=0.3.0->embedchain>=0.1.114->crewai-tools>=0.37.0->crewai[tools])\n",
            "  Downloading langchain_experimental-0.3.4-py3-none-any.whl.metadata (1.7 kB)\n",
            "Requirement already satisfied: pandas>=1.4.3 in /usr/local/lib/python3.11/dist-packages (from langchain-cohere<0.4.0,>=0.3.0->embedchain>=0.1.114->crewai-tools>=0.37.0->crewai[tools]) (2.2.2)\n",
            "Requirement already satisfied: tabulate<0.10.0,>=0.9.0 in /usr/local/lib/python3.11/dist-packages (from langchain-cohere<0.4.0,>=0.3.0->embedchain>=0.1.114->crewai-tools>=0.37.0->crewai[tools]) (0.9.0)\n",
            "Collecting langchain<0.4.0,>=0.3.1 (from embedchain>=0.1.114->crewai-tools>=0.37.0->crewai[tools])\n",
            "  Downloading langchain-0.3.21-py3-none-any.whl.metadata (7.8 kB)\n",
            "Collecting dataclasses-json<0.7,>=0.5.7 (from langchain-community<0.4.0,>=0.3.1->embedchain>=0.1.114->crewai-tools>=0.37.0->crewai[tools])\n",
            "  Downloading dataclasses_json-0.6.7-py3-none-any.whl.metadata (25 kB)\n",
            "Collecting pydantic-settings<3.0.0,>=2.4.0 (from langchain-community<0.4.0,>=0.3.1->embedchain>=0.1.114->crewai-tools>=0.37.0->crewai[tools])\n",
            "  Downloading pydantic_settings-2.8.1-py3-none-any.whl.metadata (3.5 kB)\n",
            "Collecting langchain-text-splitters<1.0.0,>=0.3.7 (from langchain<0.4.0,>=0.3.1->embedchain>=0.1.114->crewai-tools>=0.37.0->crewai[tools])\n",
            "  Downloading langchain_text_splitters-0.3.7-py3-none-any.whl.metadata (1.9 kB)\n",
            "Requirement already satisfied: requests-toolbelt<2.0.0,>=1.0.0 in /usr/local/lib/python3.11/dist-packages (from langsmith<0.2.0,>=0.1.17->embedchain>=0.1.114->crewai-tools>=0.37.0->crewai[tools]) (1.0.0)\n",
            "Requirement already satisfied: mdurl~=0.1 in /usr/local/lib/python3.11/dist-packages (from markdown-it-py>=2.2.0->rich>=10.11.0->chromadb>=0.5.23->crewai) (0.1.2)\n",
            "Collecting azure-search-documents<12.0.0,>=11.5.0 (from mem0ai<0.2.0,>=0.1.54->embedchain>=0.1.114->crewai-tools>=0.37.0->crewai[tools])\n",
            "  Downloading azure_search_documents-11.5.2-py3-none-any.whl.metadata (23 kB)\n",
            "Collecting psycopg2-binary<3.0.0,>=2.9.10 (from mem0ai<0.2.0,>=0.1.54->embedchain>=0.1.114->crewai-tools>=0.37.0->crewai[tools])\n",
            "  Downloading psycopg2_binary-2.9.10-cp311-cp311-manylinux_2_17_x86_64.manylinux2014_x86_64.whl.metadata (4.9 kB)\n",
            "Collecting pytz<2025.0,>=2024.1 (from mem0ai<0.2.0,>=0.1.54->embedchain>=0.1.114->crewai-tools>=0.37.0->crewai[tools])\n",
            "  Downloading pytz-2024.2-py2.py3-none-any.whl.metadata (22 kB)\n",
            "Collecting qdrant-client<2.0.0,>=1.9.1 (from mem0ai<0.2.0,>=0.1.54->embedchain>=0.1.114->crewai-tools>=0.37.0->crewai[tools])\n",
            "  Downloading qdrant_client-1.13.3-py3-none-any.whl.metadata (10 kB)\n",
            "Requirement already satisfied: ptyprocess>=0.5 in /usr/local/lib/python3.11/dist-packages (from pexpect>4.3->ipython>=5.3.0->pyvis>=0.3.2->crewai) (0.7.0)\n",
            "Requirement already satisfied: wcwidth in /usr/local/lib/python3.11/dist-packages (from prompt-toolkit!=3.0.0,!=3.0.1,<3.1.0,>=2.0.0->ipython>=5.3.0->pyvis>=0.3.2->crewai) (0.2.13)\n",
            "Requirement already satisfied: greenlet!=0.4.17 in /usr/local/lib/python3.11/dist-packages (from sqlalchemy<3.0.0,>=2.0.27->embedchain>=0.1.114->crewai-tools>=0.37.0->crewai[tools]) (3.1.1)\n",
            "Collecting humanfriendly>=9.1 (from coloredlogs->onnxruntime>=1.14.1->chromadb>=0.5.23->crewai)\n",
            "  Downloading humanfriendly-10.0-py2.py3-none-any.whl.metadata (9.2 kB)\n",
            "Requirement already satisfied: mpmath<1.4,>=1.1.0 in /usr/local/lib/python3.11/dist-packages (from sympy->onnxruntime>=1.14.1->chromadb>=0.5.23->crewai) (1.3.0)\n",
            "Collecting azure-core>=1.28.0 (from azure-search-documents<12.0.0,>=11.5.0->mem0ai<0.2.0,>=0.1.54->embedchain>=0.1.114->crewai-tools>=0.37.0->crewai[tools])\n",
            "  Downloading azure_core-1.32.0-py3-none-any.whl.metadata (39 kB)\n",
            "Collecting azure-common>=1.1 (from azure-search-documents<12.0.0,>=11.5.0->mem0ai<0.2.0,>=0.1.54->embedchain>=0.1.114->crewai-tools>=0.37.0->crewai[tools])\n",
            "  Downloading azure_common-1.1.28-py2.py3-none-any.whl.metadata (5.0 kB)\n",
            "Collecting isodate>=0.6.0 (from azure-search-documents<12.0.0,>=11.5.0->mem0ai<0.2.0,>=0.1.54->embedchain>=0.1.114->crewai-tools>=0.37.0->crewai[tools])\n",
            "  Downloading isodate-0.7.2-py3-none-any.whl.metadata (11 kB)\n",
            "Collecting marshmallow<4.0.0,>=3.18.0 (from dataclasses-json<0.7,>=0.5.7->langchain-community<0.4.0,>=0.3.1->embedchain>=0.1.114->crewai-tools>=0.37.0->crewai[tools])\n",
            "  Downloading marshmallow-3.26.1-py3-none-any.whl.metadata (7.3 kB)\n",
            "Collecting typing-inspect<1,>=0.4.0 (from dataclasses-json<0.7,>=0.5.7->langchain-community<0.4.0,>=0.3.1->embedchain>=0.1.114->crewai-tools>=0.37.0->crewai[tools])\n",
            "  Downloading typing_inspect-0.9.0-py3-none-any.whl.metadata (1.5 kB)\n",
            "Requirement already satisfied: grpcio-status<2.0.dev0,>=1.33.2 in /usr/local/lib/python3.11/dist-packages (from google-api-core[grpc]!=2.0.*,!=2.1.*,!=2.2.*,!=2.3.*,!=2.4.*,!=2.5.*,!=2.6.*,!=2.7.*,<3.0.0dev,>=1.34.1->google-cloud-aiplatform<2.0.0,>=1.26.1->embedchain>=0.1.114->crewai-tools>=0.37.0->crewai[tools]) (1.71.0)\n",
            "Requirement already satisfied: google-cloud-core<3.0.0dev,>=2.4.1 in /usr/local/lib/python3.11/dist-packages (from google-cloud-bigquery!=3.20.0,<4.0.0dev,>=1.15.0->google-cloud-aiplatform<2.0.0,>=1.26.1->embedchain>=0.1.114->crewai-tools>=0.37.0->crewai[tools]) (2.4.3)\n",
            "Requirement already satisfied: google-resumable-media<3.0dev,>=2.0.0 in /usr/local/lib/python3.11/dist-packages (from google-cloud-bigquery!=3.20.0,<4.0.0dev,>=1.15.0->google-cloud-aiplatform<2.0.0,>=1.26.1->embedchain>=0.1.114->crewai-tools>=0.37.0->crewai[tools]) (2.7.2)\n",
            "Requirement already satisfied: grpc-google-iam-v1<1.0.0,>=0.14.0 in /usr/local/lib/python3.11/dist-packages (from google-cloud-resource-manager<3.0.0dev,>=1.3.3->google-cloud-aiplatform<2.0.0,>=1.26.1->embedchain>=0.1.114->crewai-tools>=0.37.0->crewai[tools]) (0.14.2)\n",
            "Requirement already satisfied: google-crc32c<2.0dev,>=1.0 in /usr/local/lib/python3.11/dist-packages (from google-cloud-storage<3.0.0dev,>=1.32.0->google-cloud-aiplatform<2.0.0,>=1.26.1->embedchain>=0.1.114->crewai-tools>=0.37.0->crewai[tools]) (1.7.0)\n",
            "Requirement already satisfied: jsonpatch<2.0,>=1.33 in /usr/local/lib/python3.11/dist-packages (from langchain-core<1.0.0,>=0.3.41->langchain<0.4.0,>=0.3.1->embedchain>=0.1.114->crewai-tools>=0.37.0->crewai[tools]) (1.33)\n",
            "Requirement already satisfied: tzdata>=2022.7 in /usr/local/lib/python3.11/dist-packages (from pandas>=1.4.3->langchain-cohere<0.4.0,>=0.3.0->embedchain>=0.1.114->crewai-tools>=0.37.0->crewai[tools]) (2025.1)\n",
            "Requirement already satisfied: pyasn1<0.7.0,>=0.4.6 in /usr/local/lib/python3.11/dist-packages (from pyasn1-modules>=0.2.1->google-auth>=1.0.1->kubernetes>=28.1.0->chromadb>=0.5.23->crewai) (0.6.1)\n",
            "Collecting grpcio-tools>=1.41.0 (from qdrant-client<2.0.0,>=1.9.1->mem0ai<0.2.0,>=0.1.54->embedchain>=0.1.114->crewai-tools>=0.37.0->crewai[tools])\n",
            "  Downloading grpcio_tools-1.71.0-cp311-cp311-manylinux_2_17_x86_64.manylinux2014_x86_64.whl.metadata (5.3 kB)\n",
            "Collecting portalocker<3.0.0,>=2.7.0 (from qdrant-client<2.0.0,>=1.9.1->mem0ai<0.2.0,>=0.1.54->embedchain>=0.1.114->crewai-tools>=0.37.0->crewai[tools])\n",
            "  Downloading portalocker-2.10.1-py3-none-any.whl.metadata (8.5 kB)\n",
            "Requirement already satisfied: h2<5,>=3 in /usr/local/lib/python3.11/dist-packages (from httpx[http2]>=0.20.0->qdrant-client<2.0.0,>=1.9.1->mem0ai<0.2.0,>=0.1.54->embedchain>=0.1.114->crewai-tools>=0.37.0->crewai[tools]) (4.2.0)\n",
            "Requirement already satisfied: jsonpointer>=1.9 in /usr/local/lib/python3.11/dist-packages (from jsonpatch<2.0,>=1.33->langchain-core<1.0.0,>=0.3.41->langchain<0.4.0,>=0.3.1->embedchain>=0.1.114->crewai-tools>=0.37.0->crewai[tools]) (3.0.0)\n",
            "Collecting mypy-extensions>=0.3.0 (from typing-inspect<1,>=0.4.0->dataclasses-json<0.7,>=0.5.7->langchain-community<0.4.0,>=0.3.1->embedchain>=0.1.114->crewai-tools>=0.37.0->crewai[tools])\n",
            "  Downloading mypy_extensions-1.0.0-py3-none-any.whl.metadata (1.1 kB)\n",
            "Requirement already satisfied: hyperframe<7,>=6.1 in /usr/local/lib/python3.11/dist-packages (from h2<5,>=3->httpx[http2]>=0.20.0->qdrant-client<2.0.0,>=1.9.1->mem0ai<0.2.0,>=0.1.54->embedchain>=0.1.114->crewai-tools>=0.37.0->crewai[tools]) (6.1.0)\n",
            "Requirement already satisfied: hpack<5,>=4.1 in /usr/local/lib/python3.11/dist-packages (from h2<5,>=3->httpx[http2]>=0.20.0->qdrant-client<2.0.0,>=1.9.1->mem0ai<0.2.0,>=0.1.54->embedchain>=0.1.114->crewai-tools>=0.37.0->crewai[tools]) (4.1.0)\n",
            "Downloading crewai-0.108.0-py3-none-any.whl (265 kB)\n",
            "\u001b[2K   \u001b[90m━━━━━━━━━━━━━━━━━━━━━━━━━━━━━━━━━━━━━━━━\u001b[0m \u001b[32m265.3/265.3 kB\u001b[0m \u001b[31m14.4 MB/s\u001b[0m eta \u001b[36m0:00:00\u001b[0m\n",
            "\u001b[?25hDownloading litellm-1.60.2-py3-none-any.whl (6.7 MB)\n",
            "\u001b[2K   \u001b[90m━━━━━━━━━━━━━━━━━━━━━━━━━━━━━━━━━━━━━━━━\u001b[0m \u001b[32m6.7/6.7 MB\u001b[0m \u001b[31m89.8 MB/s\u001b[0m eta \u001b[36m0:00:00\u001b[0m\n",
            "\u001b[?25hDownloading appdirs-1.4.4-py2.py3-none-any.whl (9.6 kB)\n",
            "Downloading auth0_python-4.8.1-py3-none-any.whl (134 kB)\n",
            "\u001b[2K   \u001b[90m━━━━━━━━━━━━━━━━━━━━━━━━━━━━━━━━━━━━━━━━\u001b[0m \u001b[32m134.3/134.3 kB\u001b[0m \u001b[31m12.9 MB/s\u001b[0m eta \u001b[36m0:00:00\u001b[0m\n",
            "\u001b[?25hDownloading chroma_hnswlib-0.7.6-cp311-cp311-manylinux_2_17_x86_64.manylinux2014_x86_64.whl (2.4 MB)\n",
            "\u001b[2K   \u001b[90m━━━━━━━━━━━━━━━━━━━━━━━━━━━━━━━━━━━━━━━━\u001b[0m \u001b[32m2.4/2.4 MB\u001b[0m \u001b[31m75.4 MB/s\u001b[0m eta \u001b[36m0:00:00\u001b[0m\n",
            "\u001b[?25hDownloading crewai_tools-0.38.1-py3-none-any.whl (561 kB)\n",
            "\u001b[2K   \u001b[90m━━━━━━━━━━━━━━━━━━━━━━━━━━━━━━━━━━━━━━━━\u001b[0m \u001b[32m561.4/561.4 kB\u001b[0m \u001b[31m33.7 MB/s\u001b[0m eta \u001b[36m0:00:00\u001b[0m\n",
            "\u001b[?25hDownloading instructor-1.7.7-py3-none-any.whl (83 kB)\n",
            "\u001b[2K   \u001b[90m━━━━━━━━━━━━━━━━━━━━━━━━━━━━━━━━━━━━━━━━\u001b[0m \u001b[32m83.9/83.9 kB\u001b[0m \u001b[31m8.5 MB/s\u001b[0m eta \u001b[36m0:00:00\u001b[0m\n",
            "\u001b[?25hDownloading json_repair-0.40.0-py3-none-any.whl (20 kB)\n",
            "Downloading json5-0.10.0-py3-none-any.whl (34 kB)\n",
            "Downloading jsonref-1.1.0-py3-none-any.whl (9.4 kB)\n",
            "Downloading opentelemetry_exporter_otlp_proto_http-1.31.1-py3-none-any.whl (17 kB)\n",
            "Downloading opentelemetry_exporter_otlp_proto_common-1.31.1-py3-none-any.whl (18 kB)\n",
            "Downloading opentelemetry_proto-1.31.1-py3-none-any.whl (55 kB)\n",
            "\u001b[2K   \u001b[90m━━━━━━━━━━━━━━━━━━━━━━━━━━━━━━━━━━━━━━━━\u001b[0m \u001b[32m55.9/55.9 kB\u001b[0m \u001b[31m5.4 MB/s\u001b[0m eta \u001b[36m0:00:00\u001b[0m\n",
            "\u001b[?25hDownloading opentelemetry_sdk-1.31.1-py3-none-any.whl (118 kB)\n",
            "\u001b[2K   \u001b[90m━━━━━━━━━━━━━━━━━━━━━━━━━━━━━━━━━━━━━━━━\u001b[0m \u001b[32m118.9/118.9 kB\u001b[0m \u001b[31m11.8 MB/s\u001b[0m eta \u001b[36m0:00:00\u001b[0m\n",
            "\u001b[?25hDownloading opentelemetry_api-1.31.1-py3-none-any.whl (65 kB)\n",
            "\u001b[2K   \u001b[90m━━━━━━━━━━━━━━━━━━━━━━━━━━━━━━━━━━━━━━━━\u001b[0m \u001b[32m65.2/65.2 kB\u001b[0m \u001b[31m7.0 MB/s\u001b[0m eta \u001b[36m0:00:00\u001b[0m\n",
            "\u001b[?25hDownloading opentelemetry_semantic_conventions-0.52b1-py3-none-any.whl (183 kB)\n",
            "\u001b[2K   \u001b[90m━━━━━━━━━━━━━━━━━━━━━━━━━━━━━━━━━━━━━━━━\u001b[0m \u001b[32m183.4/183.4 kB\u001b[0m \u001b[31m18.4 MB/s\u001b[0m eta \u001b[36m0:00:00\u001b[0m\n",
            "\u001b[?25hDownloading pdfplumber-0.11.5-py3-none-any.whl (59 kB)\n",
            "\u001b[2K   \u001b[90m━━━━━━━━━━━━━━━━━━━━━━━━━━━━━━━━━━━━━━━━\u001b[0m \u001b[32m59.5/59.5 kB\u001b[0m \u001b[31m6.3 MB/s\u001b[0m eta \u001b[36m0:00:00\u001b[0m\n",
            "\u001b[?25hDownloading pdfminer.six-20231228-py3-none-any.whl (5.6 MB)\n",
            "\u001b[2K   \u001b[90m━━━━━━━━━━━━━━━━━━━━━━━━━━━━━━━━━━━━━━━━\u001b[0m \u001b[32m5.6/5.6 MB\u001b[0m \u001b[31m76.7 MB/s\u001b[0m eta \u001b[36m0:00:00\u001b[0m\n",
            "\u001b[?25hDownloading python_dotenv-1.0.1-py3-none-any.whl (19 kB)\n",
            "Downloading pyvis-0.3.2-py3-none-any.whl (756 kB)\n",
            "\u001b[2K   \u001b[90m━━━━━━━━━━━━━━━━━━━━━━━━━━━━━━━━━━━━━━━━\u001b[0m \u001b[32m756.0/756.0 kB\u001b[0m \u001b[31m48.1 MB/s\u001b[0m eta \u001b[36m0:00:00\u001b[0m\n",
            "\u001b[?25hDownloading tomli-2.2.1-cp311-cp311-manylinux_2_17_x86_64.manylinux2014_x86_64.whl (236 kB)\n",
            "\u001b[2K   \u001b[90m━━━━━━━━━━━━━━━━━━━━━━━━━━━━━━━━━━━━━━━━\u001b[0m \u001b[32m236.0/236.0 kB\u001b[0m \u001b[31m21.9 MB/s\u001b[0m eta \u001b[36m0:00:00\u001b[0m\n",
            "\u001b[?25hDownloading tomli_w-1.2.0-py3-none-any.whl (6.7 kB)\n",
            "Downloading uv-0.6.9-py3-none-manylinux_2_17_x86_64.manylinux2014_x86_64.whl (16.5 MB)\n",
            "\u001b[2K   \u001b[90m━━━━━━━━━━━━━━━━━━━━━━━━━━━━━━━━━━━━━━━━\u001b[0m \u001b[32m16.5/16.5 MB\u001b[0m \u001b[31m84.8 MB/s\u001b[0m eta \u001b[36m0:00:00\u001b[0m\n",
            "\u001b[?25hDownloading bcrypt-4.3.0-cp39-abi3-manylinux_2_34_x86_64.whl (284 kB)\n",
            "\u001b[2K   \u001b[90m━━━━━━━━━━━━━━━━━━━━━━━━━━━━━━━━━━━━━━━━\u001b[0m \u001b[32m284.2/284.2 kB\u001b[0m \u001b[31m25.6 MB/s\u001b[0m eta \u001b[36m0:00:00\u001b[0m\n",
            "\u001b[?25hDownloading build-1.2.2.post1-py3-none-any.whl (22 kB)\n",
            "Downloading docker-7.1.0-py3-none-any.whl (147 kB)\n",
            "\u001b[2K   \u001b[90m━━━━━━━━━━━━━━━━━━━━━━━━━━━━━━━━━━━━━━━━\u001b[0m \u001b[32m147.8/147.8 kB\u001b[0m \u001b[31m14.5 MB/s\u001b[0m eta \u001b[36m0:00:00\u001b[0m\n",
            "\u001b[?25hDownloading embedchain-0.1.127-py3-none-any.whl (211 kB)\n",
            "\u001b[2K   \u001b[90m━━━━━━━━━━━━━━━━━━━━━━━━━━━━━━━━━━━━━━━━\u001b[0m \u001b[32m211.4/211.4 kB\u001b[0m \u001b[31m17.5 MB/s\u001b[0m eta \u001b[36m0:00:00\u001b[0m\n",
            "\u001b[?25hDownloading chromadb-0.5.23-py3-none-any.whl (628 kB)\n",
            "\u001b[2K   \u001b[90m━━━━━━━━━━━━━━━━━━━━━━━━━━━━━━━━━━━━━━━━\u001b[0m \u001b[32m628.3/628.3 kB\u001b[0m \u001b[31m44.4 MB/s\u001b[0m eta \u001b[36m0:00:00\u001b[0m\n",
            "\u001b[?25hDownloading fastapi-0.115.12-py3-none-any.whl (95 kB)\n",
            "\u001b[2K   \u001b[90m━━━━━━━━━━━━━━━━━━━━━━━━━━━━━━━━━━━━━━━━\u001b[0m \u001b[32m95.2/95.2 kB\u001b[0m \u001b[31m8.8 MB/s\u001b[0m eta \u001b[36m0:00:00\u001b[0m\n",
            "\u001b[?25hDownloading httpx-0.27.2-py3-none-any.whl (76 kB)\n",
            "\u001b[2K   \u001b[90m━━━━━━━━━━━━━━━━━━━━━━━━━━━━━━━━━━━━━━━━\u001b[0m \u001b[32m76.4/76.4 kB\u001b[0m \u001b[31m7.4 MB/s\u001b[0m eta \u001b[36m0:00:00\u001b[0m\n",
            "\u001b[?25hDownloading jiter-0.8.2-cp311-cp311-manylinux_2_17_x86_64.manylinux2014_x86_64.whl (345 kB)\n",
            "\u001b[2K   \u001b[90m━━━━━━━━━━━━━━━━━━━━━━━━━━━━━━━━━━━━━━━━\u001b[0m \u001b[32m345.6/345.6 kB\u001b[0m \u001b[31m31.2 MB/s\u001b[0m eta \u001b[36m0:00:00\u001b[0m\n",
            "\u001b[?25hDownloading kubernetes-32.0.1-py2.py3-none-any.whl (2.0 MB)\n",
            "\u001b[2K   \u001b[90m━━━━━━━━━━━━━━━━━━━━━━━━━━━━━━━━━━━━━━━━\u001b[0m \u001b[32m2.0/2.0 MB\u001b[0m \u001b[31m74.5 MB/s\u001b[0m eta \u001b[36m0:00:00\u001b[0m\n",
            "\u001b[?25hDownloading lancedb-0.21.1-cp39-abi3-manylinux_2_28_x86_64.whl (33.2 MB)\n",
            "\u001b[2K   \u001b[90m━━━━━━━━━━━━━━━━━━━━━━━━━━━━━━━━━━━━━━━━\u001b[0m \u001b[32m33.2/33.2 MB\u001b[0m \u001b[31m25.5 MB/s\u001b[0m eta \u001b[36m0:00:00\u001b[0m\n",
            "\u001b[?25hDownloading mmh3-5.1.0-cp311-cp311-manylinux_2_5_x86_64.manylinux1_x86_64.manylinux_2_17_x86_64.manylinux2014_x86_64.whl (101 kB)\n",
            "\u001b[2K   \u001b[90m━━━━━━━━━━━━━━━━━━━━━━━━━━━━━━━━━━━━━━━━\u001b[0m \u001b[32m101.6/101.6 kB\u001b[0m \u001b[31m10.6 MB/s\u001b[0m eta \u001b[36m0:00:00\u001b[0m\n",
            "\u001b[?25hDownloading onnxruntime-1.21.0-cp311-cp311-manylinux_2_27_x86_64.manylinux_2_28_x86_64.whl (16.0 MB)\n",
            "\u001b[2K   \u001b[90m━━━━━━━━━━━━━━━━━━━━━━━━━━━━━━━━━━━━━━━━\u001b[0m \u001b[32m16.0/16.0 MB\u001b[0m \u001b[31m87.3 MB/s\u001b[0m eta \u001b[36m0:00:00\u001b[0m\n",
            "\u001b[?25hDownloading opentelemetry_exporter_otlp_proto_grpc-1.31.1-py3-none-any.whl (18 kB)\n",
            "Downloading opentelemetry_instrumentation_fastapi-0.52b1-py3-none-any.whl (12 kB)\n",
            "Downloading opentelemetry_instrumentation-0.52b1-py3-none-any.whl (31 kB)\n",
            "Downloading opentelemetry_instrumentation_asgi-0.52b1-py3-none-any.whl (16 kB)\n",
            "Downloading opentelemetry_util_http-0.52b1-py3-none-any.whl (7.3 kB)\n",
            "Downloading overrides-7.7.0-py3-none-any.whl (17 kB)\n",
            "Downloading posthog-3.21.0-py2.py3-none-any.whl (79 kB)\n",
            "\u001b[2K   \u001b[90m━━━━━━━━━━━━━━━━━━━━━━━━━━━━━━━━━━━━━━━━\u001b[0m \u001b[32m79.6/79.6 kB\u001b[0m \u001b[31m8.6 MB/s\u001b[0m eta \u001b[36m0:00:00\u001b[0m\n",
            "\u001b[?25hDownloading pypdfium2-4.30.1-py3-none-manylinux_2_17_x86_64.manylinux2014_x86_64.whl (2.9 MB)\n",
            "\u001b[2K   \u001b[90m━━━━━━━━━━━━━━━━━━━━━━━━━━━━━━━━━━━━━━━━\u001b[0m \u001b[32m2.9/2.9 MB\u001b[0m \u001b[31m78.5 MB/s\u001b[0m eta \u001b[36m0:00:00\u001b[0m\n",
            "\u001b[?25hDownloading pyright-1.1.397-py3-none-any.whl (5.7 MB)\n",
            "\u001b[2K   \u001b[90m━━━━━━━━━━━━━━━━━━━━━━━━━━━━━━━━━━━━━━━━\u001b[0m \u001b[32m5.7/5.7 MB\u001b[0m \u001b[31m67.6 MB/s\u001b[0m eta \u001b[36m0:00:00\u001b[0m\n",
            "\u001b[?25hDownloading pytube-15.0.0-py3-none-any.whl (57 kB)\n",
            "\u001b[2K   \u001b[90m━━━━━━━━━━━━━━━━━━━━━━━━━━━━━━━━━━━━━━━━\u001b[0m \u001b[32m57.6/57.6 kB\u001b[0m \u001b[31m5.9 MB/s\u001b[0m eta \u001b[36m0:00:00\u001b[0m\n",
            "\u001b[?25hDownloading tiktoken-0.7.0-cp311-cp311-manylinux_2_17_x86_64.manylinux2014_x86_64.whl (1.1 MB)\n",
            "\u001b[2K   \u001b[90m━━━━━━━━━━━━━━━━━━━━━━━━━━━━━━━━━━━━━━━━\u001b[0m \u001b[32m1.1/1.1 MB\u001b[0m \u001b[31m46.0 MB/s\u001b[0m eta \u001b[36m0:00:00\u001b[0m\n",
            "\u001b[?25hDownloading tokenizers-0.20.3-cp311-cp311-manylinux_2_17_x86_64.manylinux2014_x86_64.whl (3.0 MB)\n",
            "\u001b[2K   \u001b[90m━━━━━━━━━━━━━━━━━━━━━━━━━━━━━━━━━━━━━━━━\u001b[0m \u001b[32m3.0/3.0 MB\u001b[0m \u001b[31m68.8 MB/s\u001b[0m eta \u001b[36m0:00:00\u001b[0m\n",
            "\u001b[?25hDownloading uvicorn-0.34.0-py3-none-any.whl (62 kB)\n",
            "\u001b[2K   \u001b[90m━━━━━━━━━━━━━━━━━━━━━━━━━━━━━━━━━━━━━━━━\u001b[0m \u001b[32m62.3/62.3 kB\u001b[0m \u001b[31m4.8 MB/s\u001b[0m eta \u001b[36m0:00:00\u001b[0m\n",
            "\u001b[?25hDownloading alembic-1.15.1-py3-none-any.whl (231 kB)\n",
            "\u001b[2K   \u001b[90m━━━━━━━━━━━━━━━━━━━━━━━━━━━━━━━━━━━━━━━━\u001b[0m \u001b[32m231.8/231.8 kB\u001b[0m \u001b[31m20.2 MB/s\u001b[0m eta \u001b[36m0:00:00\u001b[0m\n",
            "\u001b[?25hDownloading backoff-2.2.1-py3-none-any.whl (15 kB)\n",
            "Downloading cohere-5.14.0-py3-none-any.whl (253 kB)\n",
            "\u001b[2K   \u001b[90m━━━━━━━━━━━━━━━━━━━━━━━━━━━━━━━━━━━━━━━━\u001b[0m \u001b[32m253.9/253.9 kB\u001b[0m \u001b[31m18.1 MB/s\u001b[0m eta \u001b[36m0:00:00\u001b[0m\n",
            "\u001b[?25hDownloading httpx_sse-0.4.0-py3-none-any.whl (7.8 kB)\n",
            "Downloading durationpy-0.9-py3-none-any.whl (3.5 kB)\n",
            "Downloading gptcache-0.1.44-py3-none-any.whl (131 kB)\n",
            "\u001b[2K   \u001b[90m━━━━━━━━━━━━━━━━━━━━━━━━━━━━━━━━━━━━━━━━\u001b[0m \u001b[32m131.6/131.6 kB\u001b[0m \u001b[31m11.2 MB/s\u001b[0m eta \u001b[36m0:00:00\u001b[0m\n",
            "\u001b[?25hDownloading httptools-0.6.4-cp311-cp311-manylinux_2_5_x86_64.manylinux1_x86_64.manylinux_2_17_x86_64.manylinux2014_x86_64.whl (459 kB)\n",
            "\u001b[2K   \u001b[90m━━━━━━━━━━━━━━━━━━━━━━━━━━━━━━━━━━━━━━━━\u001b[0m \u001b[32m459.8/459.8 kB\u001b[0m \u001b[31m29.7 MB/s\u001b[0m eta \u001b[36m0:00:00\u001b[0m\n",
            "\u001b[?25hDownloading jedi-0.19.2-py2.py3-none-any.whl (1.6 MB)\n",
            "\u001b[2K   \u001b[90m━━━━━━━━━━━━━━━━━━━━━━━━━━━━━━━━━━━━━━━━\u001b[0m \u001b[32m1.6/1.6 MB\u001b[0m \u001b[31m55.8 MB/s\u001b[0m eta \u001b[36m0:00:00\u001b[0m\n",
            "\u001b[?25hDownloading langchain_cohere-0.3.5-py3-none-any.whl (45 kB)\n",
            "\u001b[2K   \u001b[90m━━━━━━━━━━━━━━━━━━━━━━━━━━━━━━━━━━━━━━━━\u001b[0m \u001b[32m45.1/45.1 kB\u001b[0m \u001b[31m3.8 MB/s\u001b[0m eta \u001b[36m0:00:00\u001b[0m\n",
            "\u001b[?25hDownloading langchain_community-0.3.20-py3-none-any.whl (2.5 MB)\n",
            "\u001b[2K   \u001b[90m━━━━━━━━━━━━━━━━━━━━━━━━━━━━━━━━━━━━━━━━\u001b[0m \u001b[32m2.5/2.5 MB\u001b[0m \u001b[31m64.5 MB/s\u001b[0m eta \u001b[36m0:00:00\u001b[0m\n",
            "\u001b[?25hDownloading langchain-0.3.21-py3-none-any.whl (1.0 MB)\n",
            "\u001b[2K   \u001b[90m━━━━━━━━━━━━━━━━━━━━━━━━━━━━━━━━━━━━━━━━\u001b[0m \u001b[32m1.0/1.0 MB\u001b[0m \u001b[31m46.6 MB/s\u001b[0m eta \u001b[36m0:00:00\u001b[0m\n",
            "\u001b[?25hDownloading langchain_openai-0.2.14-py3-none-any.whl (50 kB)\n",
            "\u001b[2K   \u001b[90m━━━━━━━━━━━━━━━━━━━━━━━━━━━━━━━━━━━━━━━━\u001b[0m \u001b[32m50.9/50.9 kB\u001b[0m \u001b[31m4.5 MB/s\u001b[0m eta \u001b[36m0:00:00\u001b[0m\n",
            "\u001b[?25hDownloading langsmith-0.1.147-py3-none-any.whl (311 kB)\n",
            "\u001b[2K   \u001b[90m━━━━━━━━━━━━━━━━━━━━━━━━━━━━━━━━━━━━━━━━\u001b[0m \u001b[32m311.8/311.8 kB\u001b[0m \u001b[31m24.2 MB/s\u001b[0m eta \u001b[36m0:00:00\u001b[0m\n",
            "\u001b[?25hDownloading mem0ai-0.1.74-py3-none-any.whl (116 kB)\n",
            "\u001b[2K   \u001b[90m━━━━━━━━━━━━━━━━━━━━━━━━━━━━━━━━━━━━━━━━\u001b[0m \u001b[32m116.5/116.5 kB\u001b[0m \u001b[31m10.7 MB/s\u001b[0m eta \u001b[36m0:00:00\u001b[0m\n",
            "\u001b[?25hDownloading monotonic-1.6-py2.py3-none-any.whl (8.2 kB)\n",
            "Downloading nodeenv-1.9.1-py2.py3-none-any.whl (22 kB)\n",
            "Downloading pylance-0.24.1-cp39-abi3-manylinux_2_28_x86_64.whl (36.8 MB)\n",
            "\u001b[2K   \u001b[90m━━━━━━━━━━━━━━━━━━━━━━━━━━━━━━━━━━━━━━━━\u001b[0m \u001b[32m36.8/36.8 MB\u001b[0m \u001b[31m11.9 MB/s\u001b[0m eta \u001b[36m0:00:00\u001b[0m\n",
            "\u001b[?25hDownloading pypdf-5.4.0-py3-none-any.whl (302 kB)\n",
            "\u001b[2K   \u001b[90m━━━━━━━━━━━━━━━━━━━━━━━━━━━━━━━━━━━━━━━━\u001b[0m \u001b[32m302.3/302.3 kB\u001b[0m \u001b[31m21.0 MB/s\u001b[0m eta \u001b[36m0:00:00\u001b[0m\n",
            "\u001b[?25hDownloading pysbd-0.3.4-py3-none-any.whl (71 kB)\n",
            "\u001b[2K   \u001b[90m━━━━━━━━━━━━━━━━━━━━━━━━━━━━━━━━━━━━━━━━\u001b[0m \u001b[32m71.1/71.1 kB\u001b[0m \u001b[31m4.5 MB/s\u001b[0m eta \u001b[36m0:00:00\u001b[0m\n",
            "\u001b[?25hDownloading schema-0.7.7-py2.py3-none-any.whl (18 kB)\n",
            "Downloading starlette-0.46.1-py3-none-any.whl (71 kB)\n",
            "\u001b[2K   \u001b[90m━━━━━━━━━━━━━━━━━━━━━━━━━━━━━━━━━━━━━━━━\u001b[0m \u001b[32m72.0/72.0 kB\u001b[0m \u001b[31m6.8 MB/s\u001b[0m eta \u001b[36m0:00:00\u001b[0m\n",
            "\u001b[?25hDownloading uvloop-0.21.0-cp311-cp311-manylinux_2_17_x86_64.manylinux2014_x86_64.whl (4.0 MB)\n",
            "\u001b[2K   \u001b[90m━━━━━━━━━━━━━━━━━━━━━━━━━━━━━━━━━━━━━━━━\u001b[0m \u001b[32m4.0/4.0 MB\u001b[0m \u001b[31m63.7 MB/s\u001b[0m eta \u001b[36m0:00:00\u001b[0m\n",
            "\u001b[?25hDownloading watchfiles-1.0.4-cp311-cp311-manylinux_2_17_x86_64.manylinux2014_x86_64.whl (452 kB)\n",
            "\u001b[2K   \u001b[90m━━━━━━━━━━━━━━━━━━━━━━━━━━━━━━━━━━━━━━━━\u001b[0m \u001b[32m452.6/452.6 kB\u001b[0m \u001b[31m28.4 MB/s\u001b[0m eta \u001b[36m0:00:00\u001b[0m\n",
            "\u001b[?25hDownloading coloredlogs-15.0.1-py2.py3-none-any.whl (46 kB)\n",
            "\u001b[2K   \u001b[90m━━━━━━━━━━━━━━━━━━━━━━━━━━━━━━━━━━━━━━━━\u001b[0m \u001b[32m46.0/46.0 kB\u001b[0m \u001b[31m4.2 MB/s\u001b[0m eta \u001b[36m0:00:00\u001b[0m\n",
            "\u001b[?25hDownloading deprecation-2.1.0-py2.py3-none-any.whl (11 kB)\n",
            "Downloading pyproject_hooks-1.2.0-py3-none-any.whl (10 kB)\n",
            "Downloading asgiref-3.8.1-py3-none-any.whl (23 kB)\n",
            "Downloading azure_search_documents-11.5.2-py3-none-any.whl (298 kB)\n",
            "\u001b[2K   \u001b[90m━━━━━━━━━━━━━━━━━━━━━━━━━━━━━━━━━━━━━━━━\u001b[0m \u001b[32m298.8/298.8 kB\u001b[0m \u001b[31m25.2 MB/s\u001b[0m eta \u001b[36m0:00:00\u001b[0m\n",
            "\u001b[?25hDownloading dataclasses_json-0.6.7-py3-none-any.whl (28 kB)\n",
            "Downloading fastavro-1.10.0-cp311-cp311-manylinux_2_17_x86_64.manylinux2014_x86_64.whl (3.3 MB)\n",
            "\u001b[2K   \u001b[90m━━━━━━━━━━━━━━━━━━━━━━━━━━━━━━━━━━━━━━━━\u001b[0m \u001b[32m3.3/3.3 MB\u001b[0m \u001b[31m85.0 MB/s\u001b[0m eta \u001b[36m0:00:00\u001b[0m\n",
            "\u001b[?25hDownloading humanfriendly-10.0-py2.py3-none-any.whl (86 kB)\n",
            "\u001b[2K   \u001b[90m━━━━━━━━━━━━━━━━━━━━━━━━━━━━━━━━━━━━━━━━\u001b[0m \u001b[32m86.8/86.8 kB\u001b[0m \u001b[31m8.2 MB/s\u001b[0m eta \u001b[36m0:00:00\u001b[0m\n",
            "\u001b[?25hDownloading langchain_experimental-0.3.4-py3-none-any.whl (209 kB)\n",
            "\u001b[2K   \u001b[90m━━━━━━━━━━━━━━━━━━━━━━━━━━━━━━━━━━━━━━━━\u001b[0m \u001b[32m209.2/209.2 kB\u001b[0m \u001b[31m16.2 MB/s\u001b[0m eta \u001b[36m0:00:00\u001b[0m\n",
            "\u001b[?25hDownloading langchain_text_splitters-0.3.7-py3-none-any.whl (32 kB)\n",
            "Downloading psycopg2_binary-2.9.10-cp311-cp311-manylinux_2_17_x86_64.manylinux2014_x86_64.whl (3.0 MB)\n",
            "\u001b[2K   \u001b[90m━━━━━━━━━━━━━━━━━━━━━━━━━━━━━━━━━━━━━━━━\u001b[0m \u001b[32m3.0/3.0 MB\u001b[0m \u001b[31m81.7 MB/s\u001b[0m eta \u001b[36m0:00:00\u001b[0m\n",
            "\u001b[?25hDownloading pydantic_settings-2.8.1-py3-none-any.whl (30 kB)\n",
            "Downloading pytz-2024.2-py2.py3-none-any.whl (508 kB)\n",
            "\u001b[2K   \u001b[90m━━━━━━━━━━━━━━━━━━━━━━━━━━━━━━━━━━━━━━━━\u001b[0m \u001b[32m508.0/508.0 kB\u001b[0m \u001b[31m33.3 MB/s\u001b[0m eta \u001b[36m0:00:00\u001b[0m\n",
            "\u001b[?25hDownloading qdrant_client-1.13.3-py3-none-any.whl (306 kB)\n",
            "\u001b[2K   \u001b[90m━━━━━━━━━━━━━━━━━━━━━━━━━━━━━━━━━━━━━━━━\u001b[0m \u001b[32m306.7/306.7 kB\u001b[0m \u001b[31m26.2 MB/s\u001b[0m eta \u001b[36m0:00:00\u001b[0m\n",
            "\u001b[?25hDownloading types_requests-2.32.0.20250306-py3-none-any.whl (20 kB)\n",
            "Downloading azure_common-1.1.28-py2.py3-none-any.whl (14 kB)\n",
            "Downloading azure_core-1.32.0-py3-none-any.whl (198 kB)\n",
            "\u001b[2K   \u001b[90m━━━━━━━━━━━━━━━━━━━━━━━━━━━━━━━━━━━━━━━━\u001b[0m \u001b[32m198.9/198.9 kB\u001b[0m \u001b[31m17.6 MB/s\u001b[0m eta \u001b[36m0:00:00\u001b[0m\n",
            "\u001b[?25hDownloading grpcio_tools-1.71.0-cp311-cp311-manylinux_2_17_x86_64.manylinux2014_x86_64.whl (2.5 MB)\n",
            "\u001b[2K   \u001b[90m━━━━━━━━━━━━━━━━━━━━━━━━━━━━━━━━━━━━━━━━\u001b[0m \u001b[32m2.5/2.5 MB\u001b[0m \u001b[31m80.5 MB/s\u001b[0m eta \u001b[36m0:00:00\u001b[0m\n",
            "\u001b[?25hDownloading isodate-0.7.2-py3-none-any.whl (22 kB)\n",
            "Downloading marshmallow-3.26.1-py3-none-any.whl (50 kB)\n",
            "\u001b[2K   \u001b[90m━━━━━━━━━━━━━━━━━━━━━━━━━━━━━━━━━━━━━━━━\u001b[0m \u001b[32m50.9/50.9 kB\u001b[0m \u001b[31m4.8 MB/s\u001b[0m eta \u001b[36m0:00:00\u001b[0m\n",
            "\u001b[?25hDownloading portalocker-2.10.1-py3-none-any.whl (18 kB)\n",
            "Downloading typing_inspect-0.9.0-py3-none-any.whl (8.8 kB)\n",
            "Downloading mypy_extensions-1.0.0-py3-none-any.whl (4.7 kB)\n",
            "Building wheels for collected packages: pypika\n",
            "  Building wheel for pypika (pyproject.toml) ... \u001b[?25l\u001b[?25hdone\n",
            "  Created wheel for pypika: filename=pypika-0.48.9-py2.py3-none-any.whl size=53801 sha256=4196176efcc6eb2ffb2d1830d5d6b45f456ae01ed9bbb9c8651e32f359cd8742\n",
            "  Stored in directory: /root/.cache/pip/wheels/a3/01/bd/4c40ceb9d5354160cb186dcc153360f4ab7eb23e2b24daf96d\n",
            "Successfully built pypika\n",
            "Installing collected packages: schema, pytz, pypika, monotonic, durationpy, azure-common, appdirs, uvloop, uvicorn, uv, types-requests, tomli-w, tomli, pytube, python-dotenv, pysbd, pyproject_hooks, pypdfium2, pypdf, pylance, psycopg2-binary, portalocker, overrides, opentelemetry-util-http, opentelemetry-proto, nodeenv, mypy-extensions, mmh3, marshmallow, jsonref, json5, json-repair, jiter, jedi, isodate, humanfriendly, httpx-sse, httptools, grpcio-tools, fastavro, deprecation, chroma-hnswlib, bcrypt, backoff, asgiref, watchfiles, typing-inspect, tiktoken, starlette, pyright, posthog, opentelemetry-exporter-otlp-proto-common, opentelemetry-api, httpx, gptcache, docker, coloredlogs, build, azure-core, alembic, tokenizers, pyvis, pydantic-settings, pdfminer.six, opentelemetry-semantic-conventions, onnxruntime, langsmith, lancedb, kubernetes, fastapi, dataclasses-json, azure-search-documents, auth0-python, qdrant-client, pdfplumber, opentelemetry-sdk, opentelemetry-instrumentation, litellm, instructor, cohere, opentelemetry-instrumentation-asgi, opentelemetry-exporter-otlp-proto-http, opentelemetry-exporter-otlp-proto-grpc, mem0ai, langchain-text-splitters, langchain-openai, opentelemetry-instrumentation-fastapi, langchain, langchain-community, chromadb, langchain-experimental, crewai, langchain-cohere, embedchain, crewai-tools\n",
            "  Attempting uninstall: pytz\n",
            "    Found existing installation: pytz 2025.1\n",
            "    Uninstalling pytz-2025.1:\n",
            "      Successfully uninstalled pytz-2025.1\n",
            "  Attempting uninstall: jiter\n",
            "    Found existing installation: jiter 0.9.0\n",
            "    Uninstalling jiter-0.9.0:\n",
            "      Successfully uninstalled jiter-0.9.0\n",
            "  Attempting uninstall: opentelemetry-api\n",
            "    Found existing installation: opentelemetry-api 1.31.0\n",
            "    Uninstalling opentelemetry-api-1.31.0:\n",
            "      Successfully uninstalled opentelemetry-api-1.31.0\n",
            "  Attempting uninstall: httpx\n",
            "    Found existing installation: httpx 0.28.1\n",
            "    Uninstalling httpx-0.28.1:\n",
            "      Successfully uninstalled httpx-0.28.1\n",
            "  Attempting uninstall: tokenizers\n",
            "    Found existing installation: tokenizers 0.21.1\n",
            "    Uninstalling tokenizers-0.21.1:\n",
            "      Successfully uninstalled tokenizers-0.21.1\n",
            "  Attempting uninstall: opentelemetry-semantic-conventions\n",
            "    Found existing installation: opentelemetry-semantic-conventions 0.52b0\n",
            "    Uninstalling opentelemetry-semantic-conventions-0.52b0:\n",
            "      Successfully uninstalled opentelemetry-semantic-conventions-0.52b0\n",
            "  Attempting uninstall: langsmith\n",
            "    Found existing installation: langsmith 0.3.15\n",
            "    Uninstalling langsmith-0.3.15:\n",
            "      Successfully uninstalled langsmith-0.3.15\n",
            "  Attempting uninstall: opentelemetry-sdk\n",
            "    Found existing installation: opentelemetry-sdk 1.31.0\n",
            "    Uninstalling opentelemetry-sdk-1.31.0:\n",
            "      Successfully uninstalled opentelemetry-sdk-1.31.0\n",
            "  Attempting uninstall: langchain-text-splitters\n",
            "    Found existing installation: langchain-text-splitters 0.3.6\n",
            "    Uninstalling langchain-text-splitters-0.3.6:\n",
            "      Successfully uninstalled langchain-text-splitters-0.3.6\n",
            "  Attempting uninstall: langchain\n",
            "    Found existing installation: langchain 0.3.20\n",
            "    Uninstalling langchain-0.3.20:\n",
            "      Successfully uninstalled langchain-0.3.20\n",
            "\u001b[31mERROR: pip's dependency resolver does not currently take into account all the packages that are installed. This behaviour is the source of the following dependency conflicts.\n",
            "transformers 4.49.0 requires tokenizers<0.22,>=0.21, but you have tokenizers 0.20.3 which is incompatible.\n",
            "google-genai 1.5.0 requires httpx<1.0.0dev,>=0.28.1, but you have httpx 0.27.2 which is incompatible.\u001b[0m\u001b[31m\n",
            "\u001b[0mSuccessfully installed alembic-1.15.1 appdirs-1.4.4 asgiref-3.8.1 auth0-python-4.8.1 azure-common-1.1.28 azure-core-1.32.0 azure-search-documents-11.5.2 backoff-2.2.1 bcrypt-4.3.0 build-1.2.2.post1 chroma-hnswlib-0.7.6 chromadb-0.5.23 cohere-5.14.0 coloredlogs-15.0.1 crewai-0.108.0 crewai-tools-0.38.1 dataclasses-json-0.6.7 deprecation-2.1.0 docker-7.1.0 durationpy-0.9 embedchain-0.1.127 fastapi-0.115.12 fastavro-1.10.0 gptcache-0.1.44 grpcio-tools-1.71.0 httptools-0.6.4 httpx-0.27.2 httpx-sse-0.4.0 humanfriendly-10.0 instructor-1.7.7 isodate-0.7.2 jedi-0.19.2 jiter-0.8.2 json-repair-0.40.0 json5-0.10.0 jsonref-1.1.0 kubernetes-32.0.1 lancedb-0.21.1 langchain-0.3.21 langchain-cohere-0.3.5 langchain-community-0.3.20 langchain-experimental-0.3.4 langchain-openai-0.2.14 langchain-text-splitters-0.3.7 langsmith-0.1.147 litellm-1.60.2 marshmallow-3.26.1 mem0ai-0.1.74 mmh3-5.1.0 monotonic-1.6 mypy-extensions-1.0.0 nodeenv-1.9.1 onnxruntime-1.21.0 opentelemetry-api-1.31.1 opentelemetry-exporter-otlp-proto-common-1.31.1 opentelemetry-exporter-otlp-proto-grpc-1.31.1 opentelemetry-exporter-otlp-proto-http-1.31.1 opentelemetry-instrumentation-0.52b1 opentelemetry-instrumentation-asgi-0.52b1 opentelemetry-instrumentation-fastapi-0.52b1 opentelemetry-proto-1.31.1 opentelemetry-sdk-1.31.1 opentelemetry-semantic-conventions-0.52b1 opentelemetry-util-http-0.52b1 overrides-7.7.0 pdfminer.six-20231228 pdfplumber-0.11.5 portalocker-2.10.1 posthog-3.21.0 psycopg2-binary-2.9.10 pydantic-settings-2.8.1 pylance-0.24.1 pypdf-5.4.0 pypdfium2-4.30.1 pypika-0.48.9 pyproject_hooks-1.2.0 pyright-1.1.397 pysbd-0.3.4 python-dotenv-1.0.1 pytube-15.0.0 pytz-2024.2 pyvis-0.3.2 qdrant-client-1.13.3 schema-0.7.7 starlette-0.46.1 tiktoken-0.7.0 tokenizers-0.20.3 tomli-2.2.1 tomli-w-1.2.0 types-requests-2.32.0.20250306 typing-inspect-0.9.0 uv-0.6.9 uvicorn-0.34.0 uvloop-0.21.0 watchfiles-1.0.4\n"
          ]
        }
      ],
      "source": [
        "pip install crewai 'crewai[tools]'"
      ]
    },
    {
      "cell_type": "code",
      "source": [
        "import os\n",
        "from os import environ\n",
        "from google.colab import userdata\n",
        "google_api=userdata.get('gemini_flow')\n",
        "os.environ['OPENAI_API_KEY'] = google_api"
      ],
      "metadata": {
        "id": "TRluVwzWm88X"
      },
      "execution_count": 2,
      "outputs": []
    },
    {
      "cell_type": "code",
      "source": [
        "import getpass\n",
        "import time\n",
        "initial_time = time.time()"
      ],
      "metadata": {
        "id": "o4FT_1Iyoc2e"
      },
      "execution_count": 4,
      "outputs": []
    },
    {
      "cell_type": "code",
      "source": [
        "from crewai import LLM\n",
        "\n",
        "llm = LLM(\n",
        "    model=\"gemini/gemini-2.0-flash-lite\",\n",
        "    temperature=0.2,\n",
        "    api_key=google_api,\n",
        ")"
      ],
      "metadata": {
        "id": "ooSm1ft1mKLD"
      },
      "execution_count": 3,
      "outputs": []
    },
    {
      "cell_type": "code",
      "source": [
        "from crewai.flow.flow import Flow, start, listen, router, or_\n",
        "from pydantic import BaseModel\n",
        "import random\n",
        "from crewai import LLM"
      ],
      "metadata": {
        "collapsed": true,
        "id": "J8rCayBgnYHv"
      },
      "execution_count": 14,
      "outputs": []
    },
    {
      "cell_type": "code",
      "source": [
        "llm.call(\"what is is ?\")"
      ],
      "metadata": {
        "colab": {
          "base_uri": "https://localhost:8080/",
          "height": 122
        },
        "id": "44rfjqA1pbd2",
        "outputId": "7e94ba56-517b-45c9-e061-47e42db656c8"
      },
      "execution_count": 13,
      "outputs": [
        {
          "output_type": "execute_result",
          "data": {
            "text/plain": [
              "'\"Is\" is a form of the verb \"to be.\" It\\'s used in the present tense and is the third-person singular form (used with \"he,\" \"she,\" \"it,\" or a singular noun).\\n\\nHere are some examples of how \"is\" is used:\\n\\n*   **He is** happy.\\n*   **She is** a doctor.\\n*   **It is** raining.\\n*   The cat **is** sleeping.\\n\\n\"Is\" can also be used as a helping verb (also called an auxiliary verb) to form continuous tenses and passive voice:\\n\\n*   **He is** running. (present continuous)\\n*   The book **is** being read. (present passive)\\n\\nSo, the meaning of \"is\" depends on the context, but it generally indicates existence, a state of being, or an action in the present time.\\n'"
            ],
            "application/vnd.google.colaboratory.intrinsic+json": {
              "type": "string"
            }
          },
          "metadata": {},
          "execution_count": 13
        }
      ]
    },
    {
      "cell_type": "code",
      "source": [
        "# Define a structured state for our flow\n",
        "class ContentState(BaseModel):\n",
        "    topic: str = \"\"\n",
        "    research_notes: str = \"\"\n",
        "    draft: str = \"\"\n",
        "    final_article: str = \"\"\n",
        "    revision_count: int = 0\n",
        "    quality: str = \"\""
      ],
      "metadata": {
        "id": "bEEGdvWqq5mS"
      },
      "execution_count": 15,
      "outputs": []
    },
    {
      "cell_type": "code",
      "source": [
        "class ComplexContentFlow(Flow[ContentState]):\n",
        "    model = llm\n",
        "\n",
        "    @start()\n",
        "    def get_topic(self):\n",
        "        \"\"\"\n",
        "        Start by selecting a topic.\n",
        "        \"\"\"\n",
        "        self.state.topic = \"AI in Healthcare\"  #topic\n",
        "        print(f\"Topic selected: {self.state.topic}\")\n",
        "        return self.state.topic\n",
        "\n",
        "    @listen(get_topic)\n",
        "    def conduct_research(self, topic):\n",
        "        \"\"\"\n",
        "        Conduct research using Gemini.\n",
        "        \"\"\"\n",
        "        prompt = f\"Provide a brief research summary on {self.state.topic}.\"\n",
        "        research_notes = llm.call(prompt)\n",
        "        self.state.research_notes = research_notes  #research_notes\n",
        "        print(f\"Research completed: {research_notes}\")\n",
        "        return research_notes\n",
        "\n",
        "    @listen(conduct_research)\n",
        "    def write_draft(self, research_notes):\n",
        "        \"\"\"\n",
        "        Generate a draft article.\n",
        "        \"\"\"\n",
        "        prompt = f\"Write a well-structured article on {self.state.topic} based on the following research: {research_notes}\"\n",
        "        draft = llm.call(prompt)\n",
        "        self.state.draft = draft  # draft\n",
        "        self.state.revision_count += 1  #revison count\n",
        "        print(f\"Draft written: {draft}\")\n",
        "        return draft\n",
        "\n",
        "    @router(write_draft)\n",
        "    def select_editing_path(self):\n",
        "        \"\"\"\n",
        "        Choose an editing path based on a simulated quality score.\n",
        "        \"\"\"\n",
        "        quality_score = random.randint(1, 100)\n",
        "        self.state.quality = \"high\" if quality_score > 70 else \"low\"   # quality\n",
        "        print(f\"Draft quality score: {quality_score}, assigned quality: {self.state.quality}\")\n",
        "        if self.state.quality == \"high\":\n",
        "            return \"light_edit\"\n",
        "        else:\n",
        "            return \"heavy_edit\"\n",
        "\n",
        "    @listen(\"light_edit\")\n",
        "    def light_editing(self):\n",
        "        \"\"\"\n",
        "        Apply light editing to the draft.\n",
        "        \"\"\"\n",
        "        prompt = f\"Lightly edit the following draft to improve readability: {self.state.draft}\"\n",
        "        edited = llm.call(prompt)\n",
        "        print(f\"Light editing applied: {edited}\")\n",
        "        return edited\n",
        "\n",
        "    @listen(\"heavy_edit\")\n",
        "    def heavy_editing(self):\n",
        "        \"\"\"\n",
        "        Apply heavy editing to the draft.\n",
        "        \"\"\"\n",
        "        prompt = f\"Rewrite the following draft with significant improvements in structure and clarity: {self.state.draft}\"\n",
        "        edited = llm.call(prompt)\n",
        "        print(f\"Heavy editing applied: {edited}\")\n",
        "        return edited\n",
        "\n",
        "    @listen(or_(light_editing, heavy_editing)) # light_editing or heavy_editing\n",
        "    def compile_article(self, edited_draft):\n",
        "        \"\"\"\n",
        "        Compile the final article.\n",
        "        \"\"\"\n",
        "        final = f\"Final article: {edited_draft}\"\n",
        "        self.state.final_article = final ## final_article\n",
        "        print(f\"Article compiled: {final}\")\n",
        "        return final\n"
      ],
      "metadata": {
        "id": "Wlv8oqNArf-s"
      },
      "execution_count": 30,
      "outputs": []
    },
    {
      "cell_type": "code",
      "source": [
        "flow=ComplexContentFlow()\n",
        "flow.plot()\n"
      ],
      "metadata": {
        "colab": {
          "base_uri": "https://localhost:8080/",
          "height": 162
        },
        "id": "bexROmh6r5qN",
        "outputId": "91ecd444-b489-4642-effb-d3fc6f554cc7"
      },
      "execution_count": 23,
      "outputs": [
        {
          "output_type": "display_data",
          "data": {
            "text/plain": [
              "\u001b[34m╭─\u001b[0m\u001b[34m───────────────────────────────────────────────\u001b[0m\u001b[34m Flow Execution \u001b[0m\u001b[34m────────────────────────────────────────────────\u001b[0m\u001b[34m─╮\u001b[0m\n",
              "\u001b[34m│\u001b[0m                                                                                                                 \u001b[34m│\u001b[0m\n",
              "\u001b[34m│\u001b[0m  \u001b[1;34mStarting Flow Execution\u001b[0m                                                                                        \u001b[34m│\u001b[0m\n",
              "\u001b[34m│\u001b[0m  \u001b[37mName: \u001b[0m\u001b[34mComplexContentFlow\u001b[0m                                                                                       \u001b[34m│\u001b[0m\n",
              "\u001b[34m│\u001b[0m  \u001b[37mID: \u001b[0m\u001b[34m573831bf-836a-4f33-9cc5-900c9f4203f9\u001b[0m                                                                       \u001b[34m│\u001b[0m\n",
              "\u001b[34m│\u001b[0m                                                                                                                 \u001b[34m│\u001b[0m\n",
              "\u001b[34m│\u001b[0m                                                                                                                 \u001b[34m│\u001b[0m\n",
              "\u001b[34m╰─────────────────────────────────────────────────────────────────────────────────────────────────────────────────╯\u001b[0m\n"
            ],
            "text/html": [
              "<pre style=\"white-space:pre;overflow-x:auto;line-height:normal;font-family:Menlo,'DejaVu Sans Mono',consolas,'Courier New',monospace\"><span style=\"color: #000080; text-decoration-color: #000080\">╭──────────────────────────────────────────────── Flow Execution ─────────────────────────────────────────────────╮</span>\n",
              "<span style=\"color: #000080; text-decoration-color: #000080\">│</span>                                                                                                                 <span style=\"color: #000080; text-decoration-color: #000080\">│</span>\n",
              "<span style=\"color: #000080; text-decoration-color: #000080\">│</span>  <span style=\"color: #000080; text-decoration-color: #000080; font-weight: bold\">Starting Flow Execution</span>                                                                                        <span style=\"color: #000080; text-decoration-color: #000080\">│</span>\n",
              "<span style=\"color: #000080; text-decoration-color: #000080\">│</span>  <span style=\"color: #c0c0c0; text-decoration-color: #c0c0c0\">Name: </span><span style=\"color: #000080; text-decoration-color: #000080\">ComplexContentFlow</span>                                                                                       <span style=\"color: #000080; text-decoration-color: #000080\">│</span>\n",
              "<span style=\"color: #000080; text-decoration-color: #000080\">│</span>  <span style=\"color: #c0c0c0; text-decoration-color: #c0c0c0\">ID: </span><span style=\"color: #000080; text-decoration-color: #000080\">573831bf-836a-4f33-9cc5-900c9f4203f9</span>                                                                       <span style=\"color: #000080; text-decoration-color: #000080\">│</span>\n",
              "<span style=\"color: #000080; text-decoration-color: #000080\">│</span>                                                                                                                 <span style=\"color: #000080; text-decoration-color: #000080\">│</span>\n",
              "<span style=\"color: #000080; text-decoration-color: #000080\">│</span>                                                                                                                 <span style=\"color: #000080; text-decoration-color: #000080\">│</span>\n",
              "<span style=\"color: #000080; text-decoration-color: #000080\">╰─────────────────────────────────────────────────────────────────────────────────────────────────────────────────╯</span>\n",
              "</pre>\n"
            ]
          },
          "metadata": {}
        },
        {
          "output_type": "display_data",
          "data": {
            "text/plain": [
              "\n"
            ],
            "text/html": [
              "<pre style=\"white-space:pre;overflow-x:auto;line-height:normal;font-family:Menlo,'DejaVu Sans Mono',consolas,'Courier New',monospace\">\n",
              "</pre>\n"
            ]
          },
          "metadata": {}
        },
        {
          "output_type": "stream",
          "name": "stdout",
          "text": [
            "Plot saved as crewai_flow.html\n"
          ]
        }
      ]
    },
    {
      "cell_type": "code",
      "source": [
        "from IPython.display import IFrame\n",
        "\n",
        "IFrame(src='/content/crewai_flow.html', width='150%', height=600)"
      ],
      "metadata": {
        "colab": {
          "base_uri": "https://localhost:8080/",
          "height": 641
        },
        "collapsed": true,
        "id": "eBvvwTAfs0Hu",
        "outputId": "5ca1bc68-23ea-4584-cab3-923663317392"
      },
      "execution_count": 26,
      "outputs": [
        {
          "output_type": "execute_result",
          "data": {
            "text/plain": [
              "<IPython.lib.display.IFrame at 0x7ed576f52d50>"
            ],
            "text/html": [
              "\n",
              "        <iframe\n",
              "            width=\"150%\"\n",
              "            height=\"600\"\n",
              "            src=\"/content/crewai_flow.html\"\n",
              "            frameborder=\"0\"\n",
              "            allowfullscreen\n",
              "            \n",
              "        ></iframe>\n",
              "        "
            ]
          },
          "metadata": {},
          "execution_count": 26
        }
      ]
    },
    {
      "cell_type": "markdown",
      "source": [
        "![image.png](data:image/png;base64,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)"
      ],
      "metadata": {
        "id": "Yqb3BV4pwbgj"
      }
    },
    {
      "cell_type": "code",
      "source": [
        "import nest_asyncio\n",
        "nest_asyncio.apply()\n",
        "\n",
        "result = flow.kickoff()"
      ],
      "metadata": {
        "colab": {
          "base_uri": "https://localhost:8080/",
          "height": 1000
        },
        "id": "lEFdBDD-tVyl",
        "outputId": "009456dc-bc25-4679-c820-25a55150d627"
      },
      "execution_count": 31,
      "outputs": [
        {
          "output_type": "display_data",
          "data": {
            "text/plain": [
              "\u001b[1;34m🌊 Flow: \u001b[0m\u001b[34mComplexContentFlow\u001b[0m\n",
              "\u001b[37m    ID: \u001b[0m\u001b[34m573831bf-836a-4f33-9cc5-900c9f4203f9\u001b[0m\n",
              "└── \u001b[33m🧠 Starting Flow...\u001b[0m\n"
            ],
            "text/html": [
              "<pre style=\"white-space:pre;overflow-x:auto;line-height:normal;font-family:Menlo,'DejaVu Sans Mono',consolas,'Courier New',monospace\"><span style=\"color: #000080; text-decoration-color: #000080; font-weight: bold\">🌊 Flow: </span><span style=\"color: #000080; text-decoration-color: #000080\">ComplexContentFlow</span>\n",
              "<span style=\"color: #c0c0c0; text-decoration-color: #c0c0c0\">    ID: </span><span style=\"color: #000080; text-decoration-color: #000080\">573831bf-836a-4f33-9cc5-900c9f4203f9</span>\n",
              "└── <span style=\"color: #808000; text-decoration-color: #808000\">🧠 Starting Flow...</span>\n",
              "</pre>\n"
            ]
          },
          "metadata": {}
        },
        {
          "output_type": "display_data",
          "data": {
            "text/plain": [
              "\n"
            ],
            "text/html": [
              "<pre style=\"white-space:pre;overflow-x:auto;line-height:normal;font-family:Menlo,'DejaVu Sans Mono',consolas,'Courier New',monospace\">\n",
              "</pre>\n"
            ]
          },
          "metadata": {}
        },
        {
          "output_type": "stream",
          "name": "stdout",
          "text": [
            "\u001b[1m\u001b[35m Flow started with ID: 573831bf-836a-4f33-9cc5-900c9f4203f9\u001b[00m\n"
          ]
        },
        {
          "output_type": "display_data",
          "data": {
            "text/plain": [
              "\u001b[1;34m🌊 Flow: \u001b[0m\u001b[34mComplexContentFlow\u001b[0m\n",
              "\u001b[37m    ID: \u001b[0m\u001b[34m573831bf-836a-4f33-9cc5-900c9f4203f9\u001b[0m\n",
              "├── \u001b[33m🧠 Starting Flow...\u001b[0m\n",
              "└── \u001b[1;33m🔄 Running:\u001b[0m\u001b[1;33m get_topic\u001b[0m\n"
            ],
            "text/html": [
              "<pre style=\"white-space:pre;overflow-x:auto;line-height:normal;font-family:Menlo,'DejaVu Sans Mono',consolas,'Courier New',monospace\"><span style=\"color: #000080; text-decoration-color: #000080; font-weight: bold\">🌊 Flow: </span><span style=\"color: #000080; text-decoration-color: #000080\">ComplexContentFlow</span>\n",
              "<span style=\"color: #c0c0c0; text-decoration-color: #c0c0c0\">    ID: </span><span style=\"color: #000080; text-decoration-color: #000080\">573831bf-836a-4f33-9cc5-900c9f4203f9</span>\n",
              "├── <span style=\"color: #808000; text-decoration-color: #808000\">🧠 Starting Flow...</span>\n",
              "└── <span style=\"color: #808000; text-decoration-color: #808000; font-weight: bold\">🔄 Running: get_topic</span>\n",
              "</pre>\n"
            ]
          },
          "metadata": {}
        },
        {
          "output_type": "display_data",
          "data": {
            "text/plain": [
              "\n"
            ],
            "text/html": [
              "<pre style=\"white-space:pre;overflow-x:auto;line-height:normal;font-family:Menlo,'DejaVu Sans Mono',consolas,'Courier New',monospace\">\n",
              "</pre>\n"
            ]
          },
          "metadata": {}
        },
        {
          "output_type": "stream",
          "name": "stdout",
          "text": [
            "Topic selected: AI in Healthcare\n"
          ]
        },
        {
          "output_type": "display_data",
          "data": {
            "text/plain": [
              "\u001b[1;34m🌊 Flow: \u001b[0m\u001b[34mComplexContentFlow\u001b[0m\n",
              "\u001b[37m    ID: \u001b[0m\u001b[34m573831bf-836a-4f33-9cc5-900c9f4203f9\u001b[0m\n",
              "├── \u001b[37mFlow Method Step\u001b[0m\n",
              "└── \u001b[1;32m✅ Completed:\u001b[0m\u001b[1;32m get_topic\u001b[0m\n"
            ],
            "text/html": [
              "<pre style=\"white-space:pre;overflow-x:auto;line-height:normal;font-family:Menlo,'DejaVu Sans Mono',consolas,'Courier New',monospace\"><span style=\"color: #000080; text-decoration-color: #000080; font-weight: bold\">🌊 Flow: </span><span style=\"color: #000080; text-decoration-color: #000080\">ComplexContentFlow</span>\n",
              "<span style=\"color: #c0c0c0; text-decoration-color: #c0c0c0\">    ID: </span><span style=\"color: #000080; text-decoration-color: #000080\">573831bf-836a-4f33-9cc5-900c9f4203f9</span>\n",
              "├── <span style=\"color: #c0c0c0; text-decoration-color: #c0c0c0\">Flow Method Step</span>\n",
              "└── <span style=\"color: #008000; text-decoration-color: #008000; font-weight: bold\">✅ Completed: get_topic</span>\n",
              "</pre>\n"
            ]
          },
          "metadata": {}
        },
        {
          "output_type": "display_data",
          "data": {
            "text/plain": [
              "\n"
            ],
            "text/html": [
              "<pre style=\"white-space:pre;overflow-x:auto;line-height:normal;font-family:Menlo,'DejaVu Sans Mono',consolas,'Courier New',monospace\">\n",
              "</pre>\n"
            ]
          },
          "metadata": {}
        },
        {
          "output_type": "display_data",
          "data": {
            "text/plain": [
              "\u001b[1;34m🌊 Flow: \u001b[0m\u001b[34mComplexContentFlow\u001b[0m\n",
              "\u001b[37m    ID: \u001b[0m\u001b[34m573831bf-836a-4f33-9cc5-900c9f4203f9\u001b[0m\n",
              "├── \u001b[37mFlow Method Step\u001b[0m\n",
              "├── \u001b[1;32m✅ Completed:\u001b[0m\u001b[1;32m get_topic\u001b[0m\n",
              "└── \u001b[1;33m🔄 Running:\u001b[0m\u001b[1;33m conduct_research\u001b[0m\n"
            ],
            "text/html": [
              "<pre style=\"white-space:pre;overflow-x:auto;line-height:normal;font-family:Menlo,'DejaVu Sans Mono',consolas,'Courier New',monospace\"><span style=\"color: #000080; text-decoration-color: #000080; font-weight: bold\">🌊 Flow: </span><span style=\"color: #000080; text-decoration-color: #000080\">ComplexContentFlow</span>\n",
              "<span style=\"color: #c0c0c0; text-decoration-color: #c0c0c0\">    ID: </span><span style=\"color: #000080; text-decoration-color: #000080\">573831bf-836a-4f33-9cc5-900c9f4203f9</span>\n",
              "├── <span style=\"color: #c0c0c0; text-decoration-color: #c0c0c0\">Flow Method Step</span>\n",
              "├── <span style=\"color: #008000; text-decoration-color: #008000; font-weight: bold\">✅ Completed: get_topic</span>\n",
              "└── <span style=\"color: #808000; text-decoration-color: #808000; font-weight: bold\">🔄 Running: conduct_research</span>\n",
              "</pre>\n"
            ]
          },
          "metadata": {}
        },
        {
          "output_type": "display_data",
          "data": {
            "text/plain": [
              "\n"
            ],
            "text/html": [
              "<pre style=\"white-space:pre;overflow-x:auto;line-height:normal;font-family:Menlo,'DejaVu Sans Mono',consolas,'Courier New',monospace\">\n",
              "</pre>\n"
            ]
          },
          "metadata": {}
        },
        {
          "output_type": "stream",
          "name": "stdout",
          "text": [
            "Research completed: ## AI in Healthcare: A Brief Research Summary\n",
            "\n",
            "Artificial Intelligence (AI) is rapidly transforming healthcare, offering potential to improve efficiency, accuracy, and patient outcomes. Research in this field is booming, focusing on various applications:\n",
            "\n",
            "**Key Areas of Application:**\n",
            "\n",
            "*   **Diagnosis & Treatment:** AI algorithms, particularly deep learning models, are used to analyze medical images (X-rays, MRIs) for early disease detection (e.g., cancer, cardiovascular disease), predict patient risk, and personalize treatment plans.\n",
            "*   **Drug Discovery & Development:** AI accelerates the drug development process by identifying potential drug candidates, predicting drug efficacy, and optimizing clinical trial design, reducing costs and time.\n",
            "*   **Robotics & Surgery:** AI-powered robots assist surgeons with complex procedures, enhancing precision, minimizing invasiveness, and improving patient recovery.\n",
            "*   **Patient Monitoring & Management:** AI-enabled wearable devices and remote monitoring systems track patient vital signs, detect anomalies, and provide timely alerts to healthcare providers, enabling proactive care.\n",
            "*   **Administrative Tasks & Efficiency:** AI automates administrative tasks like appointment scheduling, billing, and medical record management, freeing up healthcare professionals to focus on patient care.\n",
            "*   **Mental Health:** AI-powered chatbots and virtual assistants provide mental health support, offer personalized interventions, and monitor patient progress.\n",
            "\n",
            "**Key Research Trends:**\n",
            "\n",
            "*   **Explainable AI (XAI):** Increasing focus on developing AI models that are transparent and provide understandable explanations for their decisions, building trust and facilitating clinical adoption.\n",
            "*   **Data Privacy & Security:** Addressing concerns about patient data privacy and security through the development of secure AI systems and ethical guidelines.\n",
            "*   **Bias Detection & Mitigation:** Researching methods to identify and mitigate biases in AI algorithms that could lead to disparities in healthcare outcomes.\n",
            "*   **Integration with Electronic Health Records (EHRs):** Developing seamless integration of AI tools with existing EHR systems to improve data accessibility and workflow efficiency.\n",
            "*   **Real-World Evidence & Clinical Validation:** Conducting rigorous clinical trials and real-world studies to validate the effectiveness and safety of AI-based healthcare solutions.\n",
            "\n",
            "**Challenges:**\n",
            "\n",
            "*   **Data Availability & Quality:** Access to large, high-quality, and diverse datasets is crucial for training effective AI models.\n",
            "*   **Regulatory Hurdles:** Navigating complex regulatory landscapes and ensuring compliance with data privacy regulations.\n",
            "*   **Ethical Considerations:** Addressing ethical concerns related to data privacy, algorithmic bias, and the potential impact on the doctor-patient relationship.\n",
            "*   **Implementation & Adoption:** Overcoming barriers to adoption, including clinician resistance, lack of infrastructure, and high implementation costs.\n",
            "\n",
            "**Conclusion:**\n",
            "\n",
            "AI holds immense promise for revolutionizing healthcare. Ongoing research is addressing the challenges and paving the way for the widespread adoption of AI-powered solutions, ultimately leading to improved patient care, reduced costs, and a more efficient healthcare system. However, careful consideration of ethical implications, data privacy, and regulatory frameworks is crucial for responsible and sustainable implementation.\n",
            "\n"
          ]
        },
        {
          "output_type": "display_data",
          "data": {
            "text/plain": [
              "\u001b[1;34m🌊 Flow: \u001b[0m\u001b[34mComplexContentFlow\u001b[0m\n",
              "\u001b[37m    ID: \u001b[0m\u001b[34m573831bf-836a-4f33-9cc5-900c9f4203f9\u001b[0m\n",
              "├── \u001b[37mFlow Method Step\u001b[0m\n",
              "├── \u001b[1;32m✅ Completed:\u001b[0m\u001b[1;32m get_topic\u001b[0m\n",
              "└── \u001b[1;32m✅ Completed:\u001b[0m\u001b[1;32m conduct_research\u001b[0m\n"
            ],
            "text/html": [
              "<pre style=\"white-space:pre;overflow-x:auto;line-height:normal;font-family:Menlo,'DejaVu Sans Mono',consolas,'Courier New',monospace\"><span style=\"color: #000080; text-decoration-color: #000080; font-weight: bold\">🌊 Flow: </span><span style=\"color: #000080; text-decoration-color: #000080\">ComplexContentFlow</span>\n",
              "<span style=\"color: #c0c0c0; text-decoration-color: #c0c0c0\">    ID: </span><span style=\"color: #000080; text-decoration-color: #000080\">573831bf-836a-4f33-9cc5-900c9f4203f9</span>\n",
              "├── <span style=\"color: #c0c0c0; text-decoration-color: #c0c0c0\">Flow Method Step</span>\n",
              "├── <span style=\"color: #008000; text-decoration-color: #008000; font-weight: bold\">✅ Completed: get_topic</span>\n",
              "└── <span style=\"color: #008000; text-decoration-color: #008000; font-weight: bold\">✅ Completed: conduct_research</span>\n",
              "</pre>\n"
            ]
          },
          "metadata": {}
        },
        {
          "output_type": "display_data",
          "data": {
            "text/plain": [
              "\n"
            ],
            "text/html": [
              "<pre style=\"white-space:pre;overflow-x:auto;line-height:normal;font-family:Menlo,'DejaVu Sans Mono',consolas,'Courier New',monospace\">\n",
              "</pre>\n"
            ]
          },
          "metadata": {}
        },
        {
          "output_type": "display_data",
          "data": {
            "text/plain": [
              "\u001b[1;34m🌊 Flow: \u001b[0m\u001b[34mComplexContentFlow\u001b[0m\n",
              "\u001b[37m    ID: \u001b[0m\u001b[34m573831bf-836a-4f33-9cc5-900c9f4203f9\u001b[0m\n",
              "├── \u001b[37mFlow Method Step\u001b[0m\n",
              "├── \u001b[1;32m✅ Completed:\u001b[0m\u001b[1;32m get_topic\u001b[0m\n",
              "├── \u001b[1;32m✅ Completed:\u001b[0m\u001b[1;32m conduct_research\u001b[0m\n",
              "└── \u001b[1;33m🔄 Running:\u001b[0m\u001b[1;33m write_draft\u001b[0m\n"
            ],
            "text/html": [
              "<pre style=\"white-space:pre;overflow-x:auto;line-height:normal;font-family:Menlo,'DejaVu Sans Mono',consolas,'Courier New',monospace\"><span style=\"color: #000080; text-decoration-color: #000080; font-weight: bold\">🌊 Flow: </span><span style=\"color: #000080; text-decoration-color: #000080\">ComplexContentFlow</span>\n",
              "<span style=\"color: #c0c0c0; text-decoration-color: #c0c0c0\">    ID: </span><span style=\"color: #000080; text-decoration-color: #000080\">573831bf-836a-4f33-9cc5-900c9f4203f9</span>\n",
              "├── <span style=\"color: #c0c0c0; text-decoration-color: #c0c0c0\">Flow Method Step</span>\n",
              "├── <span style=\"color: #008000; text-decoration-color: #008000; font-weight: bold\">✅ Completed: get_topic</span>\n",
              "├── <span style=\"color: #008000; text-decoration-color: #008000; font-weight: bold\">✅ Completed: conduct_research</span>\n",
              "└── <span style=\"color: #808000; text-decoration-color: #808000; font-weight: bold\">🔄 Running: write_draft</span>\n",
              "</pre>\n"
            ]
          },
          "metadata": {}
        },
        {
          "output_type": "display_data",
          "data": {
            "text/plain": [
              "\n"
            ],
            "text/html": [
              "<pre style=\"white-space:pre;overflow-x:auto;line-height:normal;font-family:Menlo,'DejaVu Sans Mono',consolas,'Courier New',monospace\">\n",
              "</pre>\n"
            ]
          },
          "metadata": {}
        },
        {
          "output_type": "stream",
          "name": "stdout",
          "text": [
            "Draft written: ## The AI Revolution in Healthcare: Transforming Care and Shaping the Future\n",
            "\n",
            "Artificial Intelligence (AI) is no longer a futuristic concept; it's rapidly becoming a transformative force in healthcare, promising to reshape how we diagnose, treat, and manage patient care. From sophisticated diagnostic tools to robotic surgical assistants, AI is poised to revolutionize the industry, offering the potential for improved efficiency, accuracy, and ultimately, better patient outcomes. This article provides a comprehensive overview of the current state of AI in healthcare, exploring its key applications, research trends, challenges, and future prospects.\n",
            "\n",
            "**Key Areas of Application: A Spectrum of Innovation**\n",
            "\n",
            "The impact of AI is being felt across a wide spectrum of healthcare applications:\n",
            "\n",
            "*   **Diagnosis & Treatment:** Perhaps the most prominent application, AI algorithms, particularly those based on deep learning, are proving remarkably adept at analyzing medical images. This includes X-rays, MRIs, and CT scans, enabling earlier and more accurate detection of diseases like cancer, cardiovascular disease, and neurological disorders. Beyond image analysis, AI is also used to predict patient risk, personalize treatment plans based on individual patient characteristics, and optimize therapeutic strategies.\n",
            "*   **Drug Discovery & Development:** The traditional drug development process is notoriously lengthy and expensive. AI is accelerating this process by identifying potential drug candidates, predicting their efficacy, and optimizing the design of clinical trials. This can significantly reduce both the time and cost associated with bringing new medications to market, ultimately benefiting patients.\n",
            "*   **Robotics & Surgery:** AI-powered robots are increasingly assisting surgeons in complex procedures. These robots enhance precision, minimize invasiveness, and can lead to faster patient recovery times. The integration of AI allows for more controlled movements, improved visualization, and the potential for surgeons to perform procedures with greater accuracy.\n",
            "*   **Patient Monitoring & Management:** AI-enabled wearable devices and remote monitoring systems are transforming how we track patient health. These technologies continuously monitor vital signs, detect anomalies, and provide timely alerts to healthcare providers. This proactive approach allows for early intervention, potentially preventing serious health complications and enabling more personalized care.\n",
            "*   **Administrative Tasks & Efficiency:** AI is streamlining the administrative burden that often plagues healthcare systems. Automation of tasks like appointment scheduling, billing, and medical record management frees up healthcare professionals to focus on their primary responsibility: patient care. This increased efficiency can lead to reduced costs and improved patient satisfaction.\n",
            "*   **Mental Health:** AI is also making inroads in mental health support. AI-powered chatbots and virtual assistants are providing accessible and personalized interventions, offering support, monitoring patient progress, and potentially reducing the stigma associated with seeking mental health care.\n",
            "\n",
            "**Key Research Trends: Shaping the Future of AI in Healthcare**\n",
            "\n",
            "Ongoing research is driving innovation and addressing the challenges associated with AI implementation in healthcare:\n",
            "\n",
            "*   **Explainable AI (XAI):** Building trust and facilitating clinical adoption requires transparency. XAI focuses on developing AI models that provide understandable explanations for their decisions. This allows clinicians to understand the reasoning behind AI recommendations, fostering confidence and enabling informed decision-making.\n",
            "*   **Data Privacy & Security:** Protecting sensitive patient data is paramount. Research is focused on developing secure AI systems and establishing robust ethical guidelines to ensure patient privacy and data security. This includes exploring techniques like federated learning, which allows AI models to be trained on decentralized data without compromising patient confidentiality.\n",
            "*   **Bias Detection & Mitigation:** AI algorithms are trained on data, and if that data reflects existing biases, the algorithms can perpetuate and even amplify those biases. Research is actively focused on identifying and mitigating biases in AI models to ensure equitable healthcare outcomes for all patients.\n",
            "*   **Integration with Electronic Health Records (EHRs):** Seamless integration of AI tools with existing EHR systems is crucial for improving data accessibility and workflow efficiency. Research is focused on developing interoperable systems that can seamlessly exchange data and provide clinicians with a comprehensive view of patient information.\n",
            "*   **Real-World Evidence & Clinical Validation:** Rigorous clinical trials and real-world studies are essential to validate the effectiveness and safety of AI-based healthcare solutions. This research provides the evidence needed to support regulatory approvals and ensure that AI tools are delivering on their promises in real-world clinical settings.\n",
            "\n",
            "**Challenges and Considerations: Navigating the Path Forward**\n",
            "\n",
            "While the potential of AI in healthcare is immense, several challenges must be addressed for successful and responsible implementation:\n",
            "\n",
            "*   **Data Availability & Quality:** Training effective AI models requires access to large, high-quality, and diverse datasets. The availability of such data, along with ensuring its accuracy and representativeness, remains a significant hurdle.\n",
            "*   **Regulatory Hurdles:** Navigating the complex regulatory landscape, including data privacy regulations like HIPAA, is crucial. Clear guidelines and streamlined approval processes are needed to facilitate the adoption of AI-based solutions.\n",
            "*   **Ethical Considerations:** Addressing ethical concerns related to data privacy, algorithmic bias, and the potential impact on the doctor-patient relationship is paramount. Careful consideration of these ethical implications is essential for building trust and ensuring responsible AI implementation.\n",
            "*   **Implementation & Adoption:** Overcoming barriers to adoption, including clinician resistance, lack of infrastructure, and high implementation costs, is critical. Effective training programs, user-friendly interfaces, and clear demonstrations of value are needed to facilitate widespread adoption.\n",
            "\n",
            "**Conclusion: A Promising Future, Guided by Responsibility**\n",
            "\n",
            "AI holds immense promise for revolutionizing healthcare, offering the potential to improve patient care, reduce costs, and create a more efficient healthcare system. Ongoing research is addressing the challenges and paving the way for the widespread adoption of AI-powered solutions. However, the responsible and sustainable implementation of AI in healthcare requires careful consideration of ethical implications, data privacy, regulatory frameworks, and the need for continuous evaluation and improvement. By addressing these challenges proactively, we can harness the power of AI to create a healthier future for all.\n",
            "\n"
          ]
        },
        {
          "output_type": "display_data",
          "data": {
            "text/plain": [
              "\u001b[1;34m🌊 Flow: \u001b[0m\u001b[34mComplexContentFlow\u001b[0m\n",
              "\u001b[37m    ID: \u001b[0m\u001b[34m573831bf-836a-4f33-9cc5-900c9f4203f9\u001b[0m\n",
              "├── \u001b[37mFlow Method Step\u001b[0m\n",
              "├── \u001b[1;32m✅ Completed:\u001b[0m\u001b[1;32m get_topic\u001b[0m\n",
              "├── \u001b[1;32m✅ Completed:\u001b[0m\u001b[1;32m conduct_research\u001b[0m\n",
              "└── \u001b[1;32m✅ Completed:\u001b[0m\u001b[1;32m write_draft\u001b[0m\n"
            ],
            "text/html": [
              "<pre style=\"white-space:pre;overflow-x:auto;line-height:normal;font-family:Menlo,'DejaVu Sans Mono',consolas,'Courier New',monospace\"><span style=\"color: #000080; text-decoration-color: #000080; font-weight: bold\">🌊 Flow: </span><span style=\"color: #000080; text-decoration-color: #000080\">ComplexContentFlow</span>\n",
              "<span style=\"color: #c0c0c0; text-decoration-color: #c0c0c0\">    ID: </span><span style=\"color: #000080; text-decoration-color: #000080\">573831bf-836a-4f33-9cc5-900c9f4203f9</span>\n",
              "├── <span style=\"color: #c0c0c0; text-decoration-color: #c0c0c0\">Flow Method Step</span>\n",
              "├── <span style=\"color: #008000; text-decoration-color: #008000; font-weight: bold\">✅ Completed: get_topic</span>\n",
              "├── <span style=\"color: #008000; text-decoration-color: #008000; font-weight: bold\">✅ Completed: conduct_research</span>\n",
              "└── <span style=\"color: #008000; text-decoration-color: #008000; font-weight: bold\">✅ Completed: write_draft</span>\n",
              "</pre>\n"
            ]
          },
          "metadata": {}
        },
        {
          "output_type": "display_data",
          "data": {
            "text/plain": [
              "\n"
            ],
            "text/html": [
              "<pre style=\"white-space:pre;overflow-x:auto;line-height:normal;font-family:Menlo,'DejaVu Sans Mono',consolas,'Courier New',monospace\">\n",
              "</pre>\n"
            ]
          },
          "metadata": {}
        },
        {
          "output_type": "display_data",
          "data": {
            "text/plain": [
              "\u001b[1;34m🌊 Flow: \u001b[0m\u001b[34mComplexContentFlow\u001b[0m\n",
              "\u001b[37m    ID: \u001b[0m\u001b[34m573831bf-836a-4f33-9cc5-900c9f4203f9\u001b[0m\n",
              "├── \u001b[37mFlow Method Step\u001b[0m\n",
              "├── \u001b[1;32m✅ Completed:\u001b[0m\u001b[1;32m get_topic\u001b[0m\n",
              "├── \u001b[1;32m✅ Completed:\u001b[0m\u001b[1;32m conduct_research\u001b[0m\n",
              "├── \u001b[1;32m✅ Completed:\u001b[0m\u001b[1;32m write_draft\u001b[0m\n",
              "└── \u001b[1;33m🔄 Running:\u001b[0m\u001b[1;33m select_editing_path\u001b[0m\n"
            ],
            "text/html": [
              "<pre style=\"white-space:pre;overflow-x:auto;line-height:normal;font-family:Menlo,'DejaVu Sans Mono',consolas,'Courier New',monospace\"><span style=\"color: #000080; text-decoration-color: #000080; font-weight: bold\">🌊 Flow: </span><span style=\"color: #000080; text-decoration-color: #000080\">ComplexContentFlow</span>\n",
              "<span style=\"color: #c0c0c0; text-decoration-color: #c0c0c0\">    ID: </span><span style=\"color: #000080; text-decoration-color: #000080\">573831bf-836a-4f33-9cc5-900c9f4203f9</span>\n",
              "├── <span style=\"color: #c0c0c0; text-decoration-color: #c0c0c0\">Flow Method Step</span>\n",
              "├── <span style=\"color: #008000; text-decoration-color: #008000; font-weight: bold\">✅ Completed: get_topic</span>\n",
              "├── <span style=\"color: #008000; text-decoration-color: #008000; font-weight: bold\">✅ Completed: conduct_research</span>\n",
              "├── <span style=\"color: #008000; text-decoration-color: #008000; font-weight: bold\">✅ Completed: write_draft</span>\n",
              "└── <span style=\"color: #808000; text-decoration-color: #808000; font-weight: bold\">🔄 Running: select_editing_path</span>\n",
              "</pre>\n"
            ]
          },
          "metadata": {}
        },
        {
          "output_type": "display_data",
          "data": {
            "text/plain": [
              "\n"
            ],
            "text/html": [
              "<pre style=\"white-space:pre;overflow-x:auto;line-height:normal;font-family:Menlo,'DejaVu Sans Mono',consolas,'Courier New',monospace\">\n",
              "</pre>\n"
            ]
          },
          "metadata": {}
        },
        {
          "output_type": "stream",
          "name": "stdout",
          "text": [
            "Draft quality score: 52, assigned quality: low\n"
          ]
        },
        {
          "output_type": "display_data",
          "data": {
            "text/plain": [
              "\u001b[1;34m🌊 Flow: \u001b[0m\u001b[34mComplexContentFlow\u001b[0m\n",
              "\u001b[37m    ID: \u001b[0m\u001b[34m573831bf-836a-4f33-9cc5-900c9f4203f9\u001b[0m\n",
              "├── \u001b[37mFlow Method Step\u001b[0m\n",
              "├── \u001b[1;32m✅ Completed:\u001b[0m\u001b[1;32m get_topic\u001b[0m\n",
              "├── \u001b[1;32m✅ Completed:\u001b[0m\u001b[1;32m conduct_research\u001b[0m\n",
              "├── \u001b[1;32m✅ Completed:\u001b[0m\u001b[1;32m write_draft\u001b[0m\n",
              "└── \u001b[1;32m✅ Completed:\u001b[0m\u001b[1;32m select_editing_path\u001b[0m\n"
            ],
            "text/html": [
              "<pre style=\"white-space:pre;overflow-x:auto;line-height:normal;font-family:Menlo,'DejaVu Sans Mono',consolas,'Courier New',monospace\"><span style=\"color: #000080; text-decoration-color: #000080; font-weight: bold\">🌊 Flow: </span><span style=\"color: #000080; text-decoration-color: #000080\">ComplexContentFlow</span>\n",
              "<span style=\"color: #c0c0c0; text-decoration-color: #c0c0c0\">    ID: </span><span style=\"color: #000080; text-decoration-color: #000080\">573831bf-836a-4f33-9cc5-900c9f4203f9</span>\n",
              "├── <span style=\"color: #c0c0c0; text-decoration-color: #c0c0c0\">Flow Method Step</span>\n",
              "├── <span style=\"color: #008000; text-decoration-color: #008000; font-weight: bold\">✅ Completed: get_topic</span>\n",
              "├── <span style=\"color: #008000; text-decoration-color: #008000; font-weight: bold\">✅ Completed: conduct_research</span>\n",
              "├── <span style=\"color: #008000; text-decoration-color: #008000; font-weight: bold\">✅ Completed: write_draft</span>\n",
              "└── <span style=\"color: #008000; text-decoration-color: #008000; font-weight: bold\">✅ Completed: select_editing_path</span>\n",
              "</pre>\n"
            ]
          },
          "metadata": {}
        },
        {
          "output_type": "display_data",
          "data": {
            "text/plain": [
              "\n"
            ],
            "text/html": [
              "<pre style=\"white-space:pre;overflow-x:auto;line-height:normal;font-family:Menlo,'DejaVu Sans Mono',consolas,'Courier New',monospace\">\n",
              "</pre>\n"
            ]
          },
          "metadata": {}
        },
        {
          "output_type": "display_data",
          "data": {
            "text/plain": [
              "\u001b[1;34m🌊 Flow: \u001b[0m\u001b[34mComplexContentFlow\u001b[0m\n",
              "\u001b[37m    ID: \u001b[0m\u001b[34m573831bf-836a-4f33-9cc5-900c9f4203f9\u001b[0m\n",
              "├── \u001b[37mFlow Method Step\u001b[0m\n",
              "├── \u001b[1;32m✅ Completed:\u001b[0m\u001b[1;32m get_topic\u001b[0m\n",
              "├── \u001b[1;32m✅ Completed:\u001b[0m\u001b[1;32m conduct_research\u001b[0m\n",
              "├── \u001b[1;32m✅ Completed:\u001b[0m\u001b[1;32m write_draft\u001b[0m\n",
              "├── \u001b[1;32m✅ Completed:\u001b[0m\u001b[1;32m select_editing_path\u001b[0m\n",
              "└── \u001b[1;33m🔄 Running:\u001b[0m\u001b[1;33m heavy_editing\u001b[0m\n"
            ],
            "text/html": [
              "<pre style=\"white-space:pre;overflow-x:auto;line-height:normal;font-family:Menlo,'DejaVu Sans Mono',consolas,'Courier New',monospace\"><span style=\"color: #000080; text-decoration-color: #000080; font-weight: bold\">🌊 Flow: </span><span style=\"color: #000080; text-decoration-color: #000080\">ComplexContentFlow</span>\n",
              "<span style=\"color: #c0c0c0; text-decoration-color: #c0c0c0\">    ID: </span><span style=\"color: #000080; text-decoration-color: #000080\">573831bf-836a-4f33-9cc5-900c9f4203f9</span>\n",
              "├── <span style=\"color: #c0c0c0; text-decoration-color: #c0c0c0\">Flow Method Step</span>\n",
              "├── <span style=\"color: #008000; text-decoration-color: #008000; font-weight: bold\">✅ Completed: get_topic</span>\n",
              "├── <span style=\"color: #008000; text-decoration-color: #008000; font-weight: bold\">✅ Completed: conduct_research</span>\n",
              "├── <span style=\"color: #008000; text-decoration-color: #008000; font-weight: bold\">✅ Completed: write_draft</span>\n",
              "├── <span style=\"color: #008000; text-decoration-color: #008000; font-weight: bold\">✅ Completed: select_editing_path</span>\n",
              "└── <span style=\"color: #808000; text-decoration-color: #808000; font-weight: bold\">🔄 Running: heavy_editing</span>\n",
              "</pre>\n"
            ]
          },
          "metadata": {}
        },
        {
          "output_type": "display_data",
          "data": {
            "text/plain": [
              "\n"
            ],
            "text/html": [
              "<pre style=\"white-space:pre;overflow-x:auto;line-height:normal;font-family:Menlo,'DejaVu Sans Mono',consolas,'Courier New',monospace\">\n",
              "</pre>\n"
            ]
          },
          "metadata": {}
        },
        {
          "output_type": "stream",
          "name": "stdout",
          "text": [
            "Heavy editing applied: ## The AI Revolution in Healthcare: Transforming Care and Shaping the Future\n",
            "\n",
            "Artificial intelligence (AI) is rapidly transforming healthcare, moving beyond futuristic concepts to become a powerful force reshaping how we diagnose, treat, and manage patient care. From sophisticated diagnostic tools to robotic surgical assistants, AI promises to revolutionize the industry, offering the potential for improved efficiency, accuracy, and, ultimately, better patient outcomes. This article provides a comprehensive overview of the current state of AI in healthcare, exploring its key applications, research trends, challenges, and future prospects.\n",
            "\n",
            "**I. Key Applications: A Spectrum of Innovation**\n",
            "\n",
            "AI's impact is being felt across a wide spectrum of healthcare applications, each offering unique opportunities to improve patient care and streamline processes:\n",
            "\n",
            "*   **A. Diagnosis and Treatment:** Perhaps the most prominent application, AI algorithms, particularly those based on deep learning, are proving remarkably adept at analyzing medical images. This includes X-rays, MRIs, and CT scans, enabling earlier and more accurate detection of diseases like cancer, cardiovascular disease, and neurological disorders. Beyond image analysis, AI is also used to predict patient risk, personalize treatment plans based on individual patient characteristics (e.g., genomics, lifestyle), and optimize therapeutic strategies, including drug dosages and treatment schedules.\n",
            "\n",
            "*   **B. Drug Discovery and Development:** The traditional drug development process is notoriously lengthy and expensive, often taking over a decade and billions of dollars. AI is accelerating this process by:\n",
            "    *   **Identifying Potential Drug Candidates:** AI algorithms can analyze vast datasets of biological information to identify promising drug targets and predict the efficacy of potential drug candidates.\n",
            "    *   **Optimizing Drug Design:** AI can assist in designing new drugs with improved properties, such as increased potency and reduced side effects.\n",
            "    *   **Streamlining Clinical Trials:** AI can optimize the design of clinical trials, identify suitable patient populations, and predict trial outcomes, significantly reducing both the time and cost associated with bringing new medications to market.\n",
            "\n",
            "*   **C. Robotics and Surgery:** AI-powered robots are increasingly assisting surgeons in complex procedures. These robots enhance precision, minimize invasiveness, and can lead to faster patient recovery times. The integration of AI allows for:\n",
            "    *   **Enhanced Precision and Dexterity:** Robots offer greater control and accuracy than human hands, enabling surgeons to perform intricate procedures with greater precision.\n",
            "    *   **Improved Visualization:** AI can enhance surgical visualization, providing surgeons with a clearer and more detailed view of the surgical field.\n",
            "    *   **Minimally Invasive Procedures:** Robotic surgery often involves smaller incisions, leading to reduced pain, scarring, and recovery time for patients.\n",
            "\n",
            "*   **D. Patient Monitoring and Management:** AI-enabled wearable devices and remote monitoring systems are transforming how we track patient health. These technologies continuously monitor vital signs, detect anomalies, and provide timely alerts to healthcare providers. This proactive approach allows for:\n",
            "    *   **Early Intervention:** Early detection of health problems can prevent serious complications and improve patient outcomes.\n",
            "    *   **Personalized Care:** AI can analyze patient data to provide personalized recommendations for lifestyle changes, medication adjustments, and other interventions.\n",
            "    *   **Improved Patient Engagement:** Remote monitoring systems can empower patients to take a more active role in their own care.\n",
            "\n",
            "*   **E. Administrative Tasks and Efficiency:** AI is streamlining the administrative burden that often plagues healthcare systems. Automation of tasks like:\n",
            "    *   **Appointment Scheduling:** AI-powered systems can optimize appointment scheduling, reducing wait times and improving patient satisfaction.\n",
            "    *   **Billing and Claims Processing:** AI can automate billing and claims processing, reducing errors and improving efficiency.\n",
            "    *   **Medical Record Management:** AI can assist in organizing and analyzing medical records, making it easier for healthcare providers to access and use patient information.\n",
            "    This increased efficiency can lead to reduced costs and improved patient satisfaction, freeing up healthcare professionals to focus on patient care.\n",
            "\n",
            "*   **F. Mental Health Support:** AI is making significant inroads in mental health support, offering:\n",
            "    *   **Accessible and Affordable Care:** AI-powered chatbots and virtual assistants can provide 24/7 support, making mental health resources more accessible and affordable.\n",
            "    *   **Personalized Interventions:** AI can tailor interventions to individual patient needs, providing personalized support and guidance.\n",
            "    *   **Reduced Stigma:** AI-powered tools can help reduce the stigma associated with seeking mental health care by providing a safe and anonymous space for patients to seek help.\n",
            "    *   **Monitoring Patient Progress:** AI can track patient progress and provide feedback to both patients and healthcare providers.\n",
            "\n",
            "**II. Key Research Trends: Shaping the Future of AI in Healthcare**\n",
            "\n",
            "Ongoing research is driving innovation and addressing the challenges associated with AI implementation in healthcare:\n",
            "\n",
            "*   **A. Explainable AI (XAI):** Building trust and facilitating clinical adoption requires transparency. XAI focuses on developing AI models that provide understandable explanations for their decisions. This allows clinicians to:\n",
            "    *   **Understand the Reasoning:** Clinicians can understand the factors that influenced the AI's recommendations, fostering confidence in the system.\n",
            "    *   **Validate Results:** Clinicians can validate the AI's findings and ensure that they align with their own clinical judgment.\n",
            "    *   **Improve Clinical Decision-Making:** XAI can help clinicians make more informed decisions by providing them with a deeper understanding of the underlying data and the AI's reasoning process.\n",
            "\n",
            "*   **B. Data Privacy and Security:** Protecting sensitive patient data is paramount. Research is focused on developing secure AI systems and establishing robust ethical guidelines to ensure patient privacy and data security. This includes exploring techniques like:\n",
            "    *   **Federated Learning:** This allows AI models to be trained on decentralized data without compromising patient confidentiality by keeping the data local and only sharing model updates.\n",
            "    *   **Differential Privacy:** This adds noise to the data to protect patient privacy while still allowing AI models to learn from the data.\n",
            "    *   **Blockchain Technology:** This can be used to create secure and transparent data storage and sharing systems.\n",
            "\n",
            "*   **C. Bias Detection and Mitigation:** AI algorithms are trained on data, and if that data reflects existing biases, the algorithms can perpetuate and even amplify those biases. Research is actively focused on:\n",
            "    *   **Identifying Biases:** Researchers are developing methods to identify biases in AI models and the data they are trained on.\n",
            "    *   **Mitigating Biases:** Researchers are developing techniques to mitigate biases in AI models, such as using more diverse datasets, developing fairness-aware algorithms, and auditing AI systems for bias.\n",
            "    *   **Ensuring Equitable Outcomes:** The goal is to ensure that AI systems provide equitable healthcare outcomes for all patients, regardless of their race, ethnicity, gender, or socioeconomic status.\n",
            "\n",
            "*   **D. Integration with Electronic Health Records (EHRs):** Seamless integration of AI tools with existing EHR systems is crucial for improving data accessibility and workflow efficiency. Research is focused on:\n",
            "    *   **Developing Interoperable Systems:** Researchers are developing interoperable systems that can seamlessly exchange data between AI tools and EHRs.\n",
            "    *   **Improving Data Accessibility:** AI tools can be integrated with EHRs to provide clinicians with a comprehensive view of patient information, including medical history, lab results, and imaging data.\n",
            "    *   **Streamlining Workflows:** AI can automate tasks within EHRs, such as data entry and report generation, freeing up clinicians to focus on patient care.\n",
            "\n",
            "*   **E. Real-World Evidence and Clinical Validation:** Rigorous clinical trials and real-world studies are essential to validate the effectiveness and safety of AI-based healthcare solutions. This research provides the evidence needed to:\n",
            "    *   **Support Regulatory Approvals:** Clinical trials and real-world studies are used to demonstrate the safety and efficacy of AI-based healthcare solutions to regulatory agencies.\n",
            "    *   **Ensure Effectiveness in Real-World Settings:** These studies provide evidence that AI tools are delivering on their promises in real-world clinical settings.\n",
            "    *   **Improve AI Models:** Real-world data can be used to improve AI models and make them more accurate and reliable.\n",
            "\n",
            "**III. Challenges and Considerations: Navigating the Path Forward**\n",
            "\n",
            "While the potential of AI in healthcare is immense, several challenges must be addressed for successful and responsible implementation:\n",
            "\n",
            "*   **A. Data Availability and Quality:** Training effective AI models requires access to large, high-quality, and diverse datasets. The availability of such data, along with ensuring its accuracy, representativeness, and completeness, remains a significant hurdle. This includes:\n",
            "    *   **Data Acquisition:** Accessing and acquiring sufficient data can be challenging, particularly for rare diseases or specific patient populations.\n",
            "    *   **Data Standardization:** Data from different sources may be in different formats, making it difficult to combine and analyze.\n",
            "    *   **Data Cleaning and Preprocessing:** Data often needs to be cleaned and preprocessed to remove errors and inconsistencies.\n",
            "\n",
            "*   **B. Regulatory Hurdles:** Navigating the complex regulatory landscape, including data privacy regulations like HIPAA, is crucial. Clear guidelines and streamlined approval processes are needed to facilitate the adoption of AI-based solutions. This includes:\n",
            "    *   **Regulatory Clarity:** Regulatory agencies need to provide clear guidance on the approval process for AI-based healthcare solutions.\n",
            "    *   **Data Privacy Regulations:** AI systems must comply with data privacy regulations, such as HIPAA, to protect patient data.\n",
            "    *   **Liability and Accountability:** Clear guidelines are needed to determine liability and accountability for AI-related errors or adverse events.\n",
            "\n",
            "*   **C. Ethical Considerations:** Addressing ethical concerns related to data privacy, algorithmic bias, and the potential impact on the doctor-patient relationship is paramount. Careful consideration of these ethical implications is essential for building trust and ensuring responsible AI implementation. This includes:\n",
            "    *   **Data Privacy and Security:** Protecting patient data from unauthorized access and use is essential.\n",
            "    *   **Algorithmic Bias:** AI algorithms can perpetuate and amplify existing biases, leading to unfair or discriminatory outcomes.\n",
            "    *   **Transparency and Explainability:** AI systems should be transparent and explainable so that clinicians and patients can understand how they work and why they make certain decisions.\n",
            "    *   **Impact on the Doctor-Patient Relationship:** AI should be used to augment, not replace, the doctor-patient relationship.\n",
            "\n",
            "*   **D. Implementation and Adoption:** Overcoming barriers to adoption, including clinician resistance, lack of infrastructure, and high implementation costs, is critical. Effective training programs, user-friendly interfaces, and clear demonstrations of value are needed to facilitate widespread adoption. This includes:\n",
            "    *   **Clinician Training:** Healthcare professionals need to be trained on how to use and interpret AI-based tools.\n",
            "    *   **User-Friendly Interfaces:** AI tools should be easy to use and integrate seamlessly into existing workflows.\n",
            "    *   **Demonstrating Value:** The benefits of AI-based tools need to be clearly demonstrated to clinicians and patients.\n",
            "    *   **Infrastructure and Resources:** Adequate infrastructure and resources are needed to support the implementation and maintenance of AI systems.\n",
            "\n",
            "**IV. Conclusion: A Promising Future, Guided by Responsibility**\n",
            "\n",
            "AI holds immense promise for revolutionizing healthcare, offering the potential to improve patient care, reduce costs, and create a more efficient healthcare system. Ongoing research is addressing the challenges and paving the way for the widespread adoption of AI-powered solutions. However, the responsible and sustainable implementation of AI in healthcare requires careful consideration of ethical implications, data privacy, regulatory frameworks, and the need for continuous evaluation and improvement. By addressing these challenges proactively, we can harness the power of AI to create a healthier future for all. This future demands a collaborative approach, involving researchers, clinicians, policymakers, and patients, to ensure that AI is used ethically, effectively, and equitably to benefit all members of society.\n",
            "\n"
          ]
        },
        {
          "output_type": "display_data",
          "data": {
            "text/plain": [
              "\u001b[1;34m🌊 Flow: \u001b[0m\u001b[34mComplexContentFlow\u001b[0m\n",
              "\u001b[37m    ID: \u001b[0m\u001b[34m573831bf-836a-4f33-9cc5-900c9f4203f9\u001b[0m\n",
              "├── \u001b[37mFlow Method Step\u001b[0m\n",
              "├── \u001b[1;32m✅ Completed:\u001b[0m\u001b[1;32m get_topic\u001b[0m\n",
              "├── \u001b[1;32m✅ Completed:\u001b[0m\u001b[1;32m conduct_research\u001b[0m\n",
              "├── \u001b[1;32m✅ Completed:\u001b[0m\u001b[1;32m write_draft\u001b[0m\n",
              "├── \u001b[1;32m✅ Completed:\u001b[0m\u001b[1;32m select_editing_path\u001b[0m\n",
              "└── \u001b[1;32m✅ Completed:\u001b[0m\u001b[1;32m heavy_editing\u001b[0m\n"
            ],
            "text/html": [
              "<pre style=\"white-space:pre;overflow-x:auto;line-height:normal;font-family:Menlo,'DejaVu Sans Mono',consolas,'Courier New',monospace\"><span style=\"color: #000080; text-decoration-color: #000080; font-weight: bold\">🌊 Flow: </span><span style=\"color: #000080; text-decoration-color: #000080\">ComplexContentFlow</span>\n",
              "<span style=\"color: #c0c0c0; text-decoration-color: #c0c0c0\">    ID: </span><span style=\"color: #000080; text-decoration-color: #000080\">573831bf-836a-4f33-9cc5-900c9f4203f9</span>\n",
              "├── <span style=\"color: #c0c0c0; text-decoration-color: #c0c0c0\">Flow Method Step</span>\n",
              "├── <span style=\"color: #008000; text-decoration-color: #008000; font-weight: bold\">✅ Completed: get_topic</span>\n",
              "├── <span style=\"color: #008000; text-decoration-color: #008000; font-weight: bold\">✅ Completed: conduct_research</span>\n",
              "├── <span style=\"color: #008000; text-decoration-color: #008000; font-weight: bold\">✅ Completed: write_draft</span>\n",
              "├── <span style=\"color: #008000; text-decoration-color: #008000; font-weight: bold\">✅ Completed: select_editing_path</span>\n",
              "└── <span style=\"color: #008000; text-decoration-color: #008000; font-weight: bold\">✅ Completed: heavy_editing</span>\n",
              "</pre>\n"
            ]
          },
          "metadata": {}
        },
        {
          "output_type": "display_data",
          "data": {
            "text/plain": [
              "\n"
            ],
            "text/html": [
              "<pre style=\"white-space:pre;overflow-x:auto;line-height:normal;font-family:Menlo,'DejaVu Sans Mono',consolas,'Courier New',monospace\">\n",
              "</pre>\n"
            ]
          },
          "metadata": {}
        },
        {
          "output_type": "display_data",
          "data": {
            "text/plain": [
              "\u001b[1;34m🌊 Flow: \u001b[0m\u001b[34mComplexContentFlow\u001b[0m\n",
              "\u001b[37m    ID: \u001b[0m\u001b[34m573831bf-836a-4f33-9cc5-900c9f4203f9\u001b[0m\n",
              "├── \u001b[37mFlow Method Step\u001b[0m\n",
              "├── \u001b[1;32m✅ Completed:\u001b[0m\u001b[1;32m get_topic\u001b[0m\n",
              "├── \u001b[1;32m✅ Completed:\u001b[0m\u001b[1;32m conduct_research\u001b[0m\n",
              "├── \u001b[1;32m✅ Completed:\u001b[0m\u001b[1;32m write_draft\u001b[0m\n",
              "├── \u001b[1;32m✅ Completed:\u001b[0m\u001b[1;32m select_editing_path\u001b[0m\n",
              "├── \u001b[1;32m✅ Completed:\u001b[0m\u001b[1;32m heavy_editing\u001b[0m\n",
              "└── \u001b[1;33m🔄 Running:\u001b[0m\u001b[1;33m compile_article\u001b[0m\n"
            ],
            "text/html": [
              "<pre style=\"white-space:pre;overflow-x:auto;line-height:normal;font-family:Menlo,'DejaVu Sans Mono',consolas,'Courier New',monospace\"><span style=\"color: #000080; text-decoration-color: #000080; font-weight: bold\">🌊 Flow: </span><span style=\"color: #000080; text-decoration-color: #000080\">ComplexContentFlow</span>\n",
              "<span style=\"color: #c0c0c0; text-decoration-color: #c0c0c0\">    ID: </span><span style=\"color: #000080; text-decoration-color: #000080\">573831bf-836a-4f33-9cc5-900c9f4203f9</span>\n",
              "├── <span style=\"color: #c0c0c0; text-decoration-color: #c0c0c0\">Flow Method Step</span>\n",
              "├── <span style=\"color: #008000; text-decoration-color: #008000; font-weight: bold\">✅ Completed: get_topic</span>\n",
              "├── <span style=\"color: #008000; text-decoration-color: #008000; font-weight: bold\">✅ Completed: conduct_research</span>\n",
              "├── <span style=\"color: #008000; text-decoration-color: #008000; font-weight: bold\">✅ Completed: write_draft</span>\n",
              "├── <span style=\"color: #008000; text-decoration-color: #008000; font-weight: bold\">✅ Completed: select_editing_path</span>\n",
              "├── <span style=\"color: #008000; text-decoration-color: #008000; font-weight: bold\">✅ Completed: heavy_editing</span>\n",
              "└── <span style=\"color: #808000; text-decoration-color: #808000; font-weight: bold\">🔄 Running: compile_article</span>\n",
              "</pre>\n"
            ]
          },
          "metadata": {}
        },
        {
          "output_type": "display_data",
          "data": {
            "text/plain": [
              "\n"
            ],
            "text/html": [
              "<pre style=\"white-space:pre;overflow-x:auto;line-height:normal;font-family:Menlo,'DejaVu Sans Mono',consolas,'Courier New',monospace\">\n",
              "</pre>\n"
            ]
          },
          "metadata": {}
        },
        {
          "output_type": "stream",
          "name": "stdout",
          "text": [
            "Article compiled: Final article: ## The AI Revolution in Healthcare: Transforming Care and Shaping the Future\n",
            "\n",
            "Artificial intelligence (AI) is rapidly transforming healthcare, moving beyond futuristic concepts to become a powerful force reshaping how we diagnose, treat, and manage patient care. From sophisticated diagnostic tools to robotic surgical assistants, AI promises to revolutionize the industry, offering the potential for improved efficiency, accuracy, and, ultimately, better patient outcomes. This article provides a comprehensive overview of the current state of AI in healthcare, exploring its key applications, research trends, challenges, and future prospects.\n",
            "\n",
            "**I. Key Applications: A Spectrum of Innovation**\n",
            "\n",
            "AI's impact is being felt across a wide spectrum of healthcare applications, each offering unique opportunities to improve patient care and streamline processes:\n",
            "\n",
            "*   **A. Diagnosis and Treatment:** Perhaps the most prominent application, AI algorithms, particularly those based on deep learning, are proving remarkably adept at analyzing medical images. This includes X-rays, MRIs, and CT scans, enabling earlier and more accurate detection of diseases like cancer, cardiovascular disease, and neurological disorders. Beyond image analysis, AI is also used to predict patient risk, personalize treatment plans based on individual patient characteristics (e.g., genomics, lifestyle), and optimize therapeutic strategies, including drug dosages and treatment schedules.\n",
            "\n",
            "*   **B. Drug Discovery and Development:** The traditional drug development process is notoriously lengthy and expensive, often taking over a decade and billions of dollars. AI is accelerating this process by:\n",
            "    *   **Identifying Potential Drug Candidates:** AI algorithms can analyze vast datasets of biological information to identify promising drug targets and predict the efficacy of potential drug candidates.\n",
            "    *   **Optimizing Drug Design:** AI can assist in designing new drugs with improved properties, such as increased potency and reduced side effects.\n",
            "    *   **Streamlining Clinical Trials:** AI can optimize the design of clinical trials, identify suitable patient populations, and predict trial outcomes, significantly reducing both the time and cost associated with bringing new medications to market.\n",
            "\n",
            "*   **C. Robotics and Surgery:** AI-powered robots are increasingly assisting surgeons in complex procedures. These robots enhance precision, minimize invasiveness, and can lead to faster patient recovery times. The integration of AI allows for:\n",
            "    *   **Enhanced Precision and Dexterity:** Robots offer greater control and accuracy than human hands, enabling surgeons to perform intricate procedures with greater precision.\n",
            "    *   **Improved Visualization:** AI can enhance surgical visualization, providing surgeons with a clearer and more detailed view of the surgical field.\n",
            "    *   **Minimally Invasive Procedures:** Robotic surgery often involves smaller incisions, leading to reduced pain, scarring, and recovery time for patients.\n",
            "\n",
            "*   **D. Patient Monitoring and Management:** AI-enabled wearable devices and remote monitoring systems are transforming how we track patient health. These technologies continuously monitor vital signs, detect anomalies, and provide timely alerts to healthcare providers. This proactive approach allows for:\n",
            "    *   **Early Intervention:** Early detection of health problems can prevent serious complications and improve patient outcomes.\n",
            "    *   **Personalized Care:** AI can analyze patient data to provide personalized recommendations for lifestyle changes, medication adjustments, and other interventions.\n",
            "    *   **Improved Patient Engagement:** Remote monitoring systems can empower patients to take a more active role in their own care.\n",
            "\n",
            "*   **E. Administrative Tasks and Efficiency:** AI is streamlining the administrative burden that often plagues healthcare systems. Automation of tasks like:\n",
            "    *   **Appointment Scheduling:** AI-powered systems can optimize appointment scheduling, reducing wait times and improving patient satisfaction.\n",
            "    *   **Billing and Claims Processing:** AI can automate billing and claims processing, reducing errors and improving efficiency.\n",
            "    *   **Medical Record Management:** AI can assist in organizing and analyzing medical records, making it easier for healthcare providers to access and use patient information.\n",
            "    This increased efficiency can lead to reduced costs and improved patient satisfaction, freeing up healthcare professionals to focus on patient care.\n",
            "\n",
            "*   **F. Mental Health Support:** AI is making significant inroads in mental health support, offering:\n",
            "    *   **Accessible and Affordable Care:** AI-powered chatbots and virtual assistants can provide 24/7 support, making mental health resources more accessible and affordable.\n",
            "    *   **Personalized Interventions:** AI can tailor interventions to individual patient needs, providing personalized support and guidance.\n",
            "    *   **Reduced Stigma:** AI-powered tools can help reduce the stigma associated with seeking mental health care by providing a safe and anonymous space for patients to seek help.\n",
            "    *   **Monitoring Patient Progress:** AI can track patient progress and provide feedback to both patients and healthcare providers.\n",
            "\n",
            "**II. Key Research Trends: Shaping the Future of AI in Healthcare**\n",
            "\n",
            "Ongoing research is driving innovation and addressing the challenges associated with AI implementation in healthcare:\n",
            "\n",
            "*   **A. Explainable AI (XAI):** Building trust and facilitating clinical adoption requires transparency. XAI focuses on developing AI models that provide understandable explanations for their decisions. This allows clinicians to:\n",
            "    *   **Understand the Reasoning:** Clinicians can understand the factors that influenced the AI's recommendations, fostering confidence in the system.\n",
            "    *   **Validate Results:** Clinicians can validate the AI's findings and ensure that they align with their own clinical judgment.\n",
            "    *   **Improve Clinical Decision-Making:** XAI can help clinicians make more informed decisions by providing them with a deeper understanding of the underlying data and the AI's reasoning process.\n",
            "\n",
            "*   **B. Data Privacy and Security:** Protecting sensitive patient data is paramount. Research is focused on developing secure AI systems and establishing robust ethical guidelines to ensure patient privacy and data security. This includes exploring techniques like:\n",
            "    *   **Federated Learning:** This allows AI models to be trained on decentralized data without compromising patient confidentiality by keeping the data local and only sharing model updates.\n",
            "    *   **Differential Privacy:** This adds noise to the data to protect patient privacy while still allowing AI models to learn from the data.\n",
            "    *   **Blockchain Technology:** This can be used to create secure and transparent data storage and sharing systems.\n",
            "\n",
            "*   **C. Bias Detection and Mitigation:** AI algorithms are trained on data, and if that data reflects existing biases, the algorithms can perpetuate and even amplify those biases. Research is actively focused on:\n",
            "    *   **Identifying Biases:** Researchers are developing methods to identify biases in AI models and the data they are trained on.\n",
            "    *   **Mitigating Biases:** Researchers are developing techniques to mitigate biases in AI models, such as using more diverse datasets, developing fairness-aware algorithms, and auditing AI systems for bias.\n",
            "    *   **Ensuring Equitable Outcomes:** The goal is to ensure that AI systems provide equitable healthcare outcomes for all patients, regardless of their race, ethnicity, gender, or socioeconomic status.\n",
            "\n",
            "*   **D. Integration with Electronic Health Records (EHRs):** Seamless integration of AI tools with existing EHR systems is crucial for improving data accessibility and workflow efficiency. Research is focused on:\n",
            "    *   **Developing Interoperable Systems:** Researchers are developing interoperable systems that can seamlessly exchange data between AI tools and EHRs.\n",
            "    *   **Improving Data Accessibility:** AI tools can be integrated with EHRs to provide clinicians with a comprehensive view of patient information, including medical history, lab results, and imaging data.\n",
            "    *   **Streamlining Workflows:** AI can automate tasks within EHRs, such as data entry and report generation, freeing up clinicians to focus on patient care.\n",
            "\n",
            "*   **E. Real-World Evidence and Clinical Validation:** Rigorous clinical trials and real-world studies are essential to validate the effectiveness and safety of AI-based healthcare solutions. This research provides the evidence needed to:\n",
            "    *   **Support Regulatory Approvals:** Clinical trials and real-world studies are used to demonstrate the safety and efficacy of AI-based healthcare solutions to regulatory agencies.\n",
            "    *   **Ensure Effectiveness in Real-World Settings:** These studies provide evidence that AI tools are delivering on their promises in real-world clinical settings.\n",
            "    *   **Improve AI Models:** Real-world data can be used to improve AI models and make them more accurate and reliable.\n",
            "\n",
            "**III. Challenges and Considerations: Navigating the Path Forward**\n",
            "\n",
            "While the potential of AI in healthcare is immense, several challenges must be addressed for successful and responsible implementation:\n",
            "\n",
            "*   **A. Data Availability and Quality:** Training effective AI models requires access to large, high-quality, and diverse datasets. The availability of such data, along with ensuring its accuracy, representativeness, and completeness, remains a significant hurdle. This includes:\n",
            "    *   **Data Acquisition:** Accessing and acquiring sufficient data can be challenging, particularly for rare diseases or specific patient populations.\n",
            "    *   **Data Standardization:** Data from different sources may be in different formats, making it difficult to combine and analyze.\n",
            "    *   **Data Cleaning and Preprocessing:** Data often needs to be cleaned and preprocessed to remove errors and inconsistencies.\n",
            "\n",
            "*   **B. Regulatory Hurdles:** Navigating the complex regulatory landscape, including data privacy regulations like HIPAA, is crucial. Clear guidelines and streamlined approval processes are needed to facilitate the adoption of AI-based solutions. This includes:\n",
            "    *   **Regulatory Clarity:** Regulatory agencies need to provide clear guidance on the approval process for AI-based healthcare solutions.\n",
            "    *   **Data Privacy Regulations:** AI systems must comply with data privacy regulations, such as HIPAA, to protect patient data.\n",
            "    *   **Liability and Accountability:** Clear guidelines are needed to determine liability and accountability for AI-related errors or adverse events.\n",
            "\n",
            "*   **C. Ethical Considerations:** Addressing ethical concerns related to data privacy, algorithmic bias, and the potential impact on the doctor-patient relationship is paramount. Careful consideration of these ethical implications is essential for building trust and ensuring responsible AI implementation. This includes:\n",
            "    *   **Data Privacy and Security:** Protecting patient data from unauthorized access and use is essential.\n",
            "    *   **Algorithmic Bias:** AI algorithms can perpetuate and amplify existing biases, leading to unfair or discriminatory outcomes.\n",
            "    *   **Transparency and Explainability:** AI systems should be transparent and explainable so that clinicians and patients can understand how they work and why they make certain decisions.\n",
            "    *   **Impact on the Doctor-Patient Relationship:** AI should be used to augment, not replace, the doctor-patient relationship.\n",
            "\n",
            "*   **D. Implementation and Adoption:** Overcoming barriers to adoption, including clinician resistance, lack of infrastructure, and high implementation costs, is critical. Effective training programs, user-friendly interfaces, and clear demonstrations of value are needed to facilitate widespread adoption. This includes:\n",
            "    *   **Clinician Training:** Healthcare professionals need to be trained on how to use and interpret AI-based tools.\n",
            "    *   **User-Friendly Interfaces:** AI tools should be easy to use and integrate seamlessly into existing workflows.\n",
            "    *   **Demonstrating Value:** The benefits of AI-based tools need to be clearly demonstrated to clinicians and patients.\n",
            "    *   **Infrastructure and Resources:** Adequate infrastructure and resources are needed to support the implementation and maintenance of AI systems.\n",
            "\n",
            "**IV. Conclusion: A Promising Future, Guided by Responsibility**\n",
            "\n",
            "AI holds immense promise for revolutionizing healthcare, offering the potential to improve patient care, reduce costs, and create a more efficient healthcare system. Ongoing research is addressing the challenges and paving the way for the widespread adoption of AI-powered solutions. However, the responsible and sustainable implementation of AI in healthcare requires careful consideration of ethical implications, data privacy, regulatory frameworks, and the need for continuous evaluation and improvement. By addressing these challenges proactively, we can harness the power of AI to create a healthier future for all. This future demands a collaborative approach, involving researchers, clinicians, policymakers, and patients, to ensure that AI is used ethically, effectively, and equitably to benefit all members of society.\n",
            "\n"
          ]
        },
        {
          "output_type": "display_data",
          "data": {
            "text/plain": [
              "\u001b[1;34m🌊 Flow: \u001b[0m\u001b[34mComplexContentFlow\u001b[0m\n",
              "\u001b[37m    ID: \u001b[0m\u001b[34m573831bf-836a-4f33-9cc5-900c9f4203f9\u001b[0m\n",
              "├── \u001b[37mFlow Method Step\u001b[0m\n",
              "├── \u001b[1;32m✅ Completed:\u001b[0m\u001b[1;32m get_topic\u001b[0m\n",
              "├── \u001b[1;32m✅ Completed:\u001b[0m\u001b[1;32m conduct_research\u001b[0m\n",
              "├── \u001b[1;32m✅ Completed:\u001b[0m\u001b[1;32m write_draft\u001b[0m\n",
              "├── \u001b[1;32m✅ Completed:\u001b[0m\u001b[1;32m select_editing_path\u001b[0m\n",
              "├── \u001b[1;32m✅ Completed:\u001b[0m\u001b[1;32m heavy_editing\u001b[0m\n",
              "└── \u001b[1;32m✅ Completed:\u001b[0m\u001b[1;32m compile_article\u001b[0m\n"
            ],
            "text/html": [
              "<pre style=\"white-space:pre;overflow-x:auto;line-height:normal;font-family:Menlo,'DejaVu Sans Mono',consolas,'Courier New',monospace\"><span style=\"color: #000080; text-decoration-color: #000080; font-weight: bold\">🌊 Flow: </span><span style=\"color: #000080; text-decoration-color: #000080\">ComplexContentFlow</span>\n",
              "<span style=\"color: #c0c0c0; text-decoration-color: #c0c0c0\">    ID: </span><span style=\"color: #000080; text-decoration-color: #000080\">573831bf-836a-4f33-9cc5-900c9f4203f9</span>\n",
              "├── <span style=\"color: #c0c0c0; text-decoration-color: #c0c0c0\">Flow Method Step</span>\n",
              "├── <span style=\"color: #008000; text-decoration-color: #008000; font-weight: bold\">✅ Completed: get_topic</span>\n",
              "├── <span style=\"color: #008000; text-decoration-color: #008000; font-weight: bold\">✅ Completed: conduct_research</span>\n",
              "├── <span style=\"color: #008000; text-decoration-color: #008000; font-weight: bold\">✅ Completed: write_draft</span>\n",
              "├── <span style=\"color: #008000; text-decoration-color: #008000; font-weight: bold\">✅ Completed: select_editing_path</span>\n",
              "├── <span style=\"color: #008000; text-decoration-color: #008000; font-weight: bold\">✅ Completed: heavy_editing</span>\n",
              "└── <span style=\"color: #008000; text-decoration-color: #008000; font-weight: bold\">✅ Completed: compile_article</span>\n",
              "</pre>\n"
            ]
          },
          "metadata": {}
        },
        {
          "output_type": "display_data",
          "data": {
            "text/plain": [
              "\n"
            ],
            "text/html": [
              "<pre style=\"white-space:pre;overflow-x:auto;line-height:normal;font-family:Menlo,'DejaVu Sans Mono',consolas,'Courier New',monospace\">\n",
              "</pre>\n"
            ]
          },
          "metadata": {}
        },
        {
          "output_type": "display_data",
          "data": {
            "text/plain": [
              "\u001b[1;32m✅ Flow Finished: \u001b[0m\u001b[32mComplexContentFlow\u001b[0m\n",
              "├── \u001b[37mFlow Method Step\u001b[0m\n",
              "├── \u001b[1;32m✅ Completed:\u001b[0m\u001b[1;32m get_topic\u001b[0m\n",
              "├── \u001b[1;32m✅ Completed:\u001b[0m\u001b[1;32m conduct_research\u001b[0m\n",
              "├── \u001b[1;32m✅ Completed:\u001b[0m\u001b[1;32m write_draft\u001b[0m\n",
              "├── \u001b[1;32m✅ Completed:\u001b[0m\u001b[1;32m select_editing_path\u001b[0m\n",
              "├── \u001b[1;32m✅ Completed:\u001b[0m\u001b[1;32m heavy_editing\u001b[0m\n",
              "└── \u001b[1;32m✅ Completed:\u001b[0m\u001b[1;32m compile_article\u001b[0m\n"
            ],
            "text/html": [
              "<pre style=\"white-space:pre;overflow-x:auto;line-height:normal;font-family:Menlo,'DejaVu Sans Mono',consolas,'Courier New',monospace\"><span style=\"color: #008000; text-decoration-color: #008000; font-weight: bold\">✅ Flow Finished: </span><span style=\"color: #008000; text-decoration-color: #008000\">ComplexContentFlow</span>\n",
              "├── <span style=\"color: #c0c0c0; text-decoration-color: #c0c0c0\">Flow Method Step</span>\n",
              "├── <span style=\"color: #008000; text-decoration-color: #008000; font-weight: bold\">✅ Completed: get_topic</span>\n",
              "├── <span style=\"color: #008000; text-decoration-color: #008000; font-weight: bold\">✅ Completed: conduct_research</span>\n",
              "├── <span style=\"color: #008000; text-decoration-color: #008000; font-weight: bold\">✅ Completed: write_draft</span>\n",
              "├── <span style=\"color: #008000; text-decoration-color: #008000; font-weight: bold\">✅ Completed: select_editing_path</span>\n",
              "├── <span style=\"color: #008000; text-decoration-color: #008000; font-weight: bold\">✅ Completed: heavy_editing</span>\n",
              "└── <span style=\"color: #008000; text-decoration-color: #008000; font-weight: bold\">✅ Completed: compile_article</span>\n",
              "</pre>\n"
            ]
          },
          "metadata": {}
        }
      ]
    }
  ]
}